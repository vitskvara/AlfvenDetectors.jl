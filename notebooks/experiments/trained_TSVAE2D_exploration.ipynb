{
 "cells": [
  {
   "cell_type": "markdown",
   "metadata": {},
   "source": [
    "### In thi notebook we shall look at some of the trrained models on different types of data to see whether there is some kind of structure int he latent space. UMAP will be needed in those cases where the dimensionality of the latent space is > 2. Use only TSVAE pretrained models as the should contain about the same information as AE and definitely the same as VAE."
   ]
  },
  {
   "cell_type": "code",
   "execution_count": null,
   "metadata": {},
   "outputs": [],
   "source": [
    "using AlfvenDetectors\n",
    "using Flux\n",
    "using ValueHistories\n",
    "using BSON\n",
    "using PyPlot\n",
    "using Dates\n",
    "using PyCall\n",
    "umap = pyimport(\"umap\")"
   ]
  },
  {
   "cell_type": "code",
   "execution_count": null,
   "metadata": {},
   "outputs": [],
   "source": [
    "datapath = \"/home/vit/vyzkum/alfven/cdb_data/data_sample/\"\n",
    "shots = readdir(datapath)\n",
    "shotlist = joinpath.(datapath, shots)"
   ]
  },
  {
   "cell_type": "code",
   "execution_count": null,
   "metadata": {},
   "outputs": [],
   "source": [
    "measurement_type = \"uprobe\"\n",
    "basemodelpath = \"/home/vit/vyzkum/alfven/experiments/single_col/\"\n",
    "modelpath = joinpath(basemodelpath, measurement_type)\n",
    "if measurement_type == \"mscamp\"\n",
    "    readfun = AlfvenDetectors.readmscamp\n",
    "elseif measurement_type == \"mscphase\"\n",
    "    readfun = AlfvenDetectors.readnormmscphase\n",
    "elseif measurement_type == \"mscampphase\"\n",
    "    readfun = AlfvenDetectors.readmscampphase\n",
    "elseif measurement_type == \"uprobe\"\n",
    "    readfun = AlfvenDetectors.readnormlogupsd\n",
    "end\n",
    "coils = [12,13,14];\n",
    "# also if using uprobe, only use a few shots\n",
    "if measurement_type == \"uprobe\"\n",
    "    shotlist = shotlist[9:12]\n",
    "end"
   ]
  },
  {
   "cell_type": "code",
   "execution_count": null,
   "metadata": {},
   "outputs": [],
   "source": [
    "if measurement_type == \"uprobe\"\n",
    "    rawdata = AlfvenDetectors.collect_signals(shotlist, readfun)\n",
    "else\n",
    "    rawdata = AlfvenDetectors.collect_signals(shotlist, readfun, coils)\n",
    "end\n",
    "data = rawdata;\n",
    "M,N = size(data)"
   ]
  },
  {
   "cell_type": "code",
   "execution_count": null,
   "metadata": {},
   "outputs": [],
   "source": [
    "models = readdir(modelpath)"
   ]
  },
  {
   "cell_type": "markdown",
   "metadata": {},
   "source": [
    "### Now lets look at a particular model"
   ]
  },
  {
   "cell_type": "code",
   "execution_count": null,
   "metadata": {},
   "outputs": [],
   "source": [
    "modelname = \"TSVAE\"\n",
    "ldim = 2\n",
    "imodel = 1\n",
    "submodels = filter(x->x[1:length(modelname)] == modelname, models)\n",
    "submodels = filter(x->occursin(\"ldim-$ldim\",x), submodels)\n",
    "bsonpath = joinpath(modelpath,submodels[imodel])\n",
    "submodels"
   ]
  },
  {
   "cell_type": "code",
   "execution_count": null,
   "metadata": {},
   "outputs": [],
   "source": [
    "showtime(time) = Dates.canonicalize(Dates.CompoundPeriod(Dates.Second(floor(Int,time))))"
   ]
  },
  {
   "cell_type": "code",
   "execution_count": null,
   "metadata": {},
   "outputs": [],
   "source": [
    "modeldata = BSON.load(bsonpath)\n",
    "model = modeldata[:model]\n",
    "history = modeldata[:history]\n",
    "time = modeldata[:time]\n",
    "println(\"Training time: $(showtime(time))\" )"
   ]
  },
  {
   "cell_type": "code",
   "execution_count": null,
   "metadata": {},
   "outputs": [],
   "source": [
    "function plotvaeprogress(h)\n",
    "    plot(get(h, :loss)..., label=\"loss\")\n",
    "    plot(get(h, :loglikelihood)..., label=\"-loglikelihood\")\n",
    "    plot(get(h, :KL)..., label=\"KL\")\n",
    "end"
   ]
  },
  {
   "cell_type": "code",
   "execution_count": null,
   "metadata": {},
   "outputs": [],
   "source": [
    "if modelname == \"TSVAE\"\n",
    "    figure()\n",
    "    title(\"training progress - model 1\")\n",
    "    h = history[1]\n",
    "    plotvaeprogress(h)\n",
    "    legend()\n",
    "    \n",
    "    figure()\n",
    "    title(\"training progress - model 2\")\n",
    "    h = history[2]\n",
    "    plotvaeprogress(h)\n",
    "    legend()\n",
    "end"
   ]
  },
  {
   "cell_type": "code",
   "execution_count": null,
   "metadata": {},
   "outputs": [],
   "source": [
    "X = data[:,1:10000]\n",
    "rX = model(X).data[1:end-1,:]\n",
    "srX = AlfvenDetectors.samplenormal_scalarvar(model(X).data)\n",
    "pcolormesh(X)\n",
    "title(\"original data\")\n",
    "figure()\n",
    "title(\"reconstructed data\")\n",
    "pcolormesh(rX)\n",
    "figure()\n",
    "title(\"sampled reconstructed data\")\n",
    "pcolormesh(srX)"
   ]
  },
  {
   "cell_type": "code",
   "execution_count": null,
   "metadata": {},
   "outputs": [],
   "source": [
    "z = model.m1.encoder(data).data;\n",
    "sz = model.m1.sampler(z);\n",
    "z = z[1:ldim,:]\n",
    "u = model.m2.encoder(z).data;\n",
    "#u = model.m2.encoder(sz).data;\n",
    "su = model.m2.sampler(u);\n",
    "u = u[1:ldim,:]\n",
    "GC.gc()"
   ]
  },
  {
   "cell_type": "code",
   "execution_count": null,
   "metadata": {},
   "outputs": [],
   "source": [
    "z_umap_model = umap.UMAP(n_components = 2, n_neighbors=15, min_dist=0.1)    \n",
    "if ldim > 2\n",
    "    #@time Matrix(umap_model.fit_transform((z[:,1:1000])')')\n",
    "    @time z2D = Matrix(z_umap_model.fit_transform((z)')')\n",
    "else\n",
    "    z2D = z\n",
    "end"
   ]
  },
  {
   "cell_type": "code",
   "execution_count": null,
   "metadata": {},
   "outputs": [],
   "source": [
    "scatter(z2D[1,:], z2D[2,:], s= 2, alpha= 0.1)\n",
    "title(\"UMAP projection of the model1 latent space ($ldim -> 2)\")"
   ]
  },
  {
   "cell_type": "markdown",
   "metadata": {},
   "source": [
    "### Also lets look at model 2"
   ]
  },
  {
   "cell_type": "code",
   "execution_count": null,
   "metadata": {},
   "outputs": [],
   "source": [
    "u_umap_model = umap.UMAP(n_components = 2, n_neighbors=15, min_dist=0.1)\n",
    "if ldim > 2\n",
    "    #@time Matrix(umap_model.fit_transform((z[:,1:1000])')')\n",
    "    @time u2D = Matrix(u_umap_model.fit_transform((u)')')\n",
    "else\n",
    "    u2D = u\n",
    "end"
   ]
  },
  {
   "cell_type": "code",
   "execution_count": null,
   "metadata": {},
   "outputs": [],
   "source": [
    "scatter(u2D[1,:], u2D[2,:], s= 2, alpha= 0.1)\n",
    "title(\"UMAP projection of the model2 latent space ($ldim -> 2)\")"
   ]
  },
  {
   "cell_type": "markdown",
   "metadata": {},
   "source": [
    "### Try to select shots where there should be an Alfven mode and project them into the latent space."
   ]
  },
  {
   "cell_type": "code",
   "execution_count": null,
   "metadata": {},
   "outputs": [],
   "source": [
    "function get_shot_data_code_and_projection(shot, coil, readfun, m1_umap_model, m2_umap_model)\n",
    "    f = joinpath(datapath, \"Jldata$(shot).h5\")\n",
    "    if measurement_type == \"uprobe\"\n",
    "        data = AlfvenDetectors.get_ft_signal(f, readfun)\n",
    "    else\n",
    "        data = AlfvenDetectors.get_ft_signals(f, readfun, coil)\n",
    "    end\n",
    "    z = (model.m1.encoder(data).data)[1:ldim,:]\n",
    "    if ldim > 2\n",
    "        z2D = Matrix(m1_umap_model.transform(z')')\n",
    "    else\n",
    "        z2D = z\n",
    "    end\n",
    "    u = (model.m2.encoder(z).data)[1:ldim,:]\n",
    "    if ldim > 2\n",
    "        u2D = Matrix(m2_umap_model.transform(u')')\n",
    "    else\n",
    "        u2D = u\n",
    "    end\n",
    "    return data, z, z2D, u, u2D\n",
    "end"
   ]
  },
  {
   "cell_type": "code",
   "execution_count": null,
   "metadata": {},
   "outputs": [],
   "source": [
    "shotlist = [(10000,12), (10893,14), (10370,12)]\n",
    "alldata = map(x->get_shot_data_code_and_projection(x[1], x[2], readfun, z_umap_model, u_umap_model),shotlist);"
   ]
  },
  {
   "cell_type": "code",
   "execution_count": null,
   "metadata": {},
   "outputs": [],
   "source": [
    "for (shotinfo,shotdata) in zip(shotlist,alldata)\n",
    "    figure()\n",
    "    title(\"shot $(shotinfo[1]), coil $(shotinfo[2])\")\n",
    "    pcolormesh(shotdata[1])\n",
    "end"
   ]
  },
  {
   "cell_type": "code",
   "execution_count": null,
   "metadata": {},
   "outputs": [],
   "source": [
    "inds = 500:1000\n",
    "chirpx = alldata[2][1][:,inds]\n",
    "pcolormesh(chirpx)\n",
    "chirpz = (model.m1.encoder(chirpx).data)[1:ldim,:]"
   ]
  },
  {
   "cell_type": "code",
   "execution_count": null,
   "metadata": {},
   "outputs": [],
   "source": [
    "scatter(z2D[1,:], z2D[2,:], s=3, alpha= 0.1, label=\"all data\")\n",
    "for (shotinfo,shotdata) in zip(shotlist, alldata)\n",
    "    scatter(shotdata[3][1,:],shotdata[3][2,:], label=shotinfo[1], s=0.5,alpha=1)\n",
    "end\n",
    "scatter(chirpz[1,:], chirpz[2,:], label = \"10893 chirps\", s=0.5,alpha=1)\n",
    "legend()\n",
    "title(\"Model 1 latent space\")"
   ]
  },
  {
   "cell_type": "code",
   "execution_count": null,
   "metadata": {},
   "outputs": [],
   "source": [
    "scatter(u2D[1,:], u2D[2,:], s=3, alpha= 0.1, label=\"all data\")\n",
    "for (shotinfo,shotdata) in zip(shotlist, alldata)\n",
    "    scatter(shotdata[5][1,:],shotdata[5][2,:], label=shotinfo[1], s=0.5,alpha=1)\n",
    "end\n",
    "legend()\n",
    "title(\"Model 2 latent space\")"
   ]
  }
 ],
 "metadata": {
  "kernelspec": {
   "display_name": "Julia 1.1.0",
   "language": "julia",
   "name": "julia-1.1"
  },
  "language_info": {
   "file_extension": ".jl",
   "mimetype": "application/julia",
   "name": "julia",
   "version": "1.1.0"
  }
 },
 "nbformat": 4,
 "nbformat_minor": 2
}
