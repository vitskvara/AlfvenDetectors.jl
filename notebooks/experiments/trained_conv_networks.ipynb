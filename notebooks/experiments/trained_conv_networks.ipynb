{
 "cells": [
  {
   "cell_type": "code",
   "execution_count": 1,
   "metadata": {},
   "outputs": [
    {
     "name": "stderr",
     "output_type": "stream",
     "text": [
      "┌ Info: Recompiling stale cache file /home/vit/.julia/compiled/v1.1/AlfvenDetectors/VqnlF.ji for AlfvenDetectors [5e555b46-3391-11e9-1beb-e9498a8cd634]\n",
      "└ @ Base loading.jl:1184\n"
     ]
    },
    {
     "data": {
      "text/plain": [
       "pretty_params"
      ]
     },
     "execution_count": 1,
     "metadata": {},
     "output_type": "execute_result"
    }
   ],
   "source": [
    "using PyPlot\n",
    "using AlfvenDetectors\n",
    "using BSON\n",
    "using Flux\n",
    "using ValueHistories\n",
    "using StatsBase\n",
    "include(\"../../experiments/eval_utils.jl\")"
   ]
  },
  {
   "cell_type": "code",
   "execution_count": 2,
   "metadata": {},
   "outputs": [
    {
     "data": {
      "text/plain": [
       "\"plasma\""
      ]
     },
     "execution_count": 2,
     "metadata": {},
     "output_type": "execute_result"
    }
   ],
   "source": [
    "datapath = \"/home/vit/vyzkum/alfven/cdb_data/uprobe_data\"\n",
    "shots = joinpath.(datapath, readdir(datapath))\n",
    "shotnos, labels, tstarts, fstarts = AlfvenDetectors.labeled_patches()\n",
    "patchsize = 128\n",
    "readfun = AlfvenDetectors.readnormlogupsd\n",
    "cmap = \"plasma\""
   ]
  },
  {
   "cell_type": "code",
   "execution_count": 13,
   "metadata": {},
   "outputs": [
    {
     "name": "stdout",
     "output_type": "stream",
     "text": [
      " 70.000085 seconds (12.44 M allocations: 41.729 GiB, 3.07% gc time)\n"
     ]
    },
    {
     "data": {
      "text/plain": [
       "302-element Array{Tuple{Array{Float32,2},Array{Float32,1},Array{Float32,1}},1}:\n",
       " ([0.2688 0.31648 … 0.327201 0.247084; 0.287049 0.303855 … 0.315635 0.230885; … ; 0.234273 0.223641 … 0.0666929 0.184544; 0.078913 0.165139 … 0.138269 0.209193], [1.02303, 1.02308, 1.02313, 1.02318, 1.02323, 1.02328, 1.02334, 1.02339, 1.02344, 1.02349  …  1.02907, 1.02912, 1.02917, 1.02922, 1.02928, 1.02933, 1.02938, 1.02943, 1.02948, 1.02953], [1.30371e6, 1.30859e6, 1.31348e6, 1.31836e6, 1.32324e6, 1.32813e6, 1.33301e6, 1.33789e6, 1.34277e6, 1.34766e6  …  1.87988e6, 1.88477e6, 1.88965e6, 1.89453e6, 1.89941e6, 1.9043e6, 1.90918e6, 1.91406e6, 1.91895e6, 1.92383e6])    \n",
       " ([0.331089 0.333896 … 0.397184 0.400174; 0.331699 0.0860975 … 0.407141 0.43555; … ; 0.11183 0.13055 … 0.218298 0.184396; 0.218754 0.230945 … 0.156795 0.122293], [1.02958, 1.02963, 1.02968, 1.02974, 1.02979, 1.02984, 1.02989, 1.02994, 1.02999, 1.03004  …  1.03562, 1.03568, 1.03573, 1.03578, 1.03583, 1.03588, 1.03593, 1.03598, 1.03603, 1.03608], [1.20117e6, 1.20605e6, 1.21094e6, 1.21582e6, 1.2207e6, 1.22559e6, 1.23047e6, 1.23535e6, 1.24023e6, 1.24512e6  …  1.77734e6, 1.78223e6, 1.78711e6, 1.79199e6, 1.79688e6, 1.80176e6, 1.80664e6, 1.81152e6, 1.81641e6, 1.82129e6])    \n",
       " ([0.362346 0.319167 … 0.278231 0.229541; 0.418697 0.331894 … 0.309052 0.301497; … ; 0.179207 0.177031 … 0.163142 0.200899; 0.179052 0.124895 … 0.172234 0.179945], [1.03614, 1.03619, 1.03624, 1.03629, 1.03634, 1.03639, 1.03644, 1.03649, 1.03655, 1.0366  …  1.04218, 1.04223, 1.04228, 1.04233, 1.04238, 1.04243, 1.04248, 1.04254, 1.04259, 1.04264], [1.20117e6, 1.20605e6, 1.21094e6, 1.21582e6, 1.2207e6, 1.22559e6, 1.23047e6, 1.23535e6, 1.24023e6, 1.24512e6  …  1.77734e6, 1.78223e6, 1.78711e6, 1.79199e6, 1.79688e6, 1.80176e6, 1.80664e6, 1.81152e6, 1.81641e6, 1.82129e6])   \n",
       " ([0.290272 0.397267 … 0.258974 0.194201; 0.407472 0.423374 … 0.25527 0.271287; … ; 0.134063 0.152301 … 0.197421 0.0527957; 0.18921 0.20278 … 0.198695 0.134424], [1.03614, 1.03619, 1.03624, 1.03629, 1.03634, 1.03639, 1.03644, 1.03649, 1.03655, 1.0366  …  1.04218, 1.04223, 1.04228, 1.04233, 1.04238, 1.04243, 1.04248, 1.04254, 1.04259, 1.04264], [1.60156e6, 1.60645e6, 1.61133e6, 1.61621e6, 1.62109e6, 1.62598e6, 1.63086e6, 1.63574e6, 1.64063e6, 1.64551e6  …  2.17773e6, 2.18262e6, 2.1875e6, 2.19238e6, 2.19727e6, 2.20215e6, 2.20703e6, 2.21191e6, 2.2168e6, 2.22168e6])      \n",
       " ([0.211133 0.218142 … 0.272643 0.288063; 0.176296 0.205774 … 0.181134 0.289943; … ; 0.429279 0.393863 … 0.281046 0.277164; 0.380347 0.274585 … 0.323825 0.300613], [1.04924, 1.04929, 1.04935, 1.0494, 1.04945, 1.0495, 1.04955, 1.0496, 1.04965, 1.0497  …  1.05528, 1.05534, 1.05539, 1.05544, 1.05549, 1.05554, 1.05559, 1.05564, 1.05569, 1.05575], [1.20117e6, 1.20605e6, 1.21094e6, 1.21582e6, 1.2207e6, 1.22559e6, 1.23047e6, 1.23535e6, 1.24023e6, 1.24512e6  …  1.77734e6, 1.78223e6, 1.78711e6, 1.79199e6, 1.79688e6, 1.80176e6, 1.80664e6, 1.81152e6, 1.81641e6, 1.82129e6])      \n",
       " ([0.326524 0.232138 … 0.324409 0.387456; 0.291429 0.24431 … 0.29257 0.379218; … ; 0.164128 0.0637165 … 0.234451 0.183973; 0.126617 0.182789 … 0.19744 0.0951218], [1.0558, 1.05585, 1.0559, 1.05595, 1.056, 1.05605, 1.0561, 1.05616, 1.05621, 1.05626  …  1.06184, 1.06189, 1.06194, 1.06199, 1.06204, 1.06209, 1.06215, 1.0622, 1.06225, 1.0623], [1.50391e6, 1.50879e6, 1.51367e6, 1.51855e6, 1.52344e6, 1.52832e6, 1.5332e6, 1.53809e6, 1.54297e6, 1.54785e6  …  2.08008e6, 2.08496e6, 2.08984e6, 2.09473e6, 2.09961e6, 2.10449e6, 2.10938e6, 2.11426e6, 2.11914e6, 2.12402e6])          \n",
       " ([0.296434 0.242116 … 0.287999 0.257683; 0.189436 0.269512 … 0.264011 0.178652; … ; 0.00655359 0.137623 … 0.127178 0.135157; 0.215501 0.151006 … 0.151673 0.0820939], [1.0624, 1.06245, 1.0625, 1.06256, 1.06261, 1.06266, 1.06271, 1.06276, 1.06281, 1.06286  …  1.06844, 1.06849, 1.06855, 1.0686, 1.06865, 1.0687, 1.06875, 1.0688, 1.06885, 1.0689], [1.40137e6, 1.40625e6, 1.41113e6, 1.41602e6, 1.4209e6, 1.42578e6, 1.43066e6, 1.43555e6, 1.44043e6, 1.44531e6  …  1.97754e6, 1.98242e6, 1.9873e6, 1.99219e6, 1.99707e6, 2.00195e6, 2.00684e6, 2.01172e6, 2.0166e6, 2.02148e6])       \n",
       " ([0.39989 0.431163 … 0.33144 0.334418; 0.378812 0.434272 … 0.291513 0.360459; … ; 0.243221 0.206006 … 0.183861 0.172739; 0.274773 0.198332 … 0.102784 0.22325], [1.02001, 1.02006, 1.02011, 1.02016, 1.02021, 1.02026, 1.02032, 1.02037, 1.02042, 1.02047  …  1.02605, 1.0261, 1.02615, 1.0262, 1.02625, 1.02631, 1.02636, 1.02641, 1.02646, 1.02651], [1.20117e6, 1.20605e6, 1.21094e6, 1.21582e6, 1.2207e6, 1.22559e6, 1.23047e6, 1.23535e6, 1.24023e6, 1.24512e6  …  1.77734e6, 1.78223e6, 1.78711e6, 1.79199e6, 1.79688e6, 1.80176e6, 1.80664e6, 1.81152e6, 1.81641e6, 1.82129e6])       \n",
       " ([0.365994 0.32378 … 0.237277 0.324959; 0.381761 0.305809 … 0.287052 0.328911; … ; 0.223153 0.261965 … 0.27319 0.204132; 0.289193 0.278789 … 0.210732 0.212502], [1.02656, 1.02661, 1.02666, 1.02672, 1.02677, 1.02682, 1.02687, 1.02692, 1.02697, 1.02702  …  1.0326, 1.03265, 1.03271, 1.03276, 1.03281, 1.03286, 1.03291, 1.03296, 1.03301, 1.03306], [1.20117e6, 1.20605e6, 1.21094e6, 1.21582e6, 1.2207e6, 1.22559e6, 1.23047e6, 1.23535e6, 1.24023e6, 1.24512e6  …  1.77734e6, 1.78223e6, 1.78711e6, 1.79199e6, 1.79688e6, 1.80176e6, 1.80664e6, 1.81152e6, 1.81641e6, 1.82129e6])     \n",
       " ([0.302266 0.174779 … 0.26002 0.315478; 0.279355 0.221877 … 0.233672 0.250999; … ; 0.220585 0.247656 … 0.150733 0.258683; 0.223037 0.225968 … 0.238268 0.263253], [1.03312, 1.03317, 1.03322, 1.03327, 1.03332, 1.03337, 1.03342, 1.03347, 1.03352, 1.03358  …  1.03916, 1.03921, 1.03926, 1.03931, 1.03936, 1.03941, 1.03946, 1.03952, 1.03957, 1.03962], [1.20117e6, 1.20605e6, 1.21094e6, 1.21582e6, 1.2207e6, 1.22559e6, 1.23047e6, 1.23535e6, 1.24023e6, 1.24512e6  …  1.77734e6, 1.78223e6, 1.78711e6, 1.79199e6, 1.79688e6, 1.80176e6, 1.80664e6, 1.81152e6, 1.81641e6, 1.82129e6])   \n",
       " ([0.340289 0.363426 … 0.297643 0.290419; 0.222678 0.335673 … 0.318433 0.343457; … ; 0.0115758 0.136546 … 0.141971 0.200885; 0.157668 0.0131875 … 0.195627 0.194053], [1.04622, 1.04627, 1.04632, 1.04638, 1.04643, 1.04648, 1.04653, 1.04658, 1.04663, 1.04668  …  1.05226, 1.05232, 1.05237, 1.05242, 1.05247, 1.05252, 1.05257, 1.05262, 1.05267, 1.05272], [1.30371e6, 1.30859e6, 1.31348e6, 1.31836e6, 1.32324e6, 1.32813e6, 1.33301e6, 1.33789e6, 1.34277e6, 1.34766e6  …  1.87988e6, 1.88477e6, 1.88965e6, 1.89453e6, 1.89941e6, 1.9043e6, 1.90918e6, 1.91406e6, 1.91895e6, 1.92383e6])\n",
       " ([0.363696 0.345959 … 0.268458 0.284485; 0.348563 0.371649 … 0.220217 0.28446; … ; 0.208043 0.208981 … 0.187314 0.166646; 0.144915 0.204189 … 0.266246 0.235134], [1.03967, 1.03972, 1.03977, 1.03982, 1.03987, 1.03992, 1.03998, 1.04003, 1.04008, 1.04013  …  1.04571, 1.04576, 1.04581, 1.04586, 1.04592, 1.04597, 1.04602, 1.04607, 1.04612, 1.04617], [1.30371e6, 1.30859e6, 1.31348e6, 1.31836e6, 1.32324e6, 1.32813e6, 1.33301e6, 1.33789e6, 1.34277e6, 1.34766e6  …  1.87988e6, 1.88477e6, 1.88965e6, 1.89453e6, 1.89941e6, 1.9043e6, 1.90918e6, 1.91406e6, 1.91895e6, 1.92383e6])   \n",
       " ([0.28981 0.377704 … 0.335681 0.356458; 0.338466 0.409309 … 0.190169 0.251953; … ; 0.187075 0.130734 … 0.0726995 0.165191; 0.195196 0.242381 … 0.116249 0.172926], [1.05278, 1.05283, 1.05288, 1.05293, 1.05298, 1.05303, 1.05308, 1.05313, 1.05319, 1.05324  …  1.05882, 1.05887, 1.05892, 1.05897, 1.05902, 1.05907, 1.05912, 1.05918, 1.05923, 1.05928], [1.30371e6, 1.30859e6, 1.31348e6, 1.31836e6, 1.32324e6, 1.32813e6, 1.33301e6, 1.33789e6, 1.34277e6, 1.34766e6  …  1.87988e6, 1.88477e6, 1.88965e6, 1.89453e6, 1.89941e6, 1.9043e6, 1.90918e6, 1.91406e6, 1.91895e6, 1.92383e6])  \n",
       " ⋮                                                                                                                                                                                                                                                                                                                                                                                                                                                                                                                                                                                            \n",
       " ([0.465065 0.45652 … 0.490688 0.476205; 0.482064 0.466111 … 0.397619 0.501124; … ; 0.374299 0.311302 … 0.289452 0.404955; 0.374108 0.242007 … 0.373649 0.408869], [1.13521, 1.13526, 1.13531, 1.13536, 1.13541, 1.13546, 1.13552, 1.13557, 1.13562, 1.13567  …  1.14125, 1.1413, 1.14135, 1.1414, 1.14145, 1.14151, 1.14156, 1.14161, 1.14166, 1.14171], [6.29883e5, 6.34766e5, 6.39648e5, 6.44531e5, 6.49414e5, 6.54297e5, 6.5918e5, 6.64063e5, 6.68945e5, 6.73828e5  …  1.20605e6, 1.21094e6, 1.21582e6, 1.2207e6, 1.22559e6, 1.23047e6, 1.23535e6, 1.24023e6, 1.24512e6, 1.25e6])         \n",
       " ([0.430094 0.489343 … 0.518844 0.485368; 0.508944 0.455742 … 0.418013 0.363462; … ; 0.427177 0.369694 … 0.356498 0.418604; 0.330381 0.342432 … 0.422334 0.407761], [1.14176, 1.14181, 1.14186, 1.14192, 1.14197, 1.14202, 1.14207, 1.14212, 1.14217, 1.14222  …  1.1478, 1.14785, 1.14791, 1.14796, 1.14801, 1.14806, 1.14811, 1.14816, 1.14821, 1.14826], [6.29883e5, 6.34766e5, 6.39648e5, 6.44531e5, 6.49414e5, 6.54297e5, 6.5918e5, 6.64063e5, 6.68945e5, 6.73828e5  …  1.20605e6, 1.21094e6, 1.21582e6, 1.2207e6, 1.22559e6, 1.23047e6, 1.23535e6, 1.24023e6, 1.24512e6, 1.25e6])       \n",
       " ([0.477844 0.491927 … 0.508961 0.491717; 0.391795 0.455816 … 0.430023 0.464883; … ; 0.437924 0.468857 … 0.367981 0.443635; 0.430703 0.38092 … 0.429128 0.443833], [1.14832, 1.14837, 1.14842, 1.14847, 1.14852, 1.14857, 1.14862, 1.14867, 1.14872, 1.14878  …  1.15436, 1.15441, 1.15446, 1.15451, 1.15456, 1.15461, 1.15466, 1.15472, 1.15477, 1.15482], [6.29883e5, 6.34766e5, 6.39648e5, 6.44531e5, 6.49414e5, 6.54297e5, 6.5918e5, 6.64063e5, 6.68945e5, 6.73828e5  …  1.20605e6, 1.21094e6, 1.21582e6, 1.2207e6, 1.22559e6, 1.23047e6, 1.23535e6, 1.24023e6, 1.24512e6, 1.25e6])       \n",
       " ([0.41642 0.447419 … 0.469474 0.482242; 0.47456 0.451927 … 0.500511 0.371676; … ; 0.453658 0.43138 … 0.484463 0.432062; 0.474124 0.421594 … 0.340253 0.444544], [1.15487, 1.15492, 1.15497, 1.15502, 1.15507, 1.15512, 1.15518, 1.15523, 1.15528, 1.15533  …  1.16091, 1.16096, 1.16101, 1.16106, 1.16112, 1.16117, 1.16122, 1.16127, 1.16132, 1.16137], [6.29883e5, 6.34766e5, 6.39648e5, 6.44531e5, 6.49414e5, 6.54297e5, 6.5918e5, 6.64063e5, 6.68945e5, 6.73828e5  …  1.20605e6, 1.21094e6, 1.21582e6, 1.2207e6, 1.22559e6, 1.23047e6, 1.23535e6, 1.24023e6, 1.24512e6, 1.25e6])         \n",
       " ([0.556652 0.539707 … 0.360395 0.499058; 0.542111 0.544853 … 0.427964 0.514376; … ; 0.265876 0.406062 … 0.335733 0.304114; 0.448338 0.419827 … 0.322308 0.253566], [1.16142, 1.16147, 1.16152, 1.16158, 1.16163, 1.16168, 1.16173, 1.16178, 1.16183, 1.16188  …  1.16746, 1.16752, 1.16757, 1.16762, 1.16767, 1.16772, 1.16777, 1.16782, 1.16787, 1.16792], [6.29883e5, 6.34766e5, 6.39648e5, 6.44531e5, 6.49414e5, 6.54297e5, 6.5918e5, 6.64063e5, 6.68945e5, 6.73828e5  …  1.20605e6, 1.21094e6, 1.21582e6, 1.2207e6, 1.22559e6, 1.23047e6, 1.23535e6, 1.24023e6, 1.24512e6, 1.25e6])      \n",
       " ([0.45232 0.441158 … 0.505544 0.371394; 0.48368 0.39373 … 0.460402 0.512642; … ; 0.397275 0.361157 … 0.420472 0.513797; 0.321434 0.421509 … 0.514333 0.522506], [1.16798, 1.16803, 1.16808, 1.16813, 1.16818, 1.16823, 1.16828, 1.16833, 1.16839, 1.16844  …  1.17402, 1.17407, 1.17412, 1.17417, 1.17422, 1.17427, 1.17432, 1.17438, 1.17443, 1.17448], [6.29883e5, 6.34766e5, 6.39648e5, 6.44531e5, 6.49414e5, 6.54297e5, 6.5918e5, 6.64063e5, 6.68945e5, 6.73828e5  …  1.20605e6, 1.21094e6, 1.21582e6, 1.2207e6, 1.22559e6, 1.23047e6, 1.23535e6, 1.24023e6, 1.24512e6, 1.25e6])         \n",
       " ([0.49871 0.527192 … 0.477025 0.51398; 0.521366 0.511091 … 0.364796 0.521853; … ; 0.497771 0.267138 … 0.435205 0.481267; 0.510194 0.488538 … 0.340648 0.433254], [1.17453, 1.17458, 1.17463, 1.17468, 1.17473, 1.17479, 1.17484, 1.17489, 1.17494, 1.17499  …  1.18057, 1.18062, 1.18067, 1.18072, 1.18078, 1.18083, 1.18088, 1.18093, 1.18098, 1.18103], [6.29883e5, 6.34766e5, 6.39648e5, 6.44531e5, 6.49414e5, 6.54297e5, 6.5918e5, 6.64063e5, 6.68945e5, 6.73828e5  …  1.20605e6, 1.21094e6, 1.21582e6, 1.2207e6, 1.22559e6, 1.23047e6, 1.23535e6, 1.24023e6, 1.24512e6, 1.25e6])        \n",
       " ([0.521587 0.545971 … 0.478467 0.536932; 0.536641 0.558768 … 0.52903 0.519223; … ; 0.485011 0.498215 … 0.260687 0.53747; 0.361999 0.332905 … 0.439641 0.481546], [1.18108, 1.18113, 1.18119, 1.18124, 1.18129, 1.18134, 1.18139, 1.18144, 1.18149, 1.18154  …  1.18712, 1.18718, 1.18723, 1.18728, 1.18733, 1.18738, 1.18743, 1.18748, 1.18753, 1.18759], [6.29883e5, 6.34766e5, 6.39648e5, 6.44531e5, 6.49414e5, 6.54297e5, 6.5918e5, 6.64063e5, 6.68945e5, 6.73828e5  …  1.20605e6, 1.21094e6, 1.21582e6, 1.2207e6, 1.22559e6, 1.23047e6, 1.23535e6, 1.24023e6, 1.24512e6, 1.25e6])        \n",
       " ([0.565395 0.512738 … 0.539756 0.512406; 0.55947 0.509082 … 0.491744 0.483184; … ; 0.577525 0.522925 … 0.444427 0.428195; 0.561622 0.516229 … 0.429287 0.399637], [1.18764, 1.18769, 1.18774, 1.18779, 1.18784, 1.18789, 1.18794, 1.188, 1.18805, 1.1881  …  1.19368, 1.19373, 1.19378, 1.19383, 1.19388, 1.19393, 1.19399, 1.19404, 1.19409, 1.19414], [6.29883e5, 6.34766e5, 6.39648e5, 6.44531e5, 6.49414e5, 6.54297e5, 6.5918e5, 6.64063e5, 6.68945e5, 6.73828e5  …  1.20605e6, 1.21094e6, 1.21582e6, 1.2207e6, 1.22559e6, 1.23047e6, 1.23535e6, 1.24023e6, 1.24512e6, 1.25e6])          \n",
       " ([0.409332 0.526566 … 0.508098 0.495432; 0.499146 0.49437 … 0.259704 0.450565; … ; 0.487237 0.489745 … 0.312601 0.394884; 0.434948 0.48755 … 0.40852 0.400234], [1.19419, 1.19424, 1.19429, 1.19434, 1.1944, 1.19445, 1.1945, 1.19455, 1.1946, 1.19465  …  1.20023, 1.20028, 1.20033, 1.20039, 1.20044, 1.20049, 1.20054, 1.20059, 1.20064, 1.20069], [6.29883e5, 6.34766e5, 6.39648e5, 6.44531e5, 6.49414e5, 6.54297e5, 6.5918e5, 6.64063e5, 6.68945e5, 6.73828e5  …  1.20605e6, 1.21094e6, 1.21582e6, 1.2207e6, 1.22559e6, 1.23047e6, 1.23535e6, 1.24023e6, 1.24512e6, 1.25e6])            \n",
       " ([0.416593 0.352068 … 0.411749 0.376771; 0.429238 0.434065 … 0.46111 0.471416; … ; 0.408548 0.447716 … 0.378185 0.42114; 0.386673 0.441874 … 0.274483 0.417666], [1.20074, 1.2008, 1.20085, 1.2009, 1.20095, 1.201, 1.20105, 1.2011, 1.20115, 1.2012  …  1.20679, 1.20684, 1.20689, 1.20694, 1.20699, 1.20704, 1.20709, 1.20714, 1.2072, 1.20725], [6.29883e5, 6.34766e5, 6.39648e5, 6.44531e5, 6.49414e5, 6.54297e5, 6.5918e5, 6.64063e5, 6.68945e5, 6.73828e5  …  1.20605e6, 1.21094e6, 1.21582e6, 1.2207e6, 1.22559e6, 1.23047e6, 1.23535e6, 1.24023e6, 1.24512e6, 1.25e6])               \n",
       " ([0.467849 0.515192 … 0.334161 0.544281; 0.523926 0.556619 … 0.515748 0.56745; … ; 0.484526 0.459296 … 0.41705 0.514617; 0.475178 0.468836 … 0.498529 0.503505], [1.2073, 1.20735, 1.2074, 1.20745, 1.2075, 1.20755, 1.2076, 1.20766, 1.20771, 1.20776  …  1.21334, 1.21339, 1.21344, 1.21349, 1.21354, 1.2136, 1.21365, 1.2137, 1.21375, 1.2138], [6.29883e5, 6.34766e5, 6.39648e5, 6.44531e5, 6.49414e5, 6.54297e5, 6.5918e5, 6.64063e5, 6.68945e5, 6.73828e5  …  1.20605e6, 1.21094e6, 1.21582e6, 1.2207e6, 1.22559e6, 1.23047e6, 1.23535e6, 1.24023e6, 1.24512e6, 1.25e6])               "
      ]
     },
     "execution_count": 13,
     "metadata": {},
     "output_type": "execute_result"
    }
   ],
   "source": [
    "@time patchdata = map(x->AlfvenDetectors.get_patch(datapath, x[1], x[2], x[3], patchsize, readfun;\n",
    "        memorysafe=true), zip(shotnos, tstarts, fstarts))\n",
    "data = cat([x[1] for x in patchdata]..., dims=4);\n",
    "println(size(data))"
   ]
  },
  {
   "cell_type": "code",
   "execution_count": 17,
   "metadata": {},
   "outputs": [],
   "source": [
    "alfvendata = data[:,:,:,labels.==1]\n",
    "noalfvendata = data[:,:,:,labels.==0];"
   ]
  },
  {
   "cell_type": "code",
   "execution_count": 20,
   "metadata": {},
   "outputs": [
    {
     "name": "stdout",
     "output_type": "stream",
     "text": [
      "400 models found in modelpath\n"
     ]
    }
   ],
   "source": [
    "#modelpath = \"/home/vit/vyzkum/alfven/experiments/conv/uprobe/\"\n",
    "#modelpath = \"/home/vit/vyzkum/alfven/experiments/conv/uprobe/ae-test\";\n",
    "#modelpath = \"/home/vit/vyzkum/alfven/experiments/conv/uprobe/batchnorm-test\"\n",
    "#modelpath = \"/home/vit/vyzkum/alfven/experiments/conv/uprobe/benchmark-runs\"\n",
    "modelpath = \"/home/vit/vyzkum/alfven/experiments/conv_old_library/uprobe/benchmark-runs\"\n",
    "filenames = joinpath.(modelpath, readdir(modelpath))\n",
    "println(\"$(length(filenames)) models found in modelpath\")"
   ]
  },
  {
   "cell_type": "markdown",
   "metadata": {},
   "source": [
    "Add the AE models as well."
   ]
  },
  {
   "cell_type": "code",
   "execution_count": null,
   "metadata": {},
   "outputs": [],
   "source": [
    "aepath = \"/home/vit/vyzkum/alfven/experiments/conv/uprobe/ae-test\"\n",
    "aefilenames = joinpath.(aepath, readdir(aepath))\n",
    "#filenames = vcat(filenames, aefilenames);\n",
    "println(\"working with a total of $(length(filenames)) files\")"
   ]
  },
  {
   "cell_type": "markdown",
   "metadata": {},
   "source": [
    "Lets focus on the AE models that have the lowest loss first.\n",
    "First get the model params."
   ]
  },
  {
   "cell_type": "code",
   "execution_count": 21,
   "metadata": {},
   "outputs": [],
   "source": [
    "model_params_list = []\n",
    "for imodel in 1:length(filenames)\n",
    "    model_params = parse_params(filenames[imodel])\n",
    "    push!(model_params_list, model_params)\n",
    "end"
   ]
  },
  {
   "cell_type": "markdown",
   "metadata": {},
   "source": [
    "Now filter some of them out."
   ]
  },
  {
   "cell_type": "code",
   "execution_count": 22,
   "metadata": {},
   "outputs": [
    {
     "name": "stdout",
     "output_type": "stream",
     "text": [
      "working with 40 models\n"
     ]
    }
   ],
   "source": [
    "filter_list = [\n",
    "    :xdim => (patchsize,patchsize,1),\n",
    "    :model => \"ConvAE\",\n",
    "    :nepochs => 1000,\n",
    "]\n",
    "filter_inds = map(x->all(map(y->x[y[1]] == y[2],filter_list)),model_params_list)\n",
    "model_params_list = model_params_list[filter_inds]\n",
    "filename_list = filenames[filter_inds]\n",
    "println(\"working with $(length(filename_list)) models\")"
   ]
  },
  {
   "cell_type": "code",
   "execution_count": 23,
   "metadata": {},
   "outputs": [
    {
     "ename": "UndefVarError",
     "evalue": "UndefVarError: ConvTranspose not defined",
     "output_type": "error",
     "traceback": [
      "UndefVarError: ConvTranspose not defined",
      "",
      "Stacktrace:",
      " [1] (::getfield(BSON, Symbol(\"##31#32\")))(::Module, ::String) at /home/vit/.julia/packages/BSON/B5ZLp/src/extensions.jl:20",
      " [2] mapfoldl_impl(::typeof(identity), ::getfield(BSON, Symbol(\"##31#32\")), ::NamedTuple{(:init,),Tuple{Module}}, ::Array{Any,1}) at ./reduce.jl:49",
      " [3] #mapfoldl#187(::Base.Iterators.Pairs{Symbol,Module,Tuple{Symbol},NamedTuple{(:init,),Tuple{Module}}}, ::Function, ::Function, ::Function, ::Array{Any,1}) at ./reduce.jl:72",
      " [4] #mapfoldl at ./none:0 [inlined]",
      " [5] _mapreduce_dim at ./reducedim.jl:306 [inlined]",
      " [6] #mapreduce#548 at ./reducedim.jl:304 [inlined]",
      " [7] #mapreduce at ./none:0 [inlined]",
      " [8] #reduce#549 at ./reducedim.jl:348 [inlined]",
      " [9] (::getfield(Base, Symbol(\"#kw##reduce\")))(::NamedTuple{(:init,),Tuple{Module}}, ::typeof(reduce), ::Function, ::Array{Any,1}) at ./none:0",
      " [10] resolve(::Array{Any,1}) at /home/vit/.julia/packages/BSON/B5ZLp/src/extensions.jl:20",
      " [11] (::getfield(BSON, Symbol(\"##35#36\")))(::Dict{Symbol,Any}) at /home/vit/.julia/packages/BSON/B5ZLp/src/extensions.jl:48",
      " [12] _raise_recursive(::Dict{Symbol,Any}, ::IdDict{Any,Any}) at /home/vit/.julia/packages/BSON/B5ZLp/src/read.jl:79",
      " [13] raise_recursive(::Dict{Symbol,Any}, ::IdDict{Any,Any}) at /home/vit/.julia/packages/BSON/B5ZLp/src/read.jl:89",
      " [14] (::getfield(BSON, Symbol(\"##23#24\")){IdDict{Any,Any}})(::Dict{Symbol,Any}) at /home/vit/.julia/packages/BSON/B5ZLp/src/read.jl:94",
      " [15] applychildren!(::getfield(BSON, Symbol(\"##23#24\")){IdDict{Any,Any}}, ::Array{Any,1}) at /home/vit/.julia/packages/BSON/B5ZLp/src/BSON.jl:28",
      " [16] raise_recursive(::Array{Any,1}, ::IdDict{Any,Any}) at /home/vit/.julia/packages/BSON/B5ZLp/src/read.jl:94",
      " [17] (::getfield(BSON, Symbol(\"##19#21\")){IdDict{Any,Any}})(::Array{Any,1}) at /home/vit/.julia/packages/BSON/B5ZLp/src/read.jl:79",
      " [18] applychildren!(::getfield(BSON, Symbol(\"##19#21\")){IdDict{Any,Any}}, ::Dict{Symbol,Any}) at /home/vit/.julia/packages/BSON/B5ZLp/src/BSON.jl:21",
      " ... (the last 7 lines are repeated 6 more times)",
      " [61] _raise_recursive(::Dict{Symbol,Any}, ::IdDict{Any,Any}) at /home/vit/.julia/packages/BSON/B5ZLp/src/read.jl:79",
      " [62] raise_recursive(::Dict{Symbol,Any}, ::IdDict{Any,Any}) at /home/vit/.julia/packages/BSON/B5ZLp/src/read.jl:89",
      " [63] (::getfield(BSON, Symbol(\"##45#46\")))(::Dict{Symbol,Any}, ::IdDict{Any,Any}) at /home/vit/.julia/packages/BSON/B5ZLp/src/extensions.jl:131",
      " [64] raise_recursive(::Dict{Symbol,Any}, ::IdDict{Any,Any}) at /home/vit/.julia/packages/BSON/B5ZLp/src/read.jl:88",
      " [65] (::getfield(BSON, Symbol(\"##20#22\")){IdDict{Any,Any}})(::Dict{Symbol,Any}) at /home/vit/.julia/packages/BSON/B5ZLp/src/read.jl:82",
      " [66] applychildren!(::getfield(BSON, Symbol(\"##20#22\")){IdDict{Any,Any}}, ::Dict{Symbol,Any}) at /home/vit/.julia/packages/BSON/B5ZLp/src/BSON.jl:21",
      " [67] _raise_recursive(::Dict{Symbol,Any}, ::IdDict{Any,Any}) at /home/vit/.julia/packages/BSON/B5ZLp/src/read.jl:82",
      " [68] raise_recursive(::Dict{Symbol,Any}, ::IdDict{Any,Any}) at /home/vit/.julia/packages/BSON/B5ZLp/src/read.jl:89",
      " [69] raise_recursive at /home/vit/.julia/packages/BSON/B5ZLp/src/read.jl:99 [inlined]",
      " [70] load(::String) at /home/vit/.julia/packages/BSON/B5ZLp/src/read.jl:104"
     ]
    }
   ],
   "source": [
    "loss_list = []\n",
    "model_list = []\n",
    "for (params, filename) in zip(model_params_list, filename_list)\n",
    "    model_data = BSON.load(filename)\n",
    "    is, ls = get(model_data[:history], :loss)\n",
    "    push!(loss_list, ls)\n",
    "    if get(params, :batchnorm, false)\n",
    "        model = Flux.testmode!(model_data[:model])\n",
    "    else\n",
    "        model = model_data[:model]\n",
    "    end\n",
    "    push!(model_list, model)\n",
    "end\n",
    "final_losses = [x[end] for x in loss_list];"
   ]
  },
  {
   "cell_type": "code",
   "execution_count": 9,
   "metadata": {},
   "outputs": [],
   "source": [
    "alfven_loss = []\n",
    "noalfven_loss = []\n",
    "for (model, params) in zip(model_list, model_params_list)\n",
    "    if occursin(\"VAE\", params[:model])\n",
    "        push!(alfven_loss, AlfvenDetectors.loss(model, alfvendata, 1, 1.0).data)\n",
    "        push!(noalfven_loss, AlfvenDetectors.loss(model, noalfvendata, 1, 1.0).data)\n",
    "    else\n",
    "        push!(alfven_loss, AlfvenDetectors.loss(model, alfvendata).data)\n",
    "        push!(noalfven_loss, AlfvenDetectors.loss(model, noalfvendata).data)\n",
    "    end\n",
    "end"
   ]
  },
  {
   "cell_type": "markdown",
   "metadata": {},
   "source": [
    "#### Sort the models by the training loss"
   ]
  },
  {
   "cell_type": "code",
   "execution_count": 10,
   "metadata": {},
   "outputs": [
    {
     "ename": "UndefVarError",
     "evalue": "UndefVarError: final_losses not defined",
     "output_type": "error",
     "traceback": [
      "UndefVarError: final_losses not defined",
      "",
      "Stacktrace:",
      " [1] top-level scope at In[10]:1"
     ]
    }
   ],
   "source": [
    "sortinds = sortperm(final_losses);\n",
    "sortinds = sortperm(alfven_loss);\n",
    "isample = 80\n",
    "patch = data[:,:,:,isample:isample]\n",
    "#sample = convsubtestdata[:,:,:,isample:isample]\n",
    "#sample = validdata[:,:,:,isample:isample]\n",
    "pcolormesh(patch[:,:,1,1],cmap=cmap)\n",
    "for imodel in sortinds\n",
    "    figure()\n",
    "    ns = model_list[imodel](patch).data\n",
    "    cl = Flux.mse(patch,ns)\n",
    "    title(\"model: $imodel, final training loss: $(round(final_losses[imodel],digits=5)),\n",
    "        alfven data loss: $(round(alfven_loss[imodel],digits=5)),\n",
    "        no alfven data loss: $(round(noalfven_loss[imodel],digits=5)),\n",
    "        patch loss: $(round(cl,digits=5))\")\n",
    "    pcolormesh(ns[:,:,1,1],cmap=cmap)\n",
    "    text(135, 30, pretty_params(model_params_list[imodel]))\n",
    "end"
   ]
  },
  {
   "cell_type": "markdown",
   "metadata": {},
   "source": [
    "Now lets look at a particular AE model."
   ]
  },
  {
   "cell_type": "code",
   "execution_count": null,
   "metadata": {},
   "outputs": [],
   "source": [
    "imodel = sortinds[1]\n",
    "model = model_list[imodel]\n",
    "params = model_params_list[imodel]\n",
    "loss = loss_list[imodel]\n",
    "file = filename_list[imodel]\n",
    "println(file)\n",
    "println(\"\")\n",
    "println(\"final training loss: $(round(final_losses[imodel],digits=5))\")\n",
    "println(\"alfven data loss: $(round(alfven_loss[imodel],digits=5))\")\n",
    "println(\"no alfven data loss: $(round(noalfven_loss[imodel],digits=5))\")\n",
    "println(\"\")\n",
    "print(pretty_params(params))"
   ]
  },
  {
   "cell_type": "code",
   "execution_count": null,
   "metadata": {},
   "outputs": [],
   "source": [
    "#plotlosses(hist)\n",
    "plot(loss[500:end])"
   ]
  },
  {
   "cell_type": "code",
   "execution_count": null,
   "metadata": {},
   "outputs": [],
   "source": [
    "i = 15\n",
    "figure()\n",
    "pcolormesh(data[:,:,1,i],cmap=cmap)\n",
    "patch = data[:,:,1:1,i:i];\n",
    "figure()\n",
    "rp = model(patch).data[:,:,1,1]\n",
    "l = Flux.mse(rp,patch)\n",
    "title(\"loss $l\")\n",
    "pcolormesh(rp,cmap=cmap)"
   ]
  },
  {
   "cell_type": "markdown",
   "metadata": {},
   "source": [
    "Now lets look at the 2D UMAP projections."
   ]
  },
  {
   "cell_type": "code",
   "execution_count": null,
   "metadata": {},
   "outputs": [],
   "source": [
    "using PyCall\n",
    "umap = pyimport(\"umap\")"
   ]
  },
  {
   "cell_type": "code",
   "execution_count": null,
   "metadata": {},
   "outputs": [],
   "source": [
    "umap_model = umap.UMAP(n_components = 2, n_neighbors=15, min_dist=0.1)"
   ]
  },
  {
   "cell_type": "code",
   "execution_count": null,
   "metadata": {},
   "outputs": [],
   "source": [
    "zdata = []\n",
    "N = size(data,4)\n",
    "for i in 1:ceil(Int,N/10)\n",
    "    if params[:model] == \"ConvTSVAE\"\n",
    "        _zdata = model.m1.encoder(data[:,:,:,(i-1)*10+1:min(i*10,N)]).data\n",
    "    else\n",
    "        _zdata = model.encoder(data[:,:,:,(i-1)*10+1:min(i*10,N)]).data\n",
    "    end    \n",
    "    push!(zdata,_zdata)\n",
    "end\n",
    "zdata = hcat(zdata...);\n",
    "size(zdata)"
   ]
  },
  {
   "cell_type": "code",
   "execution_count": null,
   "metadata": {},
   "outputs": [],
   "source": [
    "zdata2D = Array(umap_model.fit_transform(zdata')')"
   ]
  },
  {
   "cell_type": "code",
   "execution_count": null,
   "metadata": {},
   "outputs": [],
   "source": [
    "scatter(zdata2D[1,labels.==1], zdata2D[2,labels.==1],label=\"alfven\",s=5)\n",
    "scatter(zdata2D[1,labels.==0], zdata2D[2,labels.==0],label=\"no alfven\",s=5)\n",
    "title(\"all data transformed into 2D\")\n",
    "legend()"
   ]
  },
  {
   "cell_type": "markdown",
   "metadata": {},
   "source": [
    "Find some shots with chirp modes and use them as validation data."
   ]
  },
  {
   "cell_type": "code",
   "execution_count": null,
   "metadata": {},
   "outputs": [],
   "source": [
    "lims = [-8 -2.5; 1 4]\n",
    "plotbox = [lims[1,1] lims[1,2] lims[1,2] lims[1,1] lims[1,1]; lims[2,1] lims[2,1] lims[2,2] lims[2,2] lims[2,1]]\n",
    "zinds = vec(all(lims[:,1] .< zdata2D .< lims[:,2], dims=1));"
   ]
  },
  {
   "cell_type": "code",
   "execution_count": null,
   "metadata": {},
   "outputs": [],
   "source": [
    "scatter(zdata2D[1,zinds], zdata2D[2,zinds],label=\"selected patches\",s=15,c=\"k\")\n",
    "scatter(zdata2D[1,labels.==1], zdata2D[2,labels.==1],label=\"alfven\",s=5)\n",
    "scatter(zdata2D[1,labels.==0], zdata2D[2,labels.==0],label=\"no alfven\",s=5)\n",
    "plot(plotbox[1,:], plotbox[2,:])\n",
    "title(\"all data transformed into 2D\")\n",
    "legend()"
   ]
  },
  {
   "cell_type": "markdown",
   "metadata": {},
   "source": [
    "Compute the loss on the individual patches."
   ]
  },
  {
   "cell_type": "code",
   "execution_count": null,
   "metadata": {},
   "outputs": [],
   "source": [
    "data_loss = map(i->AlfvenDetectors.loss(model,data[:,:,:,i:i]).data,collect(1:size(data,4)))"
   ]
  },
  {
   "cell_type": "code",
   "execution_count": null,
   "metadata": {},
   "outputs": [],
   "source": [
    "for i in collect(1:size(data,4))[zinds]\n",
    "    figure(figsize=(10,5))\n",
    "    subplot(1,2,1)\n",
    "    suptitle(\"shot $(shotnos[i]), label $(labels[i]), loss $(data_loss[i])\")\n",
    "    pcolormesh(data[:,:,1,i],cmap=cmap)\n",
    "    subplot(1,2,2)\n",
    "    pcolormesh(model(data[:,:,:,i:i]).data[:,:,1,1],cmap=cmap)\n",
    "end    "
   ]
  },
  {
   "cell_type": "markdown",
   "metadata": {},
   "source": [
    "Instead of boxes, search for N nearest samples in the original latent space."
   ]
  },
  {
   "cell_type": "code",
   "execution_count": null,
   "metadata": {},
   "outputs": [],
   "source": [
    "clusterinds = (lims[:,1] .<= zdata2D .<= lims[:,2]);\n",
    "clusterinds = clusterinds[1,:] .& clusterinds[2,:];"
   ]
  },
  {
   "cell_type": "code",
   "execution_count": null,
   "metadata": {},
   "outputs": [],
   "source": [
    "scatter(zdata2D[1,:], zdata2D[2,:],s=3)\n",
    "scatter(zdata2D[1,clusterinds], zdata2D[2,clusterinds],s=3)\n",
    "plot(box[1,:], box[2,:],c=\"k\")"
   ]
  },
  {
   "cell_type": "code",
   "execution_count": null,
   "metadata": {},
   "outputs": [],
   "source": [
    "clusterconvdata = data[:,:,:,clusterinds];\n",
    "size(clusterconvdata)"
   ]
  },
  {
   "cell_type": "code",
   "execution_count": null,
   "metadata": {},
   "outputs": [],
   "source": [
    "for i in 1:size(clusterconvdata,4)\n",
    "    figure()\n",
    "    pcolormesh(clusterconvdata[:,:,1,i])\n",
    "end"
   ]
  },
  {
   "cell_type": "markdown",
   "metadata": {},
   "source": [
    "How does the model encode a picture in the individual channels?"
   ]
  },
  {
   "cell_type": "code",
   "execution_count": null,
   "metadata": {},
   "outputs": [],
   "source": [
    "#sample = batch[:,:,1:1,2:2]\n",
    "sample = chirpdata[:,:,:,2:2];\n",
    "if params[:model] == \"ConvTSVAE\"\n",
    "    m = model.m1.encoder.layers[1].layers[1](sample);\n",
    "    m = model.m1.encoder.layers[1].layers[2](m);\n",
    "else\n",
    "    m = model.encoder.layers[1].layers[1](sample);\n",
    "    m = model.encoder.layers[1].layers[2](m);\n",
    "end"
   ]
  },
  {
   "cell_type": "code",
   "execution_count": null,
   "metadata": {},
   "outputs": [],
   "source": [
    "pcolormesh(sample[:,:,1,1])"
   ]
  },
  {
   "cell_type": "code",
   "execution_count": null,
   "metadata": {},
   "outputs": [],
   "source": [
    "for i in 1:size(m,3)\n",
    "    figure()\n",
    "    pcolormesh(m.data[:,:,i,1])\n",
    "end"
   ]
  },
  {
   "cell_type": "markdown",
   "metadata": {},
   "source": [
    "And how doe the decoding work?"
   ]
  },
  {
   "cell_type": "code",
   "execution_count": null,
   "metadata": {},
   "outputs": [],
   "source": [
    "z = model.encoder(sample);\n",
    "if params[:model] == \"ConvAE\"\n",
    "    mx = model.decoder.layers[2](model.decoder.layers[1](z))\n",
    "    mx = model.decoder.layers[3].layers[1](mx)\n",
    "    #mx = model.decoder.layers[3].layers[2](mx)\n",
    "end"
   ]
  },
  {
   "cell_type": "code",
   "execution_count": null,
   "metadata": {},
   "outputs": [],
   "source": [
    "for i in 1:size(mx,3)\n",
    "    figure()\n",
    "    pcolormesh(mx.data[:,:,i,1])\n",
    "end"
   ]
  },
  {
   "cell_type": "markdown",
   "metadata": {},
   "source": [
    "Now test a selected model"
   ]
  },
  {
   "cell_type": "code",
   "execution_count": null,
   "metadata": {},
   "outputs": [],
   "source": [
    "modelpath = \"/home/vit/vyzkum/alfven/experiments/conv/uprobe/\"\n",
    "filenames = readdir(modelpath)\n",
    "params = [\n",
    "#    :nepochs => 200\n",
    "    :opt => \"NADAM\"\n",
    "]\n",
    "fstrings = vcat([\"$(x[1])-$(x[2])\" for x in params])\n",
    "filenames = joinpath.(modelpath,filter(x->any(map(y->occursin(y,x),fstrings)),filenames));\n",
    "println(\"working with a list of $(length(filenames)) files\")"
   ]
  },
  {
   "cell_type": "code",
   "execution_count": null,
   "metadata": {},
   "outputs": [],
   "source": [
    "filename = filenames[2]\n",
    "model_data = BSON.load(filename)\n",
    "model = model_data[:model]\n",
    "hist = model_data[:history]\n",
    "params = parse_params(filename)"
   ]
  },
  {
   "cell_type": "code",
   "execution_count": null,
   "metadata": {},
   "outputs": [],
   "source": [
    "plotlosses(hist)"
   ]
  },
  {
   "cell_type": "code",
   "execution_count": null,
   "metadata": {},
   "outputs": [],
   "source": [
    "filename"
   ]
  },
  {
   "cell_type": "code",
   "execution_count": null,
   "metadata": {},
   "outputs": [],
   "source": [
    "isample = 1\n",
    "#sample = convsubtestdata[:,:,:,isample:isample]\n",
    "sample = data[:,:,:,isample:isample]\n",
    "pcolormesh(sample[:,:,1,1])\n",
    "ns = model(sample).data\n",
    "figure()\n",
    "pcolormesh(ns[:,:,1,1])"
   ]
  },
  {
   "cell_type": "markdown",
   "metadata": {},
   "source": [
    "Check the different loss developement for optimizers/batchnorm."
   ]
  },
  {
   "cell_type": "code",
   "execution_count": null,
   "metadata": {},
   "outputs": [],
   "source": [
    "modelpath = \"/home/vit/vyzkum/alfven/experiments/conv/uprobe/batchnorm-test\"\n",
    "filenames = joinpath.(modelpath, readdir(modelpath))\n",
    "aepath = \"/home/vit/vyzkum/alfven/experiments/conv/uprobe/ae-test\"\n",
    "aefilenames = joinpath.(aepath, readdir(aepath))\n",
    "filenames = vcat(filenames, aefilenames);\n",
    "println(\"working with a total of $(length(filenames)) files\")"
   ]
  },
  {
   "cell_type": "code",
   "execution_count": null,
   "metadata": {},
   "outputs": [],
   "source": [
    "loss_list = []\n",
    "model_params_list = []\n",
    "model_list = []\n",
    "for imodel in 1:length(filenames)\n",
    "    model_data = BSON.load(filenames[imodel])\n",
    "    is, ls = get(model_data[:history], :loss)\n",
    "    push!(loss_list, ls)\n",
    "    model_params = parse_params(filenames[imodel])\n",
    "    push!(model_params_list, model_params)\n",
    "    if get(model_params, :batchnorm, false)\n",
    "        model = Flux.testmode!(model_data[:model])\n",
    "    else\n",
    "        model = model_data[:model]\n",
    "    end\n",
    "    push!(model_list, model)\n",
    "end\n",
    "final_losses = [x[end] for x in loss_list];"
   ]
  },
  {
   "cell_type": "code",
   "execution_count": null,
   "metadata": {},
   "outputs": [],
   "source": [
    "filter_list = [\n",
    "    x->x[:xdim] == (patchsize,patchsize,1),\n",
    "    x->x[:model] == \"ConvAE\",\n",
    "    x->x[:opt] == RMSProp\n",
    "]\n",
    "filter_inds = map(x->all(map(y->y(x),filter_list)),model_params_list)\n",
    "filtered_params = model_params_list[filter_inds]\n",
    "filtered_models = model_list[filter_inds]\n",
    "filtered_losses = loss_list[filter_inds]\n",
    "filtered_filenames = filenames[filter_inds]"
   ]
  },
  {
   "cell_type": "code",
   "execution_count": null,
   "metadata": {},
   "outputs": [],
   "source": [
    "imin = 200\n",
    "imax = 550\n",
    "for (loss, params) in zip(filtered_losses, filtered_params)\n",
    "    bn = get(params, :batchnorm, false)\n",
    "    plot(loss[imin:imax], label = \"batchnorm: $bn\")\n",
    "end\n",
    "legend()\n",
    "title(\"AE - convergence rate depending on the use of batch normalization\")"
   ]
  },
  {
   "cell_type": "code",
   "execution_count": null,
   "metadata": {},
   "outputs": [],
   "source": [
    "filter_list = [\n",
    "    x->!get(x,:batchnorm,false),\n",
    "    x->x[:eta]==0.001,\n",
    "    x->x[:model] == \"ConvAE\"\n",
    "]\n",
    "filter_inds = map(x->all(map(y->y(x),filter_list)),model_params_list)\n",
    "filtered_params = model_params_list[filter_inds]\n",
    "filtered_models = model_list[filter_inds]\n",
    "filtered_losses = loss_list[filter_inds]\n",
    "filtered_filenames = filenames[filter_inds]"
   ]
  },
  {
   "cell_type": "code",
   "execution_count": null,
   "metadata": {},
   "outputs": [],
   "source": [
    "filtered_losses = filtered_losses[1:4]\n",
    "filtered_params = filtered_params[1:4]\n",
    "imin = 5\n",
    "imax = 500\n",
    "for (loss, params) in zip(filtered_losses, filtered_params)\n",
    "    opt = get(params, :opt, false)\n",
    "    plot(loss[imin:imax], label = \"optimiser: $opt\")\n",
    "end\n",
    "legend()\n",
    "title(\"AE - Convergence rate depending on the used optimiser\")"
   ]
  }
 ],
 "metadata": {
  "kernelspec": {
   "display_name": "Julia 1.1.0",
   "language": "julia",
   "name": "julia-1.1"
  },
  "language_info": {
   "file_extension": ".jl",
   "mimetype": "application/julia",
   "name": "julia",
   "version": "1.1.0"
  }
 },
 "nbformat": 4,
 "nbformat_minor": 2
}
