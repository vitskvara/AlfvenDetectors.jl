{
 "cells": [
  {
   "cell_type": "code",
   "execution_count": null,
   "metadata": {},
   "outputs": [],
   "source": [
    "using PyPlot\n",
    "using AlfvenDetectors\n",
    "using BSON\n",
    "using Flux\n",
    "using ValueHistories\n",
    "using StatsBase\n",
    "using GenModels"
   ]
  },
  {
   "cell_type": "code",
   "execution_count": null,
   "metadata": {},
   "outputs": [],
   "source": [
    "datapath = \"/home/vit/vyzkum/alfven/cdb_data/uprobe_data\"\n",
    "shots = joinpath.(datapath, readdir(datapath))\n",
    "shotnos, labels, tstarts, fstarts = AlfvenDetectors.labeled_patches()\n",
    "patchsize = 128\n",
    "readfun = AlfvenDetectors.readnormlogupsd\n",
    "cmap = \"plasma\""
   ]
  },
  {
   "cell_type": "code",
   "execution_count": null,
   "metadata": {},
   "outputs": [],
   "source": [
    "@time patchdata = map(x->AlfvenDetectors.get_patch(datapath, x[1], x[2], x[3], patchsize, readfun;\n",
    "        memorysafe=true), zip(shotnos, tstarts, fstarts))\n",
    "data = cat([x[1] for x in patchdata]..., dims=4);\n",
    "println(size(data))"
   ]
  },
  {
   "cell_type": "code",
   "execution_count": null,
   "metadata": {},
   "outputs": [],
   "source": [
    "alfvendata = data[:,:,:,labels.==1]\n",
    "noalfvendata = data[:,:,:,labels.==0];"
   ]
  },
  {
   "cell_type": "code",
   "execution_count": null,
   "metadata": {},
   "outputs": [],
   "source": [
    "#modelpath = \"/home/vit/vyzkum/alfven/experiments/conv/uprobe/\"\n",
    "#modelpath = \"/home/vit/vyzkum/alfven/experiments/conv/uprobe/ae-test\";\n",
    "#modelpath = \"/home/vit/vyzkum/alfven/experiments/conv/uprobe/batchnorm-test\"\n",
    "#modelpath = \"/home/vit/vyzkum/alfven/experiments/conv/uprobe/benchmark-runs\"\n",
    "#modelpath = \"/home/vit/vyzkum/alfven/experiments/conv_old_library/uprobe/benchmark-runs\"\n",
    "modelpath = \"/home/vit/vyzkum/alfven/experiments/conv/uprobe/data_augmentation/\"\n",
    "filenames = joinpath.(modelpath, readdir(modelpath))\n",
    "println(\"$(length(filenames)) models found in modelpath\")"
   ]
  },
  {
   "cell_type": "markdown",
   "metadata": {},
   "source": [
    "Lets focus on the AE models that have the lowest loss first.\n",
    "First get the model params."
   ]
  },
  {
   "cell_type": "code",
   "execution_count": null,
   "metadata": {},
   "outputs": [],
   "source": [
    "model_params_list = []\n",
    "for imodel in 1:length(filenames)\n",
    "    model_params = parse_params(filenames[imodel])\n",
    "    push!(model_params_list, model_params)\n",
    "end"
   ]
  },
  {
   "cell_type": "markdown",
   "metadata": {},
   "source": [
    "Now filter some of them out."
   ]
  },
  {
   "cell_type": "code",
   "execution_count": null,
   "metadata": {},
   "outputs": [],
   "source": [
    "filter_list = [\n",
    "    :xdim => (patchsize,patchsize,1),\n",
    "    :model => \"ConvAE\",\n",
    "    :nepochs => 1000,\n",
    "]\n",
    "filter_inds = map(x->all(map(y->x[y[1]] == y[2],filter_list)),model_params_list)\n",
    "model_params_list = model_params_list[filter_inds]\n",
    "filename_list = filenames[filter_inds]\n",
    "println(\"working with $(length(filename_list)) models\")"
   ]
  },
  {
   "cell_type": "code",
   "execution_count": null,
   "metadata": {},
   "outputs": [],
   "source": [
    "loss_list = []\n",
    "model_list = []\n",
    "for (params, filename) in zip(model_params_list, filename_list)\n",
    "    model_data = BSON.load(filename)\n",
    "    is, ls = get(model_data[:history], :loss)\n",
    "    push!(loss_list, ls)\n",
    "    if get(params, :batchnorm, false)\n",
    "        model = Flux.testmode!(model_data[:model])\n",
    "    else\n",
    "        model = model_data[:model]\n",
    "    end\n",
    "    push!(model_list, model)\n",
    "end\n",
    "final_losses = [x[end] for x in loss_list];"
   ]
  },
  {
   "cell_type": "code",
   "execution_count": null,
   "metadata": {},
   "outputs": [],
   "source": [
    "alfven_loss = []\n",
    "noalfven_loss = []\n",
    "for (model, params) in zip(model_list, model_params_list)\n",
    "    if occursin(\"VAE\", params[:model])\n",
    "        push!(alfven_loss, AlfvenDetectors.loss(model, alfvendata, 1, 1.0).data)\n",
    "        push!(noalfven_loss, AlfvenDetectors.loss(model, noalfvendata, 1, 1.0).data)\n",
    "    else\n",
    "        push!(alfven_loss, AlfvenDetectors.loss(model, alfvendata).data)\n",
    "        push!(noalfven_loss, AlfvenDetectors.loss(model, noalfvendata).data)\n",
    "    end\n",
    "end"
   ]
  },
  {
   "cell_type": "markdown",
   "metadata": {},
   "source": [
    "#### Sort the models by the training loss"
   ]
  },
  {
   "cell_type": "code",
   "execution_count": null,
   "metadata": {},
   "outputs": [],
   "source": [
    "sortinds = sortperm(final_losses);\n",
    "sortinds = sortperm(alfven_loss);\n",
    "isample = 80\n",
    "patch = data[:,:,:,isample:isample]\n",
    "#sample = convsubtestdata[:,:,:,isample:isample]\n",
    "#sample = validdata[:,:,:,isample:isample]\n",
    "pcolormesh(patch[:,:,1,1],cmap=cmap)\n",
    "for imodel in sortinds\n",
    "    figure()\n",
    "    ns = model_list[imodel](patch).data\n",
    "    cl = Flux.mse(patch,ns)\n",
    "    title(\"model: $imodel, final training loss: $(round(final_losses[imodel],digits=5)),\n",
    "        alfven data loss: $(round(alfven_loss[imodel],digits=5)),\n",
    "        no alfven data loss: $(round(noalfven_loss[imodel],digits=5)),\n",
    "        patch loss: $(round(cl,digits=5))\")\n",
    "    pcolormesh(ns[:,:,1,1],cmap=cmap)\n",
    "    text(135, 30, pretty_params(model_params_list[imodel]))\n",
    "end"
   ]
  },
  {
   "cell_type": "markdown",
   "metadata": {},
   "source": [
    "Now lets look at a particular AE model."
   ]
  },
  {
   "cell_type": "code",
   "execution_count": null,
   "metadata": {},
   "outputs": [],
   "source": [
    "imodel = sortinds[1]\n",
    "model = model_list[imodel]\n",
    "params = model_params_list[imodel]\n",
    "loss = loss_list[imodel]\n",
    "file = filename_list[imodel]\n",
    "println(file)\n",
    "println(\"\")\n",
    "println(\"final training loss: $(round(final_losses[imodel],digits=5))\")\n",
    "println(\"alfven data loss: $(round(alfven_loss[imodel],digits=5))\")\n",
    "println(\"no alfven data loss: $(round(noalfven_loss[imodel],digits=5))\")\n",
    "println(\"\")\n",
    "print(pretty_params(params))"
   ]
  },
  {
   "cell_type": "code",
   "execution_count": null,
   "metadata": {},
   "outputs": [],
   "source": [
    "#plotlosses(hist)\n",
    "plot(loss[500:end])"
   ]
  },
  {
   "cell_type": "code",
   "execution_count": null,
   "metadata": {},
   "outputs": [],
   "source": [
    "i = 15\n",
    "figure()\n",
    "pcolormesh(data[:,:,1,i],cmap=cmap)\n",
    "patch = data[:,:,1:1,i:i];\n",
    "figure()\n",
    "rp = model(patch).data[:,:,1,1]\n",
    "l = Flux.mse(rp,patch)\n",
    "title(\"loss $l\")\n",
    "pcolormesh(rp,cmap=cmap)"
   ]
  },
  {
   "cell_type": "markdown",
   "metadata": {},
   "source": [
    "Now lets look at the 2D UMAP projections."
   ]
  },
  {
   "cell_type": "code",
   "execution_count": null,
   "metadata": {},
   "outputs": [],
   "source": [
    "using PyCall\n",
    "umap = pyimport(\"umap\")"
   ]
  },
  {
   "cell_type": "code",
   "execution_count": null,
   "metadata": {},
   "outputs": [],
   "source": [
    "umap_model = umap.UMAP(n_components = 2, n_neighbors=15, min_dist=0.1)"
   ]
  },
  {
   "cell_type": "code",
   "execution_count": null,
   "metadata": {},
   "outputs": [],
   "source": [
    "zdata = []\n",
    "N = size(data,4)\n",
    "for i in 1:ceil(Int,N/10)\n",
    "    if params[:model] == \"ConvTSVAE\"\n",
    "        _zdata = model.m1.encoder(data[:,:,:,(i-1)*10+1:min(i*10,N)]).data\n",
    "    else\n",
    "        _zdata = model.encoder(data[:,:,:,(i-1)*10+1:min(i*10,N)]).data\n",
    "    end    \n",
    "    push!(zdata,_zdata)\n",
    "end\n",
    "zdata = hcat(zdata...);\n",
    "size(zdata)"
   ]
  },
  {
   "cell_type": "code",
   "execution_count": null,
   "metadata": {},
   "outputs": [],
   "source": [
    "zdata2D = Array(umap_model.fit_transform(zdata')')"
   ]
  },
  {
   "cell_type": "code",
   "execution_count": null,
   "metadata": {},
   "outputs": [],
   "source": [
    "scatter(zdata2D[1,labels.==1], zdata2D[2,labels.==1],label=\"alfven\",s=5)\n",
    "scatter(zdata2D[1,labels.==0], zdata2D[2,labels.==0],label=\"no alfven\",s=5)\n",
    "title(\"all data transformed into 2D\")\n",
    "legend()"
   ]
  },
  {
   "cell_type": "markdown",
   "metadata": {},
   "source": [
    "Find some shots with chirp modes and use them as validation data."
   ]
  },
  {
   "cell_type": "code",
   "execution_count": null,
   "metadata": {},
   "outputs": [],
   "source": [
    "lims = [-8 -2.5; 1 4]\n",
    "plotbox = [lims[1,1] lims[1,2] lims[1,2] lims[1,1] lims[1,1]; lims[2,1] lims[2,1] lims[2,2] lims[2,2] lims[2,1]]\n",
    "zinds = vec(all(lims[:,1] .< zdata2D .< lims[:,2], dims=1));"
   ]
  },
  {
   "cell_type": "code",
   "execution_count": null,
   "metadata": {},
   "outputs": [],
   "source": [
    "scatter(zdata2D[1,zinds], zdata2D[2,zinds],label=\"selected patches\",s=15,c=\"k\")\n",
    "scatter(zdata2D[1,labels.==1], zdata2D[2,labels.==1],label=\"alfven\",s=5)\n",
    "scatter(zdata2D[1,labels.==0], zdata2D[2,labels.==0],label=\"no alfven\",s=5)\n",
    "plot(plotbox[1,:], plotbox[2,:])\n",
    "title(\"all data transformed into 2D\")\n",
    "legend()"
   ]
  },
  {
   "cell_type": "markdown",
   "metadata": {},
   "source": [
    "Compute the loss on the individual patches."
   ]
  },
  {
   "cell_type": "code",
   "execution_count": null,
   "metadata": {},
   "outputs": [],
   "source": [
    "data_loss = map(i->AlfvenDetectors.loss(model,data[:,:,:,i:i]).data,collect(1:size(data,4)))"
   ]
  },
  {
   "cell_type": "code",
   "execution_count": null,
   "metadata": {},
   "outputs": [],
   "source": [
    "for i in collect(1:size(data,4))[zinds]\n",
    "    figure(figsize=(10,5))\n",
    "    subplot(1,2,1)\n",
    "    suptitle(\"shot $(shotnos[i]), label $(labels[i]), loss $(data_loss[i])\")\n",
    "    pcolormesh(data[:,:,1,i],cmap=cmap)\n",
    "    subplot(1,2,2)\n",
    "    pcolormesh(model(data[:,:,:,i:i]).data[:,:,1,1],cmap=cmap)\n",
    "end    "
   ]
  },
  {
   "cell_type": "markdown",
   "metadata": {},
   "source": [
    "Instead of boxes, search for N nearest samples in the original latent space."
   ]
  },
  {
   "cell_type": "code",
   "execution_count": null,
   "metadata": {},
   "outputs": [],
   "source": [
    "clusterinds = (lims[:,1] .<= zdata2D .<= lims[:,2]);\n",
    "clusterinds = clusterinds[1,:] .& clusterinds[2,:];"
   ]
  },
  {
   "cell_type": "code",
   "execution_count": null,
   "metadata": {},
   "outputs": [],
   "source": [
    "scatter(zdata2D[1,:], zdata2D[2,:],s=3)\n",
    "scatter(zdata2D[1,clusterinds], zdata2D[2,clusterinds],s=3)\n",
    "plot(box[1,:], box[2,:],c=\"k\")"
   ]
  },
  {
   "cell_type": "code",
   "execution_count": null,
   "metadata": {},
   "outputs": [],
   "source": [
    "clusterconvdata = data[:,:,:,clusterinds];\n",
    "size(clusterconvdata)"
   ]
  },
  {
   "cell_type": "code",
   "execution_count": null,
   "metadata": {},
   "outputs": [],
   "source": [
    "for i in 1:size(clusterconvdata,4)\n",
    "    figure()\n",
    "    pcolormesh(clusterconvdata[:,:,1,i])\n",
    "end"
   ]
  },
  {
   "cell_type": "markdown",
   "metadata": {},
   "source": [
    "How does the model encode a picture in the individual channels?"
   ]
  },
  {
   "cell_type": "code",
   "execution_count": null,
   "metadata": {},
   "outputs": [],
   "source": [
    "#sample = batch[:,:,1:1,2:2]\n",
    "sample = chirpdata[:,:,:,2:2];\n",
    "if params[:model] == \"ConvTSVAE\"\n",
    "    m = model.m1.encoder.layers[1].layers[1](sample);\n",
    "    m = model.m1.encoder.layers[1].layers[2](m);\n",
    "else\n",
    "    m = model.encoder.layers[1].layers[1](sample);\n",
    "    m = model.encoder.layers[1].layers[2](m);\n",
    "end"
   ]
  },
  {
   "cell_type": "code",
   "execution_count": null,
   "metadata": {},
   "outputs": [],
   "source": [
    "pcolormesh(sample[:,:,1,1])"
   ]
  },
  {
   "cell_type": "code",
   "execution_count": null,
   "metadata": {},
   "outputs": [],
   "source": [
    "for i in 1:size(m,3)\n",
    "    figure()\n",
    "    pcolormesh(m.data[:,:,i,1])\n",
    "end"
   ]
  },
  {
   "cell_type": "markdown",
   "metadata": {},
   "source": [
    "And how doe the decoding work?"
   ]
  },
  {
   "cell_type": "code",
   "execution_count": null,
   "metadata": {},
   "outputs": [],
   "source": [
    "z = model.encoder(sample);\n",
    "if params[:model] == \"ConvAE\"\n",
    "    mx = model.decoder.layers[2](model.decoder.layers[1](z))\n",
    "    mx = model.decoder.layers[3].layers[1](mx)\n",
    "    #mx = model.decoder.layers[3].layers[2](mx)\n",
    "end"
   ]
  },
  {
   "cell_type": "code",
   "execution_count": null,
   "metadata": {},
   "outputs": [],
   "source": [
    "for i in 1:size(mx,3)\n",
    "    figure()\n",
    "    pcolormesh(mx.data[:,:,i,1])\n",
    "end"
   ]
  },
  {
   "cell_type": "markdown",
   "metadata": {},
   "source": [
    "Now test a selected model"
   ]
  },
  {
   "cell_type": "code",
   "execution_count": null,
   "metadata": {},
   "outputs": [],
   "source": [
    "modelpath = \"/home/vit/vyzkum/alfven/experiments/conv/uprobe/\"\n",
    "filenames = readdir(modelpath)\n",
    "params = [\n",
    "#    :nepochs => 200\n",
    "    :opt => \"NADAM\"\n",
    "]\n",
    "fstrings = vcat([\"$(x[1])-$(x[2])\" for x in params])\n",
    "filenames = joinpath.(modelpath,filter(x->any(map(y->occursin(y,x),fstrings)),filenames));\n",
    "println(\"working with a list of $(length(filenames)) files\")"
   ]
  },
  {
   "cell_type": "code",
   "execution_count": null,
   "metadata": {},
   "outputs": [],
   "source": [
    "filename = filenames[2]\n",
    "model_data = BSON.load(filename)\n",
    "model = model_data[:model]\n",
    "hist = model_data[:history]\n",
    "params = parse_params(filename)"
   ]
  },
  {
   "cell_type": "code",
   "execution_count": null,
   "metadata": {},
   "outputs": [],
   "source": [
    "plotlosses(hist)"
   ]
  },
  {
   "cell_type": "code",
   "execution_count": null,
   "metadata": {},
   "outputs": [],
   "source": [
    "filename"
   ]
  },
  {
   "cell_type": "code",
   "execution_count": null,
   "metadata": {},
   "outputs": [],
   "source": [
    "isample = 1\n",
    "#sample = convsubtestdata[:,:,:,isample:isample]\n",
    "sample = data[:,:,:,isample:isample]\n",
    "pcolormesh(sample[:,:,1,1])\n",
    "ns = model(sample).data\n",
    "figure()\n",
    "pcolormesh(ns[:,:,1,1])"
   ]
  },
  {
   "cell_type": "markdown",
   "metadata": {},
   "source": [
    "Check the different loss developement for optimizers/batchnorm."
   ]
  },
  {
   "cell_type": "code",
   "execution_count": null,
   "metadata": {},
   "outputs": [],
   "source": [
    "modelpath = \"/home/vit/vyzkum/alfven/experiments/conv/uprobe/batchnorm-test\"\n",
    "filenames = joinpath.(modelpath, readdir(modelpath))\n",
    "aepath = \"/home/vit/vyzkum/alfven/experiments/conv/uprobe/ae-test\"\n",
    "aefilenames = joinpath.(aepath, readdir(aepath))\n",
    "filenames = vcat(filenames, aefilenames);\n",
    "println(\"working with a total of $(length(filenames)) files\")"
   ]
  },
  {
   "cell_type": "code",
   "execution_count": null,
   "metadata": {},
   "outputs": [],
   "source": [
    "loss_list = []\n",
    "model_params_list = []\n",
    "model_list = []\n",
    "for imodel in 1:length(filenames)\n",
    "    model_data = BSON.load(filenames[imodel])\n",
    "    is, ls = get(model_data[:history], :loss)\n",
    "    push!(loss_list, ls)\n",
    "    model_params = parse_params(filenames[imodel])\n",
    "    push!(model_params_list, model_params)\n",
    "    if get(model_params, :batchnorm, false)\n",
    "        model = Flux.testmode!(model_data[:model])\n",
    "    else\n",
    "        model = model_data[:model]\n",
    "    end\n",
    "    push!(model_list, model)\n",
    "end\n",
    "final_losses = [x[end] for x in loss_list];"
   ]
  },
  {
   "cell_type": "code",
   "execution_count": null,
   "metadata": {},
   "outputs": [],
   "source": [
    "filter_list = [\n",
    "    x->x[:xdim] == (patchsize,patchsize,1),\n",
    "    x->x[:model] == \"ConvAE\",\n",
    "    x->x[:opt] == RMSProp\n",
    "]\n",
    "filter_inds = map(x->all(map(y->y(x),filter_list)),model_params_list)\n",
    "filtered_params = model_params_list[filter_inds]\n",
    "filtered_models = model_list[filter_inds]\n",
    "filtered_losses = loss_list[filter_inds]\n",
    "filtered_filenames = filenames[filter_inds]"
   ]
  },
  {
   "cell_type": "code",
   "execution_count": null,
   "metadata": {},
   "outputs": [],
   "source": [
    "imin = 200\n",
    "imax = 550\n",
    "for (loss, params) in zip(filtered_losses, filtered_params)\n",
    "    bn = get(params, :batchnorm, false)\n",
    "    plot(loss[imin:imax], label = \"batchnorm: $bn\")\n",
    "end\n",
    "legend()\n",
    "title(\"AE - convergence rate depending on the use of batch normalization\")"
   ]
  },
  {
   "cell_type": "code",
   "execution_count": null,
   "metadata": {},
   "outputs": [],
   "source": [
    "filter_list = [\n",
    "    x->!get(x,:batchnorm,false),\n",
    "    x->x[:eta]==0.001,\n",
    "    x->x[:model] == \"ConvAE\"\n",
    "]\n",
    "filter_inds = map(x->all(map(y->y(x),filter_list)),model_params_list)\n",
    "filtered_params = model_params_list[filter_inds]\n",
    "filtered_models = model_list[filter_inds]\n",
    "filtered_losses = loss_list[filter_inds]\n",
    "filtered_filenames = filenames[filter_inds]"
   ]
  },
  {
   "cell_type": "code",
   "execution_count": null,
   "metadata": {},
   "outputs": [],
   "source": [
    "filtered_losses = filtered_losses[1:4]\n",
    "filtered_params = filtered_params[1:4]\n",
    "imin = 5\n",
    "imax = 500\n",
    "for (loss, params) in zip(filtered_losses, filtered_params)\n",
    "    opt = get(params, :opt, false)\n",
    "    plot(loss[imin:imax], label = \"optimiser: $opt\")\n",
    "end\n",
    "legend()\n",
    "title(\"AE - Convergence rate depending on the used optimiser\")"
   ]
  }
 ],
 "metadata": {
  "kernelspec": {
   "display_name": "Julia 1.1.0",
   "language": "julia",
   "name": "julia-1.1"
  },
  "language_info": {
   "file_extension": ".jl",
   "mimetype": "application/julia",
   "name": "julia",
   "version": "1.1.0"
  }
 },
 "nbformat": 4,
 "nbformat_minor": 2
}
