{
 "cells": [
  {
   "cell_type": "code",
   "execution_count": null,
   "metadata": {},
   "outputs": [],
   "source": [
    "using PyPlot\n",
    "using AlfvenDetectors\n",
    "using BSON\n",
    "using Flux\n",
    "using ValueHistories"
   ]
  },
  {
   "cell_type": "code",
   "execution_count": null,
   "metadata": {},
   "outputs": [],
   "source": [
    "datapath = \"/home/vit/vyzkum/alfven/cdb_data/data_sample\"\n",
    "shots = joinpath.(datapath, readdir(datapath))\n",
    "shots = filter(x-> any(map(y -> occursin(y,x), \n",
    "    [\"10370\", \"10514\", \"10800\", \"10866\", \"10870\", \"10893\"])), \n",
    "    shots)\n",
    "patchsize = 128\n",
    "readfun = AlfvenDetectors.readnormlogupsd\n",
    "data = AlfvenDetectors.collect_conv_signals(shots,readfun,patchsize);\n",
    "println(size(data))"
   ]
  },
  {
   "cell_type": "code",
   "execution_count": null,
   "metadata": {},
   "outputs": [],
   "source": [
    "validshots = [\"Jldata10000.h5\"]\n",
    "validdata = AlfvenDetectors.collect_conv_signals(joinpath.(datapath,validshots), readfun, patchsize);\n",
    "println(size(validdata))"
   ]
  },
  {
   "cell_type": "code",
   "execution_count": null,
   "metadata": {},
   "outputs": [],
   "source": [
    "testdata = readfun(joinpath(datapath, \"Jldata10893.h5\"));\n",
    "pcolormesh(testdata)\n",
    "title(\"full data\")\n",
    "subtestdata = testdata[129:384, 1537:2816]\n",
    "figure()\n",
    "title(\"subset\")\n",
    "pcolormesh(subtestdata)"
   ]
  },
  {
   "cell_type": "code",
   "execution_count": null,
   "metadata": {},
   "outputs": [],
   "source": [
    "convtestdata = AlfvenDetectors.split_reshape(testdata,patchsize);\n",
    "println(size(convtestdata))\n",
    "convsubtestdata = AlfvenDetectors.split_reshape(subtestdata,patchsize);\n",
    "size(convsubtestdata)"
   ]
  },
  {
   "cell_type": "code",
   "execution_count": null,
   "metadata": {},
   "outputs": [],
   "source": [
    "#modelpath = \"/home/vit/vyzkum/alfven/experiments/conv/uprobe/\"\n",
    "#modelpath = \"/home/vit/vyzkum/alfven/experiments/conv/uprobe/ae-test\";\n",
    "modelpath = \"/home/vit/vyzkum/alfven/experiments/conv/uprobe/batchnorm-test\"\n",
    "filenames = joinpath.(modelpath, readdir(modelpath))\n",
    "println(\"$(length(filenames)) models found in modelpath\")"
   ]
  },
  {
   "cell_type": "markdown",
   "metadata": {},
   "source": [
    "Add the AE models as well."
   ]
  },
  {
   "cell_type": "code",
   "execution_count": null,
   "metadata": {},
   "outputs": [],
   "source": [
    "aepath = \"/home/vit/vyzkum/alfven/experiments/conv/uprobe/ae-test\"\n",
    "aefilenames = joinpath.(aepath, readdir(aepath))\n",
    "filenames = vcat(filenames, aefilenames);\n",
    "println(\"working with a total of $(length(filenames)) files\")"
   ]
  },
  {
   "cell_type": "code",
   "execution_count": null,
   "metadata": {},
   "outputs": [],
   "source": [
    "function parse_params(filename::String)\n",
    "    subss = split(basename(filename), \"_\")\n",
    "    params = Dict()\n",
    "    model = split(subss[1],\"/\")[end]\n",
    "    params[:model] = model\n",
    "    for subs in subss[2:end-1]\n",
    "        key, val = split(subs, \"-\")\n",
    "        try \n",
    "            val = eval(Meta.parse(val))\n",
    "        catch e\n",
    "            nothing\n",
    "        end\n",
    "        params[Symbol(key)] = val\n",
    "    end\n",
    "    time = split(subss[end],\".bson\")[1]\n",
    "    params[:time] = time\n",
    "    return params\n",
    "end"
   ]
  },
  {
   "cell_type": "code",
   "execution_count": null,
   "metadata": {},
   "outputs": [],
   "source": [
    "function plothistory(h, val; label=nothing, inds=nothing)\n",
    "    is,xs = get(h,val)\n",
    "    if inds == nothing\n",
    "        inds = 1:length(xs)\n",
    "    end\n",
    "    if label==nothing\n",
    "        plot(is[inds], xs[inds])\n",
    "    else\n",
    "        plot(is[inds], xs[inds], label=label)\n",
    "    end\n",
    "end\n",
    "function plotvae(h, inds=nothing)\n",
    "    plothistory(h,:loss,label=\"loss\",inds=inds)\n",
    "    plothistory(h,:loglikelihood,label=\"-loglikelihood\",inds=inds)\n",
    "    plothistory(h,:KL,label=\"KL\",inds=inds)\n",
    "end\n",
    "function plotae(h, inds=nothing)\n",
    "    plothistory(h,:loss,label=\"loss\",inds=inds)\n",
    "end\n",
    "function plotloss(h,inds=nothing)\n",
    "    if :KL in keys(h)\n",
    "        plotvae(h,inds)\n",
    "    else\n",
    "        plotae(h,inds)\n",
    "    end\n",
    "end\n",
    "function plotlosses(h, inds=nothing)\n",
    "    if length(h) == 1\n",
    "        figure()\n",
    "        plotloss(h,inds)\n",
    "        legend()\n",
    "    else\n",
    "        for _h in h\n",
    "            figure()\n",
    "            plotloss(_h,inds)\n",
    "            legend()\n",
    "        end\n",
    "    end \n",
    "end"
   ]
  },
  {
   "cell_type": "markdown",
   "metadata": {},
   "source": [
    "Lets focus on the AE models that have the lowest loss first."
   ]
  },
  {
   "cell_type": "code",
   "execution_count": null,
   "metadata": {},
   "outputs": [],
   "source": [
    "loss_list = []\n",
    "model_params_list = []\n",
    "model_list = []\n",
    "for imodel in 1:length(filenames)\n",
    "    model_data = BSON.load(filenames[imodel])\n",
    "    is, ls = get(model_data[:history], :loss)\n",
    "    push!(loss_list, ls)\n",
    "    model_params = parse_params(filenames[imodel])\n",
    "    push!(model_params_list, model_params)\n",
    "    if get(model_params, :batchnorm, false)\n",
    "        model = Flux.testmode!(model_data[:model])\n",
    "    else\n",
    "        model = model_data[:model]\n",
    "    end\n",
    "    push!(model_list, model)\n",
    "end\n",
    "final_losses = [x[end] for x in loss_list];"
   ]
  },
  {
   "cell_type": "markdown",
   "metadata": {},
   "source": [
    "Filter out some models"
   ]
  },
  {
   "cell_type": "code",
   "execution_count": null,
   "metadata": {},
   "outputs": [],
   "source": [
    "filter_list = [\n",
    "    :xdim => (patchsize,patchsize,1),\n",
    "    :model => \"ConvAE\"\n",
    "]\n",
    "filter_inds = map(x->all(map(y->x[y[1]] == y[2],filter_list)),model_params_list)\n",
    "model_params_list = model_params_list[filter_inds]\n",
    "loss_list = loss_list[filter_inds]\n",
    "model_list = model_list[filter_inds]\n",
    "final_losses = final_losses[filter_inds];"
   ]
  },
  {
   "cell_type": "code",
   "execution_count": null,
   "metadata": {},
   "outputs": [],
   "source": [
    "valid_loss = []\n",
    "for (model, params) in zip(model_list, model_params_list)\n",
    "    if occursin(\"VAE\", params[:model])\n",
    "        push!(valid_loss, AlfvenDetectors.loss(model, validdata, 1, 1.0).data)\n",
    "    else\n",
    "        push!(valid_loss, AlfvenDetectors.loss(model, validdata).data)\n",
    "    end\n",
    "end"
   ]
  },
  {
   "cell_type": "code",
   "execution_count": null,
   "metadata": {},
   "outputs": [],
   "source": [
    "function pretty_params(params)\n",
    "    s = \"\"\n",
    "    for (key, val) in params\n",
    "        s *= \"$key = $val \\n\"\n",
    "    end\n",
    "    return s\n",
    "end"
   ]
  },
  {
   "cell_type": "code",
   "execution_count": null,
   "metadata": {},
   "outputs": [],
   "source": [
    "testdata = readfun(joinpath(datapath, \"Jldata10893.h5\"));\n",
    "subtestdata = testdata[129:384, 1537:2816]\n",
    "convtestdata = AlfvenDetectors.split_reshape(testdata,patchsize);\n",
    "convsubtestdata = AlfvenDetectors.split_reshape(subtestdata,patchsize);"
   ]
  },
  {
   "cell_type": "code",
   "execution_count": null,
   "metadata": {},
   "outputs": [],
   "source": [
    "filenames[sortinds[2]]"
   ]
  },
  {
   "cell_type": "code",
   "execution_count": null,
   "metadata": {},
   "outputs": [],
   "source": [
    "model_params_list[sortinds[2]]"
   ]
  },
  {
   "cell_type": "code",
   "execution_count": null,
   "metadata": {},
   "outputs": [],
   "source": [
    "sortinds = sortperm(final_losses);\n",
    "isample = 10\n",
    "#sample = data[:,:,:,isample:isample]\n",
    "sample = convsubtestdata[:,:,:,isample:isample]\n",
    "#sample = validdata[:,:,:,isample:isample]\n",
    "pcolormesh(sample[:,:,1,1])\n",
    "for imodel in sortinds\n",
    "    figure()\n",
    "    ns = model_list[imodel](sample).data\n",
    "    cl = Flux.mse(sample,ns)\n",
    "    title(\"model: $imodel, final training loss: $(round(final_losses[imodel],digits=5)),\n",
    "        validation loss: $(round(valid_loss[imodel],digits=5)),\n",
    "        patch loss: $(round(cl,digits=5))\")\n",
    "    pcolormesh(ns[:,:,1,1])\n",
    "    text(135, 30, pretty_params(model_params_list[imodel]))\n",
    "end"
   ]
  },
  {
   "cell_type": "markdown",
   "metadata": {},
   "source": [
    "Now lets look at a particular AE model."
   ]
  },
  {
   "cell_type": "code",
   "execution_count": null,
   "metadata": {},
   "outputs": [],
   "source": [
    "imodel = sortinds[1]\n",
    "model_data = BSON.load(filenames[imodel])\n",
    "model = model_data[:model]\n",
    "hist = model_data[:history]\n",
    "println(filenames[imodel])\n",
    "params = parse_params(filenames[imodel])\n",
    "if get(params, :batchnorm, false)\n",
    "    model = Flux.testmode!(model)\n",
    "end"
   ]
  },
  {
   "cell_type": "code",
   "execution_count": null,
   "metadata": {},
   "outputs": [],
   "source": [
    "plotlosses(hist)"
   ]
  },
  {
   "cell_type": "code",
   "execution_count": null,
   "metadata": {},
   "outputs": [],
   "source": [
    "i = 15\n",
    "figure()\n",
    "pcolormesh(convsubtestdata[:,:,1,i])\n",
    "sample = convsubtestdata[:,:,1:1,i:i];\n",
    "figure()\n",
    "pcolormesh(model(sample).data[:,:,1,1])"
   ]
  },
  {
   "cell_type": "markdown",
   "metadata": {},
   "source": [
    "Now lets look at the 2D UMAP projections."
   ]
  },
  {
   "cell_type": "code",
   "execution_count": null,
   "metadata": {},
   "outputs": [],
   "source": [
    "using PyCall\n",
    "umap = pyimport(\"umap\")"
   ]
  },
  {
   "cell_type": "code",
   "execution_count": null,
   "metadata": {},
   "outputs": [],
   "source": [
    "umap_model = umap.UMAP(n_components = 2, n_neighbors=15, min_dist=0.1)"
   ]
  },
  {
   "cell_type": "code",
   "execution_count": null,
   "metadata": {},
   "outputs": [],
   "source": [
    "size(data)\n",
    "zdata = []\n",
    "for i in 1:Int(size(data,4)/10)\n",
    "    if params[:model] == \"ConvTSVAE\"\n",
    "        _zdata = model.m1.encoder(data[:,:,:,(i-1)*10+1:i*10]).data\n",
    "    else\n",
    "        _zdata = model.encoder(data[:,:,:,(i-1)*10+1:i*10]).data\n",
    "    end    \n",
    "    push!(zdata,_zdata)\n",
    "end\n",
    "zdata = hcat(zdata...);\n",
    "size(zdata)"
   ]
  },
  {
   "cell_type": "code",
   "execution_count": null,
   "metadata": {},
   "outputs": [],
   "source": [
    "zdata2D = Array(umap_model.fit_transform(zdata')')"
   ]
  },
  {
   "cell_type": "code",
   "execution_count": null,
   "metadata": {},
   "outputs": [],
   "source": [
    "scatter(zdata2D[1,:], zdata2D[2,:])\n",
    "title(\"all data transformed into 2D\")"
   ]
  },
  {
   "cell_type": "code",
   "execution_count": null,
   "metadata": {},
   "outputs": [],
   "source": [
    "selectinds = [17,15,10,9,8,6,4,2,13]\n",
    "selectinds = [17,15,13,9]\n",
    "#selectinds = [10,9,4]\n",
    "chirpdata = convsubtestdata[:,:,:,selectinds]\n",
    "for i in 1:length(selectinds)\n",
    "   figure()\n",
    "    pcolormesh(chirpdata[:,:,1,i])\n",
    "end"
   ]
  },
  {
   "cell_type": "code",
   "execution_count": null,
   "metadata": {},
   "outputs": [],
   "source": [
    "if params[:model] == \"ConvTSVAE\"\n",
    "    chirpzdata = model.m1.encoder(chirpdata).data\n",
    "else\n",
    "    chirpzdata = model.encoder(chirpdata).data\n",
    "end\n",
    "chirpzdata2D = Array(umap_model.transform(chirpzdata')')"
   ]
  },
  {
   "cell_type": "code",
   "execution_count": null,
   "metadata": {},
   "outputs": [],
   "source": [
    "scatter(zdata2D[1,:], zdata2D[2,:],s=3)\n",
    "scatter(chirpzdata2D[1,:], chirpzdata2D[2,:],s=20)\n",
    "title(\"all data transformed into 2D\")"
   ]
  },
  {
   "cell_type": "markdown",
   "metadata": {},
   "source": [
    "Find some shots with chirp modes and use them as validation data."
   ]
  },
  {
   "cell_type": "code",
   "execution_count": null,
   "metadata": {},
   "outputs": [],
   "source": [
    "#lims = [6.5 8.3; 0.0 2.1]\n",
    "lims = [6.5 8.3; 0.0 2.1]\n",
    "box = [lims[1,1] lims[1,2] lims[1,2] lims[1,1] lims[1,1]; lims[2,1] lims[2,1] lims[2,2] lims[2,2] lims[2,1]]"
   ]
  },
  {
   "cell_type": "markdown",
   "metadata": {},
   "source": [
    "Instead of boxes, search for N nearest samples in the original latent space."
   ]
  },
  {
   "cell_type": "code",
   "execution_count": null,
   "metadata": {},
   "outputs": [],
   "source": [
    "clusterinds = (lims[:,1] .<= zdata2D .<= lims[:,2]);\n",
    "clusterinds = clusterinds[1,:] .& clusterinds[2,:];"
   ]
  },
  {
   "cell_type": "code",
   "execution_count": null,
   "metadata": {},
   "outputs": [],
   "source": [
    "scatter(zdata2D[1,:], zdata2D[2,:],s=3)\n",
    "scatter(zdata2D[1,clusterinds], zdata2D[2,clusterinds],s=3)\n",
    "plot(box[1,:], box[2,:],c=\"k\")"
   ]
  },
  {
   "cell_type": "code",
   "execution_count": null,
   "metadata": {},
   "outputs": [],
   "source": [
    "clusterconvdata = data[:,:,:,clusterinds];\n",
    "size(clusterconvdata)"
   ]
  },
  {
   "cell_type": "code",
   "execution_count": null,
   "metadata": {},
   "outputs": [],
   "source": [
    "for i in 1:size(clusterconvdata,4)\n",
    "    figure()\n",
    "    pcolormesh(clusterconvdata[:,:,1,i])\n",
    "end"
   ]
  },
  {
   "cell_type": "markdown",
   "metadata": {},
   "source": [
    "How does the model encode a picture in the individual channels?"
   ]
  },
  {
   "cell_type": "code",
   "execution_count": null,
   "metadata": {},
   "outputs": [],
   "source": [
    "#sample = batch[:,:,1:1,2:2]\n",
    "sample = chirpdata[:,:,:,2:2];\n",
    "if params[:model] == \"ConvTSVAE\"\n",
    "    m = model.m1.encoder.layers[1].layers[1](sample);\n",
    "    m = model.m1.encoder.layers[1].layers[2](m);\n",
    "else\n",
    "    m = model.encoder.layers[1].layers[1](sample);\n",
    "    m = model.encoder.layers[1].layers[2](m);\n",
    "end"
   ]
  },
  {
   "cell_type": "code",
   "execution_count": null,
   "metadata": {},
   "outputs": [],
   "source": [
    "pcolormesh(sample[:,:,1,1])"
   ]
  },
  {
   "cell_type": "code",
   "execution_count": null,
   "metadata": {},
   "outputs": [],
   "source": [
    "for i in 1:size(m,3)\n",
    "    figure()\n",
    "    pcolormesh(m.data[:,:,i,1])\n",
    "end"
   ]
  },
  {
   "cell_type": "markdown",
   "metadata": {},
   "source": [
    "And how doe the decoding work?"
   ]
  },
  {
   "cell_type": "code",
   "execution_count": null,
   "metadata": {},
   "outputs": [],
   "source": [
    "z = model.encoder(sample);\n",
    "if params[:model] == \"ConvAE\"\n",
    "    mx = model.decoder.layers[2](model.decoder.layers[1](z))\n",
    "    mx = model.decoder.layers[3].layers[1](mx)\n",
    "    #mx = model.decoder.layers[3].layers[2](mx)\n",
    "end"
   ]
  },
  {
   "cell_type": "code",
   "execution_count": null,
   "metadata": {},
   "outputs": [],
   "source": [
    "for i in 1:size(mx,3)\n",
    "    figure()\n",
    "    pcolormesh(mx.data[:,:,i,1])\n",
    "end"
   ]
  },
  {
   "cell_type": "markdown",
   "metadata": {},
   "source": [
    "Now test a selected model"
   ]
  },
  {
   "cell_type": "code",
   "execution_count": null,
   "metadata": {},
   "outputs": [],
   "source": [
    "modelpath = \"/home/vit/vyzkum/alfven/experiments/conv/uprobe/\"\n",
    "filenames = readdir(modelpath)\n",
    "params = [\n",
    "#    :nepochs => 200\n",
    "    :opt => \"NADAM\"\n",
    "]\n",
    "fstrings = vcat([\"$(x[1])-$(x[2])\" for x in params])\n",
    "filenames = joinpath.(modelpath,filter(x->any(map(y->occursin(y,x),fstrings)),filenames));\n",
    "println(\"working with a list of $(length(filenames)) files\")"
   ]
  },
  {
   "cell_type": "code",
   "execution_count": null,
   "metadata": {},
   "outputs": [],
   "source": [
    "filename = filenames[2]\n",
    "model_data = BSON.load(filename)\n",
    "model = model_data[:model]\n",
    "hist = model_data[:history]\n",
    "params = parse_params(filename)"
   ]
  },
  {
   "cell_type": "code",
   "execution_count": null,
   "metadata": {},
   "outputs": [],
   "source": [
    "plotlosses(hist)"
   ]
  },
  {
   "cell_type": "code",
   "execution_count": null,
   "metadata": {},
   "outputs": [],
   "source": [
    "filename"
   ]
  },
  {
   "cell_type": "code",
   "execution_count": null,
   "metadata": {},
   "outputs": [],
   "source": [
    "isample = 1\n",
    "#sample = convsubtestdata[:,:,:,isample:isample]\n",
    "sample = data[:,:,:,isample:isample]\n",
    "pcolormesh(sample[:,:,1,1])\n",
    "ns = model(sample).data\n",
    "figure()\n",
    "pcolormesh(ns[:,:,1,1])"
   ]
  },
  {
   "cell_type": "markdown",
   "metadata": {},
   "source": [
    "Check the different loss developement for optimizers/batchnorm."
   ]
  },
  {
   "cell_type": "code",
   "execution_count": null,
   "metadata": {},
   "outputs": [],
   "source": [
    "modelpath = \"/home/vit/vyzkum/alfven/experiments/conv/uprobe/batchnorm-test\"\n",
    "filenames = joinpath.(modelpath, readdir(modelpath))\n",
    "aepath = \"/home/vit/vyzkum/alfven/experiments/conv/uprobe/ae-test\"\n",
    "aefilenames = joinpath.(aepath, readdir(aepath))\n",
    "filenames = vcat(filenames, aefilenames);\n",
    "println(\"working with a total of $(length(filenames)) files\")"
   ]
  },
  {
   "cell_type": "code",
   "execution_count": null,
   "metadata": {},
   "outputs": [],
   "source": [
    "loss_list = []\n",
    "model_params_list = []\n",
    "model_list = []\n",
    "for imodel in 1:length(filenames)\n",
    "    model_data = BSON.load(filenames[imodel])\n",
    "    is, ls = get(model_data[:history], :loss)\n",
    "    push!(loss_list, ls)\n",
    "    model_params = parse_params(filenames[imodel])\n",
    "    push!(model_params_list, model_params)\n",
    "    if get(model_params, :batchnorm, false)\n",
    "        model = Flux.testmode!(model_data[:model])\n",
    "    else\n",
    "        model = model_data[:model]\n",
    "    end\n",
    "    push!(model_list, model)\n",
    "end\n",
    "final_losses = [x[end] for x in loss_list];"
   ]
  },
  {
   "cell_type": "code",
   "execution_count": null,
   "metadata": {},
   "outputs": [],
   "source": [
    "filter_list = [\n",
    "    x->x[:xdim] == (patchsize,patchsize,1),\n",
    "    x->x[:model] == \"ConvAE\",\n",
    "    x->x[:opt] == RMSProp\n",
    "]\n",
    "filter_inds = map(x->all(map(y->y(x),filter_list)),model_params_list)\n",
    "filtered_params = model_params_list[filter_inds]\n",
    "filtered_models = model_list[filter_inds]\n",
    "filtered_losses = loss_list[filter_inds]\n",
    "filtered_filenames = filenames[filter_inds]"
   ]
  },
  {
   "cell_type": "code",
   "execution_count": null,
   "metadata": {},
   "outputs": [],
   "source": [
    "imin = 200\n",
    "imax = 550\n",
    "for (loss, params) in zip(filtered_losses, filtered_params)\n",
    "    bn = get(params, :batchnorm, false)\n",
    "    plot(loss[imin:imax], label = \"batchnorm: $bn\")\n",
    "end\n",
    "legend()\n",
    "title(\"AE - convergence rate depending on the use of batch normalization\")"
   ]
  },
  {
   "cell_type": "code",
   "execution_count": null,
   "metadata": {},
   "outputs": [],
   "source": [
    "filter_list = [\n",
    "    x->!get(x,:batchnorm,false),\n",
    "    x->x[:eta]==0.001,\n",
    "    x->x[:model] == \"ConvAE\"\n",
    "]\n",
    "filter_inds = map(x->all(map(y->y(x),filter_list)),model_params_list)\n",
    "filtered_params = model_params_list[filter_inds]\n",
    "filtered_models = model_list[filter_inds]\n",
    "filtered_losses = loss_list[filter_inds]\n",
    "filtered_filenames = filenames[filter_inds]"
   ]
  },
  {
   "cell_type": "code",
   "execution_count": null,
   "metadata": {},
   "outputs": [],
   "source": [
    "filtered_losses = filtered_losses[1:4]\n",
    "filtered_params = filtered_params[1:4]\n",
    "imin = 5\n",
    "imax = 500\n",
    "for (loss, params) in zip(filtered_losses, filtered_params)\n",
    "    opt = get(params, :opt, false)\n",
    "    plot(loss[imin:imax], label = \"optimiser: $opt\")\n",
    "end\n",
    "legend()\n",
    "title(\"AE - Convergence rate depending on the used optimiser\")"
   ]
  }
 ],
 "metadata": {
  "kernelspec": {
   "display_name": "Julia 1.1.0",
   "language": "julia",
   "name": "julia-1.1"
  },
  "language_info": {
   "file_extension": ".jl",
   "mimetype": "application/julia",
   "name": "julia",
   "version": "1.1.0"
  }
 },
 "nbformat": 4,
 "nbformat_minor": 2
}
