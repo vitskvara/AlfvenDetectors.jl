{
 "cells": [
  {
   "cell_type": "markdown",
   "metadata": {},
   "source": [
    "### In this notebook we shall look at some of the trrained models on different types of data to see whether there is some kind of structure int he latent space. UMAP will be needed in those cases where the dimensionality of the latent space is > 2. Use only TSVAE pretrained models as the should contain about the same information as AE and definitely the same as VAE."
   ]
  },
  {
   "cell_type": "code",
   "execution_count": null,
   "metadata": {},
   "outputs": [],
   "source": [
    "using AlfvenDetectors\n",
    "using Flux\n",
    "using ValueHistories\n",
    "using BSON\n",
    "using PyPlot\n",
    "using Dates\n",
    "using PyCall\n",
    "using GaussianMixtures\n",
    "umap = pyimport(\"umap\")"
   ]
  },
  {
   "cell_type": "code",
   "execution_count": null,
   "metadata": {},
   "outputs": [],
   "source": [
    "datapath = \"/home/vit/vyzkum/alfven/cdb_data/data_sample/\"\n",
    "shots = readdir(datapath)\n",
    "shotlist = joinpath.(datapath, shots)"
   ]
  },
  {
   "cell_type": "code",
   "execution_count": null,
   "metadata": {},
   "outputs": [],
   "source": [
    "measurement_type = \"uprobe\"\n",
    "basemodelpath = \"/home/vit/vyzkum/alfven/experiments/single_col/\"\n",
    "modelpath = joinpath(basemodelpath, measurement_type)\n",
    "if measurement_type == \"mscamp\"\n",
    "    readfun = AlfvenDetectors.readmscamp\n",
    "elseif measurement_type == \"mscphase\"\n",
    "    readfun = AlfvenDetectors.readnormmscphase\n",
    "elseif measurement_type == \"mscampphase\"\n",
    "    readfun = AlfvenDetectors.readmscampphase\n",
    "elseif measurement_type == \"uprobe\"\n",
    "    readfun = AlfvenDetectors.readnormlogupsd\n",
    "end\n",
    "coils = [12,13,14];\n",
    "# also if using uprobe, only use a few shots\n",
    "if measurement_type == \"uprobe\"\n",
    "    shotlist = shotlist[9:12]\n",
    "end"
   ]
  },
  {
   "cell_type": "code",
   "execution_count": null,
   "metadata": {},
   "outputs": [],
   "source": [
    "if measurement_type == \"uprobe\"\n",
    "    rawdata = AlfvenDetectors.collect_signals(shotlist, readfun)\n",
    "else\n",
    "    rawdata = AlfvenDetectors.collect_signals(shotlist, readfun, coils)\n",
    "end\n",
    "data = rawdata;\n",
    "M,N = size(data)"
   ]
  },
  {
   "cell_type": "code",
   "execution_count": null,
   "metadata": {},
   "outputs": [],
   "source": [
    "models = readdir(modelpath)"
   ]
  },
  {
   "cell_type": "markdown",
   "metadata": {},
   "source": [
    "### Now lets look at a particular model"
   ]
  },
  {
   "cell_type": "code",
   "execution_count": null,
   "metadata": {},
   "outputs": [],
   "source": [
    "modelname = \"TSVAE\"\n",
    "ldim = 32\n",
    "imodel = 1\n",
    "submodels = filter(x->x[1:length(modelname)] == modelname, models)\n",
    "submodels = filter(x->occursin(\"ldim-$ldim\",x), submodels)\n",
    "bsonpath = joinpath(modelpath,submodels[imodel])\n",
    "submodels"
   ]
  },
  {
   "cell_type": "code",
   "execution_count": null,
   "metadata": {},
   "outputs": [],
   "source": [
    "showtime(time) = Dates.canonicalize(Dates.CompoundPeriod(Dates.Second(floor(Int,time))))"
   ]
  },
  {
   "cell_type": "code",
   "execution_count": null,
   "metadata": {},
   "outputs": [],
   "source": [
    "modeldata = BSON.load(bsonpath)\n",
    "model = modeldata[:model]\n",
    "history = modeldata[:history]\n",
    "time = modeldata[:time]\n",
    "println(\"Training time: $(showtime(time))\" )"
   ]
  },
  {
   "cell_type": "code",
   "execution_count": null,
   "metadata": {},
   "outputs": [],
   "source": [
    "z = model.m1.encoder(data).data;\n",
    "sz = model.m1.sampler(z);\n",
    "z = z[1:ldim,:]\n",
    "GC.gc()"
   ]
  },
  {
   "cell_type": "code",
   "execution_count": null,
   "metadata": {},
   "outputs": [],
   "source": [
    "z_umap_model = umap.UMAP(n_components = 2, n_neighbors=15, min_dist=0.1)    \n",
    "if ldim > 2\n",
    "    #@time Matrix(umap_model.fit_transform((z[:,1:1000])')')\n",
    "    @time z2D = Matrix(z_umap_model.fit_transform((z)')')\n",
    "else\n",
    "    z2D = z\n",
    "end"
   ]
  },
  {
   "cell_type": "code",
   "execution_count": null,
   "metadata": {},
   "outputs": [],
   "source": [
    "scatter(z2D[1,:], z2D[2,:], s= 2, alpha= 0.1)\n",
    "title(\"UMAP projection of the model1 latent space ($ldim -> 2)\")"
   ]
  },
  {
   "cell_type": "markdown",
   "metadata": {},
   "source": [
    "#### Fit a GMM model to the 2D data"
   ]
  },
  {
   "cell_type": "code",
   "execution_count": null,
   "metadata": {},
   "outputs": [],
   "source": [
    "tz2D = Array(z2D')\n",
    "kind = :full\n",
    "gmm2D = GaussianMixtures.GMM(4, tz2D, kind=kind)"
   ]
  },
  {
   "cell_type": "code",
   "execution_count": null,
   "metadata": {},
   "outputs": [],
   "source": [
    "# for covariance isolines drawing\n",
    "include(\"/home/vit/Dropbox/vyzkum/cisco/kod/lib/julia/BivariateNormal.jl\")"
   ]
  },
  {
   "cell_type": "code",
   "execution_count": null,
   "metadata": {},
   "outputs": [],
   "source": [
    "scatter(z2D[1,:], z2D[2,:], s= 2, alpha= 0.1)\n",
    "covarmats = covars(gmm2D)\n",
    "for i in 1:length(gmm2D.Σ)\n",
    "    if kind == :diag\n",
    "        Σ = [covarmats[i,1] 0; 0 covarmats[i,2]]\n",
    "    else\n",
    "        Σ = covarmats[i]\n",
    "    end\n",
    "    μ = gmm2D.μ[i,:]\n",
    "    el = BivariateNormal.getEllipsis(Σ, μ, 50, 1.0);\n",
    "    plot(el[:,1], el[:,2], label = \"component $i\")\n",
    "end\n",
    "legend()\n",
    "title(\"UMAP projection of the model1 latent space ($ldim -> 2)\")"
   ]
  },
  {
   "cell_type": "markdown",
   "metadata": {},
   "source": [
    "### Try to select shots where there should be an Alfven mode and project them into the latent space."
   ]
  },
  {
   "cell_type": "code",
   "execution_count": null,
   "metadata": {},
   "outputs": [],
   "source": [
    "function get_shot_data_code_and_projection(shot, coil, readfun, umap_model)\n",
    "    f = joinpath(datapath, \"Jldata$(shot).h5\")\n",
    "    if measurement_type == \"uprobe\"\n",
    "        data = AlfvenDetectors.get_ft_signal(f, readfun)\n",
    "    else\n",
    "        data = AlfvenDetectors.get_ft_signals(f, readfun, coil)\n",
    "    end\n",
    "    z = (model.m1.encoder(data).data)[1:ldim,:]\n",
    "    if ldim > 2\n",
    "        z2D = Matrix(umap_model.transform(z')')\n",
    "    else\n",
    "        z2D = z\n",
    "    end\n",
    "    return data, z, z2D\n",
    "end"
   ]
  },
  {
   "cell_type": "code",
   "execution_count": null,
   "metadata": {},
   "outputs": [],
   "source": [
    "shotlist = [(10000,12), (10893,14), (10370,12)]\n",
    "alldata = map(x->get_shot_data_code_and_projection(x[1], x[2], readfun, z_umap_model),shotlist);"
   ]
  },
  {
   "cell_type": "code",
   "execution_count": null,
   "metadata": {},
   "outputs": [],
   "source": [
    "for (shotinfo,shotdata) in zip(shotlist,alldata)\n",
    "    figure()\n",
    "    title(\"shot $(shotinfo[1]), coil $(shotinfo[2])\")\n",
    "    pcolormesh(shotdata[1])\n",
    "end"
   ]
  },
  {
   "cell_type": "code",
   "execution_count": null,
   "metadata": {},
   "outputs": [],
   "source": [
    "inds = 500:1000\n",
    "chirpx = alldata[2][1][:,inds]\n",
    "pcolormesh(chirpx)\n",
    "chirpz = (model.m1.encoder(chirpx).data)[1:ldim,:]\n",
    "if ldim > 2\n",
    "    chirpz2D = Matrix(z_umap_model.transform(chirpz')')\n",
    "else\n",
    "    chirpz2D = chirpz\n",
    "end"
   ]
  },
  {
   "cell_type": "code",
   "execution_count": null,
   "metadata": {},
   "outputs": [],
   "source": [
    "scatter(z2D[1,:], z2D[2,:], s=3, alpha= 0.1, label=\"all data\")\n",
    "for (shotinfo,shotdata) in zip(shotlist, alldata)\n",
    "    scatter(shotdata[3][1,:],shotdata[3][2,:], label=shotinfo[1], s=0.5,alpha=0.3)\n",
    "end\n",
    "scatter(chirpz2D[1,:], chirpz2D[2,:], label = \"10893 chirps\", s=0.5,alpha=1)\n",
    "legend()\n",
    "title(\"Model 1 latent space\")"
   ]
  },
  {
   "cell_type": "code",
   "execution_count": null,
   "metadata": {},
   "outputs": [],
   "source": [
    "tchirpz2D = Array(chirpz2D')\n",
    "maxinds2D = map(x->x[2], argmax(llpg(gmm2D, tchirpz2D), dims = 2));"
   ]
  },
  {
   "cell_type": "code",
   "execution_count": null,
   "metadata": {},
   "outputs": [],
   "source": [
    "plt.hist(maxinds2D)\n",
    "title(\"Histogram of component pertinence for the chirp data\")\n",
    "xlabel(\"component index\")\n",
    "ylabel(\"number of pertinent samples in chirp data\")"
   ]
  },
  {
   "cell_type": "markdown",
   "metadata": {},
   "source": [
    "## Lets also try to fit GMM to the original latent space "
   ]
  },
  {
   "cell_type": "code",
   "execution_count": null,
   "metadata": {},
   "outputs": [],
   "source": [
    "tz = Array(z')\n",
    "kind = :full\n",
    "@time gmmOrig = GaussianMixtures.GMM(6, tz, kind=kind)"
   ]
  },
  {
   "cell_type": "code",
   "execution_count": null,
   "metadata": {},
   "outputs": [],
   "source": [
    "tchirpz = Array(chirpz')\n",
    "maxindsOrig = map(x->x[2], argmax(llpg(gmmOrig, tchirpz), dims = 2));"
   ]
  },
  {
   "cell_type": "code",
   "execution_count": null,
   "metadata": {},
   "outputs": [],
   "source": [
    "plt.hist(maxindsOrig)\n",
    "title(\"Histogram of component pertinence for the chirp data\")\n",
    "xlabel(\"component index\")\n",
    "ylabel(\"number of pertinent samples in chirp data\")"
   ]
  },
  {
   "cell_type": "markdown",
   "metadata": {},
   "source": [
    "Clearly, the chirping data are more likely to belong to one of the gaussian mixture model components thatn to the rest even in the original latent space dimension."
   ]
  },
  {
   "cell_type": "markdown",
   "metadata": {},
   "source": [
    "### What if we try to fit data from a whole shot?"
   ]
  },
  {
   "cell_type": "code",
   "execution_count": null,
   "metadata": {},
   "outputs": [],
   "source": [
    "for (shotinfo,shotdata) in zip(shotlist, alldata)\n",
    "    _tz = Array(shotdata[2]')\n",
    "    maxinds = map(x->x[2], argmax(llpg(gmmOrig, _tz), dims = 2));\n",
    "    figure()\n",
    "    plt.hist(maxinds)\n",
    "    title(\"Shot $(shotinfo[1]) - histogram of GMM model component pertinence in the latent space\")\n",
    "    xlabel(\"component index\")\n",
    "    ylabel(\"number of pertinent samples in chirp data\")\n",
    "end\n"
   ]
  }
 ],
 "metadata": {
  "kernelspec": {
   "display_name": "Julia 1.1.0",
   "language": "julia",
   "name": "julia-1.1"
  },
  "language_info": {
   "file_extension": ".jl",
   "mimetype": "application/julia",
   "name": "julia",
   "version": "1.1.0"
  }
 },
 "nbformat": 4,
 "nbformat_minor": 2
}
