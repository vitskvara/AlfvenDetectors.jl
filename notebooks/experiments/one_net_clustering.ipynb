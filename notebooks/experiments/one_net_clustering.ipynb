{
 "cells": [
  {
   "cell_type": "code",
   "execution_count": null,
   "metadata": {},
   "outputs": [],
   "source": [
    "using PyPlot\n",
    "using AlfvenDetectors\n",
    "using BSON\n",
    "using Flux\n",
    "using ValueHistories\n",
    "using StatsBase\n",
    "using GaussianMixtures\n",
    "using Random\n",
    "include(\"../../experiments/eval_utils.jl\")"
   ]
  },
  {
   "cell_type": "code",
   "execution_count": null,
   "metadata": {},
   "outputs": [],
   "source": [
    "datapath = \"/home/vit/vyzkum/alfven/cdb_data/uprobe_data\"\n",
    "shots = joinpath.(datapath, readdir(datapath))\n",
    "shotnos, labels, tstarts, fstarts = AlfvenDetectors.labeled_patches()\n",
    "patchsize = 128\n",
    "readfun = AlfvenDetectors.readnormlogupsd\n",
    "cmap = \"plasma\""
   ]
  },
  {
   "cell_type": "code",
   "execution_count": null,
   "metadata": {},
   "outputs": [],
   "source": [
    "patchpath = \"/home/vit/vyzkum/alfven/experiments/conv/labeled_patches/$patchsize\"\n",
    "batchsize = 10\n",
    "data = map(x->AlfvenDetectors.get_patch_from_csv(patchpath, x[1], x[2], x[3], x[4]), \n",
    "        zip(shotnos, labels, tstarts, fstarts))\n",
    "data = cat(map(x->reshape(x,size(x)...,1,1),data)...,dims=4)\n",
    "println(size(data))"
   ]
  },
  {
   "cell_type": "code",
   "execution_count": null,
   "metadata": {},
   "outputs": [],
   "source": [
    "alfvendata = data[:,:,:,labels.==1]\n",
    "noalfvendata = data[:,:,:,labels.==0];"
   ]
  },
  {
   "cell_type": "code",
   "execution_count": null,
   "metadata": {},
   "outputs": [],
   "source": [
    "modelpath = \"/home/vit/vyzkum/alfven/experiments/conv/uprobe/benchmark-runs\"\n",
    "model_file = joinpath(modelpath, \"ConvAE_xdim-(128, 128, 1)_ldim-32_nlayers-2_kernelsize-3_channels-[8, 16]_scaling-2_outbatchnorm-true_batchnorm-true_usegpu-true_memoryefficient-true_batchsize-128_opt-RMSProp_eta-0.001_nshots-10_nepochs-1000_noalfven-false_2019-04-13T10:31:22.045.bson\")"
   ]
  },
  {
   "cell_type": "code",
   "execution_count": null,
   "metadata": {},
   "outputs": [],
   "source": [
    "params = parse_params(model_file)\n",
    "model_data = BSON.load(model_file)\n",
    "history = model_data[:history]\n",
    "if get(params, :batchnorm, false)\n",
    "    model = Flux.testmode!(model_data[:model])\n",
    "else\n",
    "    model = model_data[:model]\n",
    "end\n",
    "print(pretty_params(params))"
   ]
  },
  {
   "cell_type": "code",
   "execution_count": null,
   "metadata": {},
   "outputs": [],
   "source": [
    "z = model.encoder(data).data;\n",
    "zT = Array(z')"
   ]
  },
  {
   "cell_type": "markdown",
   "metadata": {},
   "source": [
    "Do train/test split."
   ]
  },
  {
   "cell_type": "code",
   "execution_count": null,
   "metadata": {},
   "outputs": [],
   "source": [
    "Random.seed!(12345)\n",
    "N = size(z,2)\n",
    "rand_inds = sample(1:N,N,replace=false)\n",
    "train_inds = rand_inds[1:Int(N/2)]\n",
    "test_inds = rand_inds[Int(N/2)+1:end]\n",
    "z_train = z[:,train_inds]\n",
    "z_test = z[:,test_inds]\n",
    "labels_train = labels[train_inds]\n",
    "labels_test = labels[test_inds]\n",
    "zT_train = Array(z_train')\n",
    "zT_test = Array(z_test')"
   ]
  },
  {
   "cell_type": "code",
   "execution_count": null,
   "metadata": {},
   "outputs": [],
   "source": [
    "#kind = :full\n",
    "kind = :diag\n",
    "gmm_model = GaussianMixtures.GMM(5, zT_train, kind=kind)"
   ]
  },
  {
   "cell_type": "code",
   "execution_count": null,
   "metadata": {},
   "outputs": [],
   "source": [
    "println(gmm_model.w)"
   ]
  },
  {
   "cell_type": "markdown",
   "metadata": {},
   "source": [
    "### Compute the anomaly score"
   ]
  },
  {
   "cell_type": "markdown",
   "metadata": {},
   "source": [
    "First compute the mean/max/median log-likelihood of all the datapoints relative to all components. Use this N-component long vector as a base. Then, for a new point, compute its log-likelihood in the components and use the negative value of the MSE between this vector and the base as the anomaly score."
   ]
  },
  {
   "cell_type": "code",
   "execution_count": null,
   "metadata": {},
   "outputs": [],
   "source": [
    "score(model, x) = llpg(model, x)\n",
    "maxscore(model,x) = maximum(score(model,x),dims=1)\n",
    "meanscore(model,x) = mean(score(model,x),dims=1)\n",
    "medianscore(model,x) = StatsBase.median(score(model,x),dims=1)\n",
    "max_inds(model, x) = map(x->x[2],argmax(score(model, x),dims=2))    "
   ]
  },
  {
   "cell_type": "code",
   "execution_count": null,
   "metadata": {},
   "outputs": [],
   "source": [
    "ma = meanscore(gmm_model, zT_train[labels_train.==1,:])\n",
    "println(ma)\n",
    "mn = meanscore(gmm_model, zT_train[labels_train.==0,:])\n",
    "println(mn)"
   ]
  },
  {
   "cell_type": "code",
   "execution_count": null,
   "metadata": {},
   "outputs": [],
   "source": [
    "mamax = maxscore(gmm_model, zT_train[labels_train.==1,:])\n",
    "println(mamax)\n",
    "mnmax = maxscore(gmm_model, zT_train[labels_train.==0,:])\n",
    "println(mnmax)"
   ]
  },
  {
   "cell_type": "code",
   "execution_count": null,
   "metadata": {},
   "outputs": [],
   "source": [
    "mamed = medianscore(gmm_model, zT_train[labels_train.==1,:])\n",
    "println(mamed)\n",
    "mnmed = medianscore(gmm_model, zT_train[labels_train.==0,:])\n",
    "println(mnmed)"
   ]
  },
  {
   "cell_type": "code",
   "execution_count": null,
   "metadata": {},
   "outputs": [],
   "source": [
    "i = 7\n",
    "println(labels_test[i])\n",
    "lls = score(gmm_model, zT_test[i:i,:])\n",
    "println(lls)\n",
    "s = sum((lls - ma).^2)\n",
    "println(s)"
   ]
  },
  {
   "cell_type": "code",
   "execution_count": null,
   "metadata": {},
   "outputs": [],
   "source": [
    "lls_test = score(gmm_model, zT_test);\n",
    "sm = vec(mean((lls_test.-ma).^2,dims=2)/size(ma,2));\n",
    "smax = vec(mean((lls_test.-mamax).^2,dims=2)/size(mamax,2));\n",
    "smed = vec(mean((lls_test.-mamed).^2,dims=2)/size(mamed,2));"
   ]
  },
  {
   "cell_type": "code",
   "execution_count": null,
   "metadata": {},
   "outputs": [],
   "source": [
    "sortinds = sortperm(sm)\n",
    "for i in sortinds\n",
    "    println(labels_test[i], \" \", sm[i])\n",
    "end"
   ]
  },
  {
   "cell_type": "code",
   "execution_count": null,
   "metadata": {},
   "outputs": [],
   "source": [
    "using EvalCurves"
   ]
  },
  {
   "cell_type": "code",
   "execution_count": null,
   "metadata": {},
   "outputs": [],
   "source": [
    "roc = EvalCurves.roccurve(-smed, labels_test)\n",
    "auroc = EvalCurves.auc(roc...)"
   ]
  },
  {
   "cell_type": "code",
   "execution_count": null,
   "metadata": {},
   "outputs": [],
   "source": [
    "title(\"$auroc\")\n",
    "plot(roc...)\n",
    "xlim([0,1])\n",
    "ylim([0,1])"
   ]
  },
  {
   "cell_type": "markdown",
   "metadata": {},
   "source": [
    "Obviously, this is not very good."
   ]
  },
  {
   "cell_type": "markdown",
   "metadata": {},
   "source": [
    "### Try something else"
   ]
  },
  {
   "cell_type": "markdown",
   "metadata": {},
   "source": [
    "Now, lets figure out which component is most likely for the labeled patches to appear. Then, take this component as the base. The anomaly score is then the negative of loglikelihood of teh sample in this component. Or maybe take the K most frequently appearing components?"
   ]
  },
  {
   "cell_type": "code",
   "execution_count": null,
   "metadata": {},
   "outputs": [],
   "source": [
    "alfven_inds = max_inds(gmm_model, zT_train[labels_train.==1,:]);\n",
    "noalfven_inds = max_inds(gmm_model, zT_train[labels_train.==0,:]);"
   ]
  },
  {
   "cell_type": "code",
   "execution_count": null,
   "metadata": {},
   "outputs": [],
   "source": [
    "plt.hist(alfven_inds)"
   ]
  },
  {
   "cell_type": "code",
   "execution_count": null,
   "metadata": {},
   "outputs": [],
   "source": [
    "plt.hist(noalfven_inds)"
   ]
  },
  {
   "cell_type": "code",
   "execution_count": null,
   "metadata": {},
   "outputs": [],
   "source": [
    "alfven_inds_test = max_inds(gmm_model, zT_test[labels_test.==1,:]);\n",
    "noalfven_inds_test = max_inds(gmm_model, zT_test[labels_test.==0,:]);"
   ]
  },
  {
   "cell_type": "code",
   "execution_count": null,
   "metadata": {},
   "outputs": [],
   "source": [
    "plt.hist(alfven_inds_test)"
   ]
  },
  {
   "cell_type": "code",
   "execution_count": null,
   "metadata": {},
   "outputs": [],
   "source": [
    "plt.hist(noalfven_inds_test)"
   ]
  },
  {
   "cell_type": "code",
   "execution_count": null,
   "metadata": {},
   "outputs": [],
   "source": [
    "function component_frequency(model, x)\n",
    "    maxinds = vec(max_inds(model, x))\n",
    "    cmap = countmap(maxinds)\n",
    "    is = collect(keys(cmap))\n",
    "    counts = collect(values(cmap))\n",
    "    isort = sortperm(counts,rev=true)\n",
    "    return is[isort], counts[isort]\n",
    "end"
   ]
  },
  {
   "cell_type": "code",
   "execution_count": null,
   "metadata": {},
   "outputs": [],
   "source": [
    "cinds, ccounts = component_frequency(gmm_model, zT_train[labels_train.==1,:])"
   ]
  },
  {
   "cell_type": "code",
   "execution_count": null,
   "metadata": {},
   "outputs": [],
   "source": [
    "llhs = score(gmm_model, zT_test)\n",
    "as = llhs[:,cinds[1]]"
   ]
  },
  {
   "cell_type": "code",
   "execution_count": null,
   "metadata": {},
   "outputs": [],
   "source": [
    "max_inds_x = vec(max_inds(gmm_model, zT_test))"
   ]
  },
  {
   "cell_type": "code",
   "execution_count": null,
   "metadata": {},
   "outputs": [],
   "source": [
    "as = Int.(max_inds_x .== cinds[1])"
   ]
  },
  {
   "cell_type": "code",
   "execution_count": null,
   "metadata": {},
   "outputs": [],
   "source": [
    "roc = EvalCurves.roccurve(as, labels_test)\n",
    "auroc = EvalCurves.auc(roc...)"
   ]
  },
  {
   "cell_type": "code",
   "execution_count": null,
   "metadata": {},
   "outputs": [],
   "source": [
    "plot(roc...)\n",
    "title(\"$auroc\")"
   ]
  },
  {
   "cell_type": "code",
   "execution_count": null,
   "metadata": {},
   "outputs": [],
   "source": [
    "bestinds = sortperm(-as)\n",
    "labels_test[bestinds]"
   ]
  },
  {
   "cell_type": "markdown",
   "metadata": {},
   "source": [
    "Try SVAE, kNN on the latent space? Try AAEs, Vamps, Waserstein..."
   ]
  },
  {
   "cell_type": "code",
   "execution_count": null,
   "metadata": {},
   "outputs": [],
   "source": [
    "for i in bestinds\n",
    "    figure()\n",
    "    pcolormesh(data[:,:,1,test_inds[i]],cmap=cmap)\n",
    "    title(\"$(labels_test[i])\")\n",
    "end"
   ]
  }
 ],
 "metadata": {
  "kernelspec": {
   "display_name": "Julia 1.1.0",
   "language": "julia",
   "name": "julia-1.1"
  },
  "language_info": {
   "file_extension": ".jl",
   "mimetype": "application/julia",
   "name": "julia",
   "version": "1.1.0"
  }
 },
 "nbformat": 4,
 "nbformat_minor": 2
}
