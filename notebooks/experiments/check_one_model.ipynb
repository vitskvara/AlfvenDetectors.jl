{
 "cells": [
  {
   "cell_type": "code",
   "execution_count": null,
   "metadata": {},
   "outputs": [],
   "source": [
    "using AlfvenDetectors\n",
    "using GenModels\n",
    "#using PyPlot\n",
    "using Plots\n",
    "using BSON\n",
    "using Flux\n",
    "using ValueHistories\n",
    "using StatsBase\n",
    "using Random"
   ]
  },
  {
   "cell_type": "code",
   "execution_count": null,
   "metadata": {},
   "outputs": [],
   "source": [
    "using PyCall\n",
    "umap = pyimport(\"umap\")"
   ]
  },
  {
   "cell_type": "code",
   "execution_count": null,
   "metadata": {},
   "outputs": [],
   "source": [
    "mf = \"/home/vit/vyzkum/alfven/experiments/conv/uprobe/ConvWAE_channels-[8,16]_patchsize-128_nepochs-1_2019-05-07T15:09:31.304.bson\"\n",
    "model_data = BSON.load(mf)\n",
    "exp_args = model_data[:experiment_args]\n",
    "model_args = model_data[:model_args]\n",
    "model_kwargs = model_data[:model_kwargs]\n",
    "history = model_data[:history]\n",
    "model = Flux.testmode!(GenModels.construct_model(mf));"
   ]
  },
  {
   "cell_type": "code",
   "execution_count": null,
   "metadata": {},
   "outputs": [],
   "source": [
    "# now get some data\n",
    "datapath = \"/home/vit/vyzkum/alfven/cdb_data/uprobe_data\"\n",
    "patchsize = 128\n",
    "readfun = AlfvenDetectors.readnormlogupsd\n",
    "shotnos, labels, tstarts, fstarts = AlfvenDetectors.labeled_patches()\n",
    "patchdata = map(x->AlfvenDetectors.get_patch(datapath,x[1], x[2], x[3], patchsize, readfun;\n",
    "\tmemorysafe = true)[1],\tzip(shotnos, tstarts, fstarts))\n",
    "data = cat(patchdata..., dims=4)\n"
   ]
  },
  {
   "cell_type": "code",
   "execution_count": null,
   "metadata": {},
   "outputs": [],
   "source": [
    "Z = model.encoder(data).data;\n",
    "gZ = model.pz(400);"
   ]
  },
  {
   "cell_type": "code",
   "execution_count": null,
   "metadata": {},
   "outputs": [],
   "source": [
    "using Plots\n",
    "gr()"
   ]
  },
  {
   "cell_type": "code",
   "execution_count": null,
   "metadata": {},
   "outputs": [],
   "source": [
    "Plots.scatter(Z[1,:], Z[2,:], Z[3,:])\n",
    "Plots.scatter!(gZ[1,:], gZ[2,:], gZ[3,:])"
   ]
  },
  {
   "cell_type": "code",
   "execution_count": null,
   "metadata": {},
   "outputs": [],
   "source": []
  },
  {
   "cell_type": "code",
   "execution_count": null,
   "metadata": {},
   "outputs": [],
   "source": [
    "modelpath = \"/home/vit/vyzkum/alfven/experiments/conv_old_library/uprobe/\""
   ]
  },
  {
   "cell_type": "code",
   "execution_count": null,
   "metadata": {},
   "outputs": [],
   "source": [
    "datapath = \"/home/vit/vyzkum/alfven/cdb_data/uprobe_data/\"\n",
    "labeled_shots, shot_labels = AlfvenDetectors.labeled_data()\n",
    "Random.seed!(123)\n",
    "iused = sample(1:size(labeled_shots,1), 10, replace=false)\n",
    "labeled_shots = labeled_shots[iused]\n",
    "shot_labels = shot_labels[iused]\n",
    "datafiles = readdir(datapath);\n",
    "println(\"$(length(datafiles)) shots available\")"
   ]
  },
  {
   "cell_type": "code",
   "execution_count": null,
   "metadata": {},
   "outputs": [],
   "source": [
    "patchsize = 128\n",
    "readfun = AlfvenDetectors.readnormlogupsd\n",
    "data_labels = []\n",
    "data_shotnos = []\n",
    "data = Array{Float32,4}(undef,patchsize,patchsize,1,0)\n",
    "for (label, shot) in zip(shot_labels, labeled_shots)\n",
    "    file = joinpath.(datapath, datafiles[map(x->occursin(\"$shot\", x),datafiles)])\n",
    "    X = AlfvenDetectors.collect_conv_signals(file, readfun, patchsize)\n",
    "    N = size(X,4)\n",
    "    data = cat(data,X,dims=4)\n",
    "    push!(data_labels, fill(label,N))\n",
    "    push!(data_shotnos, fill(shot,N))\n",
    "end\n",
    "data_labels = vcat(data_labels...);\n",
    "data_shotnos = vcat(data_shotnos...);"
   ]
  },
  {
   "cell_type": "code",
   "execution_count": null,
   "metadata": {},
   "outputs": [],
   "source": [
    "testdata = readfun(joinpath(datapath, \"uprobe_10893.h5\"));\n",
    "testdata = testdata[129:384, 1537:2816]\n",
    "figure()\n",
    "pcolormesh(testdata)\n",
    "testdata = AlfvenDetectors.split_reshape(testdata,patchsize);\n",
    "size(testdata)"
   ]
  },
  {
   "cell_type": "code",
   "execution_count": null,
   "metadata": {},
   "outputs": [],
   "source": [
    "mf = joinpath(modelpath, \"batchnorm-test/ConvAE_xdim-(128, 128, 1)_ldim-64_nlayers-2_kernelsize-3_channels-[2, 4]_scaling-2_batchnorm-true_batchsize-128_nepochs-1000_opt-RMSProp_eta-0.001_usegpu-true_memoryefficient-true_2019-04-05T17:03:35.079.bson\")\n",
    "# this is the best model, however it was trained on the 10893 data\n",
    "#mf = joinpath(modelpath, \"outbatchnorm/ConvAE_xdim-(128, 128, 1)_ldim-64_nlayers-2_kernelsize-3_channels-[2, 4]_scaling-2_outbatchnorm-false_batchnorm-true_batchsize-128_nepochs-1000_opt-RMSProp_eta-0.001_usegpu-true_memoryefficient-true_2019-04-11T22:20:35.763.bson\")\n",
    "#mf = joinpath(modelpath, \"outbatchnorm/ConvAE_xdim-(128, 128, 1)_ldim-64_nlayers-2_kernelsize-3_channels-[2, 4]_scaling-2_outbatchnorm-true_batchnorm-true_batchsize-128_nepochs-1000_opt-RMSProp_eta-0.001_usegpu-true_memoryefficient-true_2019-04-11T20:12:06.821.bson\")\n",
    "model_data = BSON.load(mf)\n",
    "params = parse_params(mf)\n",
    "hist = model_data[:history]\n",
    "model = model_data[:model]\n",
    "if get(params, :batchnorm, false)\n",
    "    Flux.testmode!(model);\n",
    "end\n",
    "display(params)\n",
    "is,ls = get(hist,:loss)\n",
    "vl = AlfvenDetectors.loss(model, testdata).data\n",
    "println(\"trainig loss: $(ls[end])\")\n",
    "println(\"validation loss: $vl\")"
   ]
  },
  {
   "cell_type": "markdown",
   "metadata": {},
   "source": [
    "Check the reconstructions."
   ]
  },
  {
   "cell_type": "code",
   "execution_count": null,
   "metadata": {},
   "outputs": [],
   "source": [
    "cmap=\"plasma\"\n",
    "for i in 1:size(testdata,4)\n",
    "    figure(figsize=(10,5))\n",
    "    subplot(1,2,1)\n",
    "    pcolormesh(testdata[:,:,1,i], cmap=cmap)\n",
    "    subplot(1,2,2)\n",
    "    pcolormesh(model(testdata[:,:,:,i:i]).data[:,:,1,1], cmap=cmap)\n",
    "    \n",
    "end"
   ]
  },
  {
   "cell_type": "code",
   "execution_count": null,
   "metadata": {},
   "outputs": [],
   "source": [
    "testdata"
   ]
  },
  {
   "cell_type": "code",
   "execution_count": null,
   "metadata": {},
   "outputs": [],
   "source": [
    "GC.gc()"
   ]
  },
  {
   "cell_type": "code",
   "execution_count": null,
   "metadata": {},
   "outputs": [],
   "source": [
    "# now compute the code in batches\n",
    "batchsize = 10\n",
    "z = model.encoder(data[:,:,:,1:batchsize]).data;\n",
    "for i in 2:floor(Int,size(data,4)/batchsize)\n",
    "    z=cat(z, model.encoder(data[:,:,:,((i-1)*batchsize+1):i*batchsize]).data, dims=2)\n",
    "end\n",
    "z=cat(z, model.encoder(data[:,:,:,end-(size(data,4)%batchsize)+1:end]).data, dims=2);"
   ]
  },
  {
   "cell_type": "code",
   "execution_count": null,
   "metadata": {},
   "outputs": [],
   "source": [
    "plt.hist(mean(z,dims=2))"
   ]
  },
  {
   "cell_type": "code",
   "execution_count": null,
   "metadata": {},
   "outputs": [],
   "source": [
    "umap_model = umap.UMAP(n_components = 2, n_neighbors=15, min_dist=0.1)"
   ]
  },
  {
   "cell_type": "code",
   "execution_count": null,
   "metadata": {},
   "outputs": [],
   "source": [
    "z2D = Array(umap_model.fit_transform(z')')"
   ]
  },
  {
   "cell_type": "code",
   "execution_count": null,
   "metadata": {},
   "outputs": [],
   "source": [
    "scatter(z2D[1,:],z2D[2,:],s=5)\n",
    "title(\"data from shots $(labeled_shots)\")"
   ]
  },
  {
   "cell_type": "code",
   "execution_count": null,
   "metadata": {},
   "outputs": [],
   "source": [
    "for shotno in unique(data_shotnos)\n",
    "    zs = z2D[:,data_shotnos.==shotno]\n",
    "    scatter(zs[1,:], zs[2,:],s=5,label=\"$shotno\")\n",
    "end\n",
    "legend()"
   ]
  },
  {
   "cell_type": "code",
   "execution_count": null,
   "metadata": {},
   "outputs": [],
   "source": [
    "for label in unique(data_labels)\n",
    "    zs = z2D[:,data_labels.==label]\n",
    "    scatter(zs[1,:], zs[2,:],s=5,label=\"$label\")\n",
    "end\n",
    "legend()"
   ]
  },
  {
   "cell_type": "code",
   "execution_count": null,
   "metadata": {},
   "outputs": [],
   "source": [
    "testz = model.encoder(testdata).data;\n",
    "testz2D = Array(umap_model.transform(testz')')"
   ]
  },
  {
   "cell_type": "code",
   "execution_count": null,
   "metadata": {},
   "outputs": [],
   "source": [
    "for label in unique(data_labels)\n",
    "    zs = z2D[:,data_labels.==label]\n",
    "    scatter(zs[1,:], zs[2,:],s=5,label=\"$label\")\n",
    "end\n",
    "scatter(testz2D[1,:], testz2D[2,:],s=5,label=\"test\",c=\"k\")\n",
    "legend()"
   ]
  },
  {
   "cell_type": "code",
   "execution_count": null,
   "metadata": {},
   "outputs": [],
   "source": [
    "clusterinds = collect(1:size(z2D,2))[ (-50. .< z2D[1,:] .< -10) .&  (-10 .< z2D[2,:] .< 10)]\n",
    "#clusterinds = collect(1:size(z2D,2))[ (-2. .< z2D[1,:] .< 1) .&  (0 .< z2D[2,:] .< 3)]\n",
    "#clusterinds = collect(1:size(z2D,2))[ (0.5 .< z2D[1,:] .< 3) .&  (5.5 .< z2D[2,:] .< 6.5)]\n",
    "scatter(z2D[1,clusterinds],z2D[2,clusterinds])\n",
    "scatter(testz2D[1,:], testz2D[2,:],s=5,label=\"test\",c=\"k\")\n"
   ]
  },
  {
   "cell_type": "code",
   "execution_count": null,
   "metadata": {},
   "outputs": [],
   "source": [
    "for i in clusterinds\n",
    "    figure()\n",
    "    pcolormesh(data[:,:,1,i], cmap=\"plasma\")\n",
    "    title(\"$i, label = $(data_labels[i])\")\n",
    "end"
   ]
  },
  {
   "cell_type": "code",
   "execution_count": null,
   "metadata": {},
   "outputs": [],
   "source": [
    "plt.hist(mean(z,dims=2))"
   ]
  },
  {
   "cell_type": "code",
   "execution_count": null,
   "metadata": {},
   "outputs": [],
   "source": [
    "plt.hist(mean(z[:,clusterinds],dims=2))"
   ]
  }
 ],
 "metadata": {
  "@webio": {
   "lastCommId": null,
   "lastKernelId": null
  },
  "kernelspec": {
   "display_name": "Julia 1.1.0",
   "language": "julia",
   "name": "julia-1.1"
  },
  "language_info": {
   "file_extension": ".jl",
   "mimetype": "application/julia",
   "name": "julia",
   "version": "1.1.0"
  }
 },
 "nbformat": 4,
 "nbformat_minor": 2
}
