{
 "cells": [
  {
   "cell_type": "markdown",
   "metadata": {},
   "source": [
    "## In this notebook we will develop a lightweight algorithm for determining which part of a discharge is valid - beginning all up to non-zero current"
   ]
  },
  {
   "cell_type": "code",
   "execution_count": null,
   "metadata": {},
   "outputs": [],
   "source": [
    "using AlfvenDetectors\n",
    "using PyPlot\n",
    "using StatsBase"
   ]
  },
  {
   "cell_type": "code",
   "execution_count": null,
   "metadata": {},
   "outputs": [],
   "source": [
    "datapath = \"/home/vit/vyzkum/alfven/cdb_data/data_sample/\";"
   ]
  },
  {
   "cell_type": "code",
   "execution_count": null,
   "metadata": {},
   "outputs": [],
   "source": [
    "shots = readdir(datapath)"
   ]
  },
  {
   "cell_type": "code",
   "execution_count": null,
   "metadata": {},
   "outputs": [],
   "source": [
    "function getip()\n",
    "    Ip = []\n",
    "    for shot in shots\n",
    "        push!(Ip, AlfvenDetectors.readip(joinpath(datapath, shot)))\n",
    "    end\n",
    "    return Ip\n",
    "end"
   ]
  },
  {
   "cell_type": "code",
   "execution_count": null,
   "metadata": {},
   "outputs": [],
   "source": [
    "Ips = getip();\n",
    "filter!(x->length(x)>1,Ips)\n",
    "N = length(Ips)"
   ]
  },
  {
   "cell_type": "code",
   "execution_count": null,
   "metadata": {},
   "outputs": [],
   "source": [
    "for i in 1:N\n",
    "    subplot(ceil(Int, N/2),2,i)\n",
    "    plot(Ips[i])\n",
    "end"
   ]
  },
  {
   "cell_type": "code",
   "execution_count": null,
   "metadata": {},
   "outputs": [],
   "source": [
    "ip = AlfvenDetectors.makepositive(Ips[1])"
   ]
  },
  {
   "cell_type": "code",
   "execution_count": null,
   "metadata": {},
   "outputs": [],
   "source": [
    "function valid_ip(x,ϵ=0.02)\n",
    "    _x = AlfvenDetectors.makepositive(x)\n",
    "    mx,imx = findmax(_x)\n",
    "    inds = _x .>= mx*ϵ\n",
    "    return [fill(true,imx); inds[imx+1:end]]\n",
    "end"
   ]
  },
  {
   "cell_type": "code",
   "execution_count": null,
   "metadata": {},
   "outputs": [],
   "source": [
    "for i in 1:N\n",
    "    subplot(ceil(Int, N/2),2,i)\n",
    "    ip = AlfvenDetectors.makepositive(Ips[i])\n",
    "    ts = collect(1:length(ip))\n",
    "    plot(ts,ip)\n",
    "    valid_inds = valid_ip(ip)\n",
    "    plot(ts[valid_inds], ip[valid_inds])\n",
    "end"
   ]
  }
 ],
 "metadata": {
  "kernelspec": {
   "display_name": "Julia 1.1.0",
   "language": "julia",
   "name": "julia-1.1"
  },
  "language_info": {
   "file_extension": ".jl",
   "mimetype": "application/julia",
   "name": "julia",
   "version": "1.1.0"
  }
 },
 "nbformat": 4,
 "nbformat_minor": 2
}
