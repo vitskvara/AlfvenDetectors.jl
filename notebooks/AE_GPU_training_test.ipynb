{
 "cells": [
  {
   "cell_type": "markdown",
   "metadata": {},
   "source": [
    "## Gere lets try to get some data from the alfven modes and train a few autoencoders on them to see if they capture any structure in the latent layer"
   ]
  },
  {
   "cell_type": "code",
   "execution_count": null,
   "metadata": {},
   "outputs": [],
   "source": [
    "using AlfvenDetectors\n",
    "using PyPlot\n",
    "using Flux\n",
    "using CuArrays  # for GPU runs\n",
    "using ValueHistories\n",
    "using BSON: @save, @load"
   ]
  },
  {
   "cell_type": "markdown",
   "metadata": {},
   "source": [
    "What we are doing is unsupervised training on columns of the magnitude squared coherence time histograms. "
   ]
  },
  {
   "cell_type": "markdown",
   "metadata": {},
   "source": [
    "### Collect the data\n",
    "\n",
    "Use shot #10370 and #11960 and several coil couples. Select only some timeslices, normalize data"
   ]
  },
  {
   "cell_type": "code",
   "execution_count": null,
   "metadata": {},
   "outputs": [],
   "source": [
    "host = gethostname()\n",
    "if occursin(\"vit\", host)\n",
    "    datapath = \"/home/vit/vyzkum/alfven/cdb_data/original_data/\"\n",
    "else\n",
    "    datapath = \"/home/skvara/work/alfven/cdb_data/original_data/\"\n",
    "end"
   ]
  },
  {
   "cell_type": "code",
   "execution_count": null,
   "metadata": {},
   "outputs": [],
   "source": [
    "function get_msc_array(datapath, shot, coil, timelim = [1.0, 1.25])\n",
    "    _data = AlfvenDetectors.BaseAlfvenData(joinpath(datapath,\"$(shot).h5\"), [coil])\n",
    "    tinds = timelim[1] .<= _data.t .<= timelim[2]\n",
    "    return _data.msc[coil][:,tinds], _data.t[tinds], _data.f \n",
    "end"
   ]
  },
  {
   "cell_type": "code",
   "execution_count": null,
   "metadata": {},
   "outputs": [],
   "source": [
    "msc, t, f = get_msc_array(datapath, 11096, 20)"
   ]
  },
  {
   "cell_type": "code",
   "execution_count": null,
   "metadata": {},
   "outputs": [],
   "source": [
    "pcolormesh(t,f,msc)"
   ]
  },
  {
   "cell_type": "code",
   "execution_count": null,
   "metadata": {},
   "outputs": [],
   "source": [
    "function collect_msc(datapath, shot, coils)\n",
    "    datalist = map(x-> get_msc_array(datapath, shot, x), coils)\n",
    "    return hcat([x[1] for x in datalist]...), datalist[1][3]\n",
    "end"
   ]
  },
  {
   "cell_type": "code",
   "execution_count": null,
   "metadata": {},
   "outputs": [],
   "source": [
    "shots_coils = [\n",
    "#    [10370, [12, 15, 17, 20]],\n",
    "    [10370, [12, 20]],\n",
    "#    [11096, [11, 8, 17, 20]]\n",
    "    [11096, [11, 8, 20]]\n",
    "]\n",
    "datalist = map(x->collect_msc(datapath, x[1], x[2]), shots_coils)\n",
    "data, f = hcat([x[1] for x in datalist]...), datalist[1][2]"
   ]
  },
  {
   "cell_type": "code",
   "execution_count": null,
   "metadata": {},
   "outputs": [],
   "source": [
    "pcolormesh(1:size(data,2), f, data)"
   ]
  },
  {
   "cell_type": "markdown",
   "metadata": {},
   "source": [
    "### Now that we have the data, construct a (V)AE\n",
    "\n",
    "Larger dimension of middle layer is beneficial, but improvement from 10 to 20 is much alrger than from 20 to 200.\n",
    "\n",
    "Reconstruction works even with zdim = 2 although there are some artifacts."
   ]
  },
  {
   "cell_type": "code",
   "execution_count": null,
   "metadata": {},
   "outputs": [],
   "source": [
    "M,N = size(data)\n",
    "# fortunately data is already normalized in the interval (0,1)\n",
    "zdim = 2\n",
    "small_model = AlfvenDetectors.AE([M, 20, zdim], [zdim, 20, M])\n",
    "large_model = AlfvenDetectors.AE([M, 200, zdim], [zdim, 200, M])\n",
    "small_train_history = MVHistory()\n",
    "large_train_history = MVHistory()\n",
    "batchsize = 64\n",
    "nepochs = 500\n",
    "cbit = 1\n",
    "# progress bars are broken in notebooks\n",
    "if occursin(\".jl\", @__FILE__) \n",
    "    verb = true\n",
    "else\n",
    "    verb = false\n",
    "end"
   ]
  },
  {
   "cell_type": "code",
   "execution_count": null,
   "metadata": {},
   "outputs": [],
   "source": [
    "@info \"Training small CPU model\"\n",
    "@time AlfvenDetectors.fit!(small_model, data, batchsize, nepochs;\n",
    "    cbit = cbit, history = small_train_history, verb = verb)"
   ]
  },
  {
   "cell_type": "code",
   "execution_count": null,
   "metadata": {},
   "outputs": [],
   "source": [
    "@info \"Training large CPU model\"\n",
    "@time AlfvenDetectors.fit!(large_model, data, batchsize, nepochs;\n",
    "    cbit = cbit, history = large_train_history, verb = verb)"
   ]
  },
  {
   "cell_type": "code",
   "execution_count": null,
   "metadata": {},
   "outputs": [],
   "source": [
    "figure()\n",
    "plot(get(small_train_history, :loss)...)\n",
    "title(\"Training loss - smaller model\")\n",
    "xlabel(\"iteration\")\n",
    "ylabel(\"loss\")"
   ]
  },
  {
   "cell_type": "code",
   "execution_count": null,
   "metadata": {},
   "outputs": [],
   "source": [
    "figure()\n",
    "plot(get(large_train_history, :loss)...)\n",
    "title(\"Training loss - larger model\")\n",
    "xlabel(\"iteration\")\n",
    "ylabel(\"loss\")"
   ]
  },
  {
   "cell_type": "code",
   "execution_count": null,
   "metadata": {},
   "outputs": [],
   "source": [
    "X = data;"
   ]
  },
  {
   "cell_type": "code",
   "execution_count": null,
   "metadata": {},
   "outputs": [],
   "source": [
    "figure()\n",
    "pcolormesh(1:size(X,2), f, X)\n",
    "title(\"Original data\")\n",
    "xlabel(\"t\")\n",
    "ylabel(\"f\")"
   ]
  },
  {
   "cell_type": "code",
   "execution_count": null,
   "metadata": {},
   "outputs": [],
   "source": [
    "figure()\n",
    "sX = small_model(X).data\n",
    "pcolormesh(1:size(sX,2), f, sX)\n",
    "title(\"AE output - smaller model\")\n",
    "xlabel(\"t\")\n",
    "ylabel(\"f\")"
   ]
  },
  {
   "cell_type": "code",
   "execution_count": null,
   "metadata": {},
   "outputs": [],
   "source": [
    "figure()\n",
    "lX = large_model(X).data\n",
    "pcolormesh(1:size(lX,2), f, lX)\n",
    "title(\"AE output - larger model\")\n",
    "xlabel(\"t\")\n",
    "ylabel(\"f\")"
   ]
  },
  {
   "cell_type": "markdown",
   "metadata": {},
   "source": [
    "## Basic training seems to work, now test the GPU version"
   ]
  },
  {
   "cell_type": "code",
   "execution_count": null,
   "metadata": {},
   "outputs": [],
   "source": [
    "# convert to CuArrays\n",
    "zdim = 2\n",
    "cudata = data |> gpu\n",
    "cumodel = AlfvenDetectors.AE([M, 20, zdim], [zdim, 20, M]) |> gpu\n",
    "cu_train_history = MVHistory()\n",
    "nepochs = 500"
   ]
  },
  {
   "cell_type": "code",
   "execution_count": null,
   "metadata": {},
   "outputs": [],
   "source": [
    "@info \"Training a small GPU model\"\n",
    "# clear cache\n",
    "GC.gc()\n",
    "@time AlfvenDetectors.fit!(cumodel, cudata, batchsize, nepochs;\n",
    "    cbit = cbit, history = cu_train_history, verb = verb)\n",
    "# clear cache\n",
    "GC.gc()"
   ]
  },
  {
   "cell_type": "code",
   "execution_count": null,
   "metadata": {},
   "outputs": [],
   "source": [
    "@info \"CPU model(data)\"\n",
    "@time small_model(data);"
   ]
  },
  {
   "cell_type": "code",
   "execution_count": null,
   "metadata": {},
   "outputs": [],
   "source": [
    "@info \"GPU model(data)\"\n",
    "@time cumodel(cudata);"
   ]
  },
  {
   "cell_type": "code",
   "execution_count": null,
   "metadata": {},
   "outputs": [],
   "source": [
    "figure()\n",
    "plot(get(cu_train_history, :loss)...)\n",
    "title(\"Training loss\")\n",
    "xlabel(\"iteration\")\n",
    "ylabel(\"loss\")"
   ]
  },
  {
   "cell_type": "code",
   "execution_count": null,
   "metadata": {},
   "outputs": [],
   "source": [
    "figure()\n",
    "X = cudata;\n",
    "_X = cumodel(X).data |> cpu\n",
    "pcolormesh(1:size(_X,2), f, _X)\n",
    "title(\"AE output with GPU training\")\n",
    "xlabel(\"t\")\n",
    "ylabel(\"f\")"
   ]
  },
  {
   "cell_type": "markdown",
   "metadata": {},
   "source": [
    "Check further memory allocation for GPUs"
   ]
  },
  {
   "cell_type": "markdown",
   "metadata": {},
   "source": [
    "## In this part, lets try to see some sort of structure in the latent code"
   ]
  },
  {
   "cell_type": "code",
   "execution_count": null,
   "metadata": {},
   "outputs": [],
   "source": [
    "# save/load a pretrained model\n",
    "f = \"large_model.bson\"\n",
    "if !isfile(f) \n",
    "    @save f large_model\n",
    "else\n",
    "    @load f large_model\n",
    "end"
   ]
  },
  {
   "cell_type": "code",
   "execution_count": null,
   "metadata": {},
   "outputs": [],
   "source": [
    "X1, t1, f1 = get_msc_array(datapath, 11096, 11)\n",
    "pcolormesh(t1, f1, X1)"
   ]
  },
  {
   "cell_type": "code",
   "execution_count": null,
   "metadata": {},
   "outputs": [],
   "source": [
    "X0, t0, f0 = get_msc_array(datapath, 11096, 20)\n",
    "pcolormesh(t0, f0, X0)"
   ]
  },
  {
   "cell_type": "code",
   "execution_count": null,
   "metadata": {},
   "outputs": [],
   "source": [
    "Xα = X1[:,1.06.<=t1.<=1.22]\n",
    "zα = large_model.encoder(Xα).data\n",
    "z1 = large_model.encoder(X1).data\n",
    "z0 = large_model.encoder(X0).data"
   ]
  },
  {
   "cell_type": "code",
   "execution_count": null,
   "metadata": {},
   "outputs": [],
   "source": [
    "figure()\n",
    "scatter(z1[1,:], z1[2,:], label = \"positive\")\n",
    "scatter(z0[1,:], z0[2,:], label = \"negative\")\n",
    "scatter(zα[1,:], zα[2,:], label = \"alfven mode\")\n",
    "legend()"
   ]
  },
  {
   "cell_type": "markdown",
   "metadata": {},
   "source": [
    "Now lets \"generate\" a new diagram."
   ]
  },
  {
   "cell_type": "code",
   "execution_count": null,
   "metadata": {},
   "outputs": [],
   "source": [
    "function connect(zs, l)\n",
    "    L = length(zs)\n",
    "    return vcat([hcat(\n",
    "    collect(range(zs[i][1], zs[i+1][1]; length = l)), \n",
    "    collect(range(zs[i][2], zs[i+1][2]; length = l))\n",
    "        )\n",
    "    for i in 1:L-1]...)\n",
    "end\n",
    "zs = [[-6.5,-0.5], [-7.5,-2], [-7.5,-4], [-4,-4.5], [0,0]]\n",
    "zpath = Array(connect(zs, 30)');"
   ]
  },
  {
   "cell_type": "code",
   "execution_count": null,
   "metadata": {},
   "outputs": [],
   "source": [
    "figure()\n",
    "scatter(z1[1,:], z1[2,:], label = \"positive\")\n",
    "scatter(z0[1,:], z0[2,:], label = \"negative\")\n",
    "scatter(zα[1,:], zα[2,:], label = \"alfven mode\")\n",
    "plot(zpath[1,:], zpath[2,:], label = \"artificial z\")\n",
    "legend()"
   ]
  },
  {
   "cell_type": "code",
   "execution_count": null,
   "metadata": {},
   "outputs": [],
   "source": [
    "Xgen = large_model.decoder(zpath).data;"
   ]
  },
  {
   "cell_type": "code",
   "execution_count": null,
   "metadata": {},
   "outputs": [],
   "source": [
    "figure()\n",
    "pcolormesh(Xgen)\n",
    "title(\"artificial coherence\")"
   ]
  },
  {
   "cell_type": "code",
   "execution_count": null,
   "metadata": {},
   "outputs": [],
   "source": [
    "show()"
   ]
  }
 ],
 "metadata": {
  "kernelspec": {
   "display_name": "Julia 1.1.0",
   "language": "julia",
   "name": "julia-1.1"
  },
  "language_info": {
   "file_extension": ".jl",
   "mimetype": "application/julia",
   "name": "julia",
   "version": "1.1.0"
  }
 },
 "nbformat": 4,
 "nbformat_minor": 2
}
