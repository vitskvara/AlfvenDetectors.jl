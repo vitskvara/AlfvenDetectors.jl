{
 "cells": [
  {
   "cell_type": "markdown",
   "metadata": {},
   "source": [
    "## Here lets try to get some data from the alfven modes and train a few autoencoders on them to see if they capture any structure in the latent layer"
   ]
  },
  {
   "cell_type": "code",
   "execution_count": null,
   "metadata": {},
   "outputs": [],
   "source": [
    "using AlfvenDetectors\n",
    "using PyPlot\n",
    "using Flux\n",
    "using CuArrays  # for GPU runs\n",
    "using ValueHistories\n",
    "using BSON: @save, @load\n",
    "using HDF5"
   ]
  },
  {
   "cell_type": "markdown",
   "metadata": {},
   "source": [
    "What we are doing is unsupervised training on columns of the magnitude squared coherence time histograms. "
   ]
  },
  {
   "cell_type": "markdown",
   "metadata": {},
   "source": [
    "### Collect the data\n",
    "\n",
    "Use shot #10370 and #11960 and several coil couples. Select only some timeslices, normalize data"
   ]
  },
  {
   "cell_type": "code",
   "execution_count": null,
   "metadata": {},
   "outputs": [],
   "source": [
    "host = gethostname()\n",
    "if occursin(\"vit\", host)\n",
    "    datapath = \"/home/vit/vyzkum/alfven/cdb_data/original_data/\"\n",
    "else\n",
    "    datapath = \"/home/skvara/work/alfven/cdb_data/original_data/\"\n",
    "end"
   ]
  },
  {
   "cell_type": "code",
   "execution_count": null,
   "metadata": {},
   "outputs": [],
   "source": [
    "function get_msc_array(datapath, shot, coil, timelim = [1.0, 1.25])\n",
    "    h5data = h5open(joinpath(datapath,\"$(shot).h5\"), \"r\")\n",
    "    t = Float32.(read(h5data, \"t\"))\n",
    "    msc = Float32.(read(h5data, \"cxy$coil\"))\n",
    "    f = Float32.(read(h5data, \"f\"))    \n",
    "    tinds = timelim[1] .<= t .<= timelim[2]\n",
    "    return msc[:,tinds], t[tinds], f \n",
    "end"
   ]
  },
  {
   "cell_type": "code",
   "execution_count": null,
   "metadata": {},
   "outputs": [],
   "source": [
    "msc, t, f = get_msc_array(datapath, 11096, 18)"
   ]
  },
  {
   "cell_type": "code",
   "execution_count": null,
   "metadata": {},
   "outputs": [],
   "source": [
    "pcolormesh(t,f,msc)"
   ]
  },
  {
   "cell_type": "code",
   "execution_count": null,
   "metadata": {},
   "outputs": [],
   "source": [
    "function collect_msc(datapath, shot, coils)\n",
    "    datalist = map(x-> get_msc_array(datapath, shot, x), coils)\n",
    "    return hcat([x[1] for x in datalist]...), datalist[1][3]\n",
    "end"
   ]
  },
  {
   "cell_type": "code",
   "execution_count": null,
   "metadata": {},
   "outputs": [],
   "source": [
    "shots_coils = [\n",
    "#    [10370, [12, 15, 17, 20]],\n",
    "    [10370, [12, 20]],\n",
    "#    [11096, [11, 8, 17, 20]]\n",
    "    [11096, [11, 8, 20]]\n",
    "]\n",
    "datalist = map(x->collect_msc(datapath, x[1], x[2]), shots_coils)\n",
    "data, f = hcat([x[1] for x in datalist]...), datalist[1][2]"
   ]
  },
  {
   "cell_type": "code",
   "execution_count": null,
   "metadata": {},
   "outputs": [],
   "source": [
    "pcolormesh(1:size(data,2), f, data)"
   ]
  },
  {
   "cell_type": "markdown",
   "metadata": {},
   "source": [
    "### Now that we have the data, construct a TSVAE\n",
    "\n",
    "Larger dimension of middle layer is beneficial, but improvement from 10 to 20 is much alrger than from 20 to 200.\n",
    "\n",
    "Reconstruction works even with zdim = 2 although there are some artifacts."
   ]
  },
  {
   "cell_type": "markdown",
   "metadata": {},
   "source": [
    "## Basic training seems to work, now test the GPU version"
   ]
  },
  {
   "cell_type": "code",
   "execution_count": null,
   "metadata": {},
   "outputs": [],
   "source": [
    "# convert to CuArrays\n",
    "zdim = 2\n",
    "N = size(data,1)\n",
    "verb = false\n",
    "cudata = data |> gpu\n",
    "model = AlfvenDetectors.TSVAE(N, zdim, 2) |> gpu\n",
    "train_history = (MVHistory(), MVHistory())\n",
    "nepochs = 100\n",
    "batchsize = Int(size(data,2)/5)\n",
    "cbit = 1"
   ]
  },
  {
   "cell_type": "code",
   "execution_count": null,
   "metadata": {},
   "outputs": [],
   "source": [
    "@info \"Training a large GPU model with less epochs in more iterations\"\n",
    "# clear cache\n",
    "for i in 1:5\n",
    "    @time AlfvenDetectors.fit!(model, cudata, batchsize, nepochs;\n",
    "        cbit = cbit, history = train_history, verb = verb)\n",
    "    # clear cache\n",
    "    GC.gc()\n",
    "end"
   ]
  },
  {
   "cell_type": "code",
   "execution_count": null,
   "metadata": {},
   "outputs": [],
   "source": [
    "@info \"GPU model(data) timing\"\n",
    "@time model(cudata);"
   ]
  },
  {
   "cell_type": "code",
   "execution_count": null,
   "metadata": {},
   "outputs": [],
   "source": [
    "figure()\n",
    "plot(get(train_history[1], :loss)...,label = \"loss\")\n",
    "plot(get(train_history[1], :loglikelihood)..., label=\"-loglikelihood\")\n",
    "plot(get(train_history[1], :KL)..., label=\"KL\")\n",
    "title(\"Training loss of model 1\")\n",
    "xlabel(\"iteration\")\n",
    "ylabel(\"loss\")\n",
    "legend()"
   ]
  },
  {
   "cell_type": "code",
   "execution_count": null,
   "metadata": {},
   "outputs": [],
   "source": [
    "figure()\n",
    "plot(get(train_history[2], :loss)...,label = \"loss\")\n",
    "plot(get(train_history[2], :loglikelihood)..., label=\"-loglikelihood\")\n",
    "plot(get(train_history[2], :KL)..., label=\"KL\")\n",
    "title(\"Training loss of model 2\")\n",
    "xlabel(\"iteration\")\n",
    "ylabel(\"loss\")\n",
    "legend()"
   ]
  },
  {
   "cell_type": "code",
   "execution_count": null,
   "metadata": {},
   "outputs": [],
   "source": [
    "cpumodel = model |> cpu\n",
    "figure()\n",
    "rdata = cpumodel(data).data\n",
    "\n",
    "pcolormesh(AlfvenDetectors.mu_scalarvar(rdata))\n",
    "title(\"TSVAE output with GPU training - mean\")\n",
    "xlabel(\"t\")\n",
    "ylabel(\"f\")\n",
    "\n",
    "figure()\n",
    "pcolormesh(AlfvenDetectors.samplenormal_scalarvar(rdata))\n",
    "title(\"TSVAE output with GPU training - sampled\")\n",
    "xlabel(\"t\")\n",
    "ylabel(\"f\")\n",
    "\n",
    "figure()\n",
    "gendata = AlfvenDetectors.sample(cpumodel,100).data\n",
    "pcolormesh(gendata)\n",
    "title(\"TSVAE output with GPU training - generated\")\n",
    "xlabel(\"t\")\n",
    "ylabel(\"f\")\n"
   ]
  },
  {
   "cell_type": "markdown",
   "metadata": {},
   "source": [
    "Check further memory allocation for GPUs"
   ]
  },
  {
   "cell_type": "markdown",
   "metadata": {},
   "source": [
    "## In this part, lets try to see some sort of structure in the latent code"
   ]
  },
  {
   "cell_type": "code",
   "execution_count": null,
   "metadata": {},
   "outputs": [],
   "source": [
    "# save/load a pretrained model\n",
    "cpumodel = model |> cpu\n",
    "f = \"tsvae_model.bson\"\n",
    "if !isfile(f) \n",
    "    @save f cpumodel\n",
    "else\n",
    "    @load f cpumodel\n",
    "end"
   ]
  },
  {
   "cell_type": "code",
   "execution_count": null,
   "metadata": {},
   "outputs": [],
   "source": [
    "X1, t1, f1 = get_msc_array(datapath, 11096, 11)\n",
    "pcolormesh(t1, f1, X1)"
   ]
  },
  {
   "cell_type": "code",
   "execution_count": null,
   "metadata": {},
   "outputs": [],
   "source": [
    "X0, t0, f0 = get_msc_array(datapath, 11096, 20)\n",
    "pcolormesh(t0, f0, X0)"
   ]
  },
  {
   "cell_type": "code",
   "execution_count": null,
   "metadata": {},
   "outputs": [],
   "source": [
    "Xα = X1[:,1.06.<=t1.<=1.22]\n",
    "zα = AlfvenDetectors.samplenormal(cpumodel.m1.encoder(Xα).data)\n",
    "z1 = AlfvenDetectors.samplenormal(cpumodel.m1.encoder(X1).data)\n",
    "z0 = AlfvenDetectors.samplenormal(cpumodel.m1.encoder(X0).data)"
   ]
  },
  {
   "cell_type": "code",
   "execution_count": null,
   "metadata": {},
   "outputs": [],
   "source": [
    "figure()\n",
    "scatter(z1[1,:], z1[2,:], label = \"positive\")\n",
    "scatter(z0[1,:], z0[2,:], label = \"negative\")\n",
    "scatter(zα[1,:], zα[2,:], label = \"alfven mode\")\n",
    "title(\"latent space of model 1\")\n",
    "legend()"
   ]
  },
  {
   "cell_type": "markdown",
   "metadata": {},
   "source": [
    "Also, lets checkout the latent code in the second model."
   ]
  },
  {
   "cell_type": "code",
   "execution_count": null,
   "metadata": {},
   "outputs": [],
   "source": [
    "uα = cpumodel.m2.encoder(zα).data\n",
    "u1 = cpumodel.m2.encoder(z1).data\n",
    "u0 = cpumodel.m2.encoder(z0).data"
   ]
  },
  {
   "cell_type": "code",
   "execution_count": null,
   "metadata": {},
   "outputs": [],
   "source": [
    "figure()\n",
    "scatter(u1[1,:], u1[2,:], label = \"positive\")\n",
    "scatter(u0[1,:], u0[2,:], label = \"negative\")\n",
    "scatter(uα[1,:], uα[2,:], label = \"alfven mode\")\n",
    "title(\"latent space of model 2 - means\")\n",
    "legend()\n",
    "\n",
    "su1 = AlfvenDetectors.samplenormal(u1)\n",
    "su0 = AlfvenDetectors.samplenormal(u0)\n",
    "suα = AlfvenDetectors.samplenormal(uα)\n",
    "figure()\n",
    "scatter(su1[1,:], su1[2,:], label = \"positive\")\n",
    "scatter(su0[1,:], su0[2,:], label = \"negative\")\n",
    "scatter(suα[1,:], suα[2,:], label = \"alfven mode\")\n",
    "legend()\n",
    "title(\"latent space of model 2 - sampled\")\n",
    "\n"
   ]
  }
 ],
 "metadata": {
  "kernelspec": {
   "display_name": "Julia 1.1.0",
   "language": "julia",
   "name": "julia-1.1"
  },
  "language_info": {
   "file_extension": ".jl",
   "mimetype": "application/julia",
   "name": "julia",
   "version": "1.1.0"
  }
 },
 "nbformat": 4,
 "nbformat_minor": 2
}
