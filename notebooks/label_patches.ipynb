{
 "cells": [
  {
   "cell_type": "code",
   "execution_count": null,
   "metadata": {},
   "outputs": [],
   "source": [
    "using PyPlot\n",
    "using AlfvenDetectors\n",
    "using DelimitedFiles"
   ]
  },
  {
   "cell_type": "code",
   "execution_count": null,
   "metadata": {},
   "outputs": [],
   "source": [
    "datapath = \"/home/vit/vyzkum/alfven/cdb_data/uprobe_data/\""
   ]
  },
  {
   "cell_type": "code",
   "execution_count": null,
   "metadata": {},
   "outputs": [],
   "source": [
    "files = readdir(datapath);\n",
    "length(files)"
   ]
  },
  {
   "cell_type": "code",
   "execution_count": null,
   "metadata": {},
   "outputs": [],
   "source": [
    "patchsize = 128\n",
    "outpath = \"/home/vit/.julia/environments/v1.1/dev/AlfvenDetectors/experiments/conv/data/\"\n",
    "outfile = joinpath(outpath,\"labeled_patches.csv\")\n",
    "labelarray = Array{Any,2}([\"shot\" \"tstart\" \"fstart\" \"label\"])"
   ]
  },
  {
   "cell_type": "code",
   "execution_count": null,
   "metadata": {},
   "outputs": [],
   "source": [
    "data,header=readdlm(outfile,',',header=true)"
   ]
  },
  {
   "cell_type": "markdown",
   "metadata": {},
   "source": [
    "### If there are some saved labels already, load them into the label array"
   ]
  },
  {
   "cell_type": "code",
   "execution_count": null,
   "metadata": {},
   "outputs": [],
   "source": [
    "labelarray = readdlm(outfile,',')"
   ]
  },
  {
   "cell_type": "markdown",
   "metadata": {},
   "source": [
    "### First show the full shot"
   ]
  },
  {
   "cell_type": "code",
   "execution_count": null,
   "metadata": {},
   "outputs": [],
   "source": [
    "shotno = 10000 + 418\n",
    "file = joinpath(datapath, filter(x->occursin(\"$shotno\", x), files)[1])\n",
    "data = AlfvenDetectors.get_signal(file, AlfvenDetectors.readnormlogupsd);\n",
    "t = AlfvenDetectors.get_signal(file, AlfvenDetectors.readtupsd);\n",
    "f = AlfvenDetectors.readfupsd(file);\n",
    "size(data)\n",
    "cmap = \"inferno\"\n",
    "figure(figsize=(10,5))\n",
    "title(shotno)\n",
    "pcolormesh(t,f,data,cmap=cmap)"
   ]
  },
  {
   "cell_type": "markdown",
   "metadata": {},
   "source": [
    "### Then cut just the chirp data"
   ]
  },
  {
   "cell_type": "code",
   "execution_count": null,
   "metadata": {},
   "outputs": [],
   "source": [
    "figure(figsize=(10,5))\n",
    "title(shotno)\n",
    "ylim = [500000,1300000]\n",
    "xlim = [1.06, 1.1]\n",
    "yinds = ylim[1] .< f .< ylim[2]\n",
    "xinds = xlim[1] .< t .< xlim[2]\n",
    "pcolormesh(t[xinds],f[yinds],data[yinds,xinds],cmap=cmap)\n",
    "xlabel(\"t [s]\")\n",
    "ylabel(\"f [Hz]\")"
   ]
  },
  {
   "cell_type": "markdown",
   "metadata": {},
   "source": [
    "### Finally, cut the individual patches"
   ]
  },
  {
   "cell_type": "code",
   "execution_count": null,
   "metadata": {},
   "outputs": [],
   "source": [
    "#fstart = fpatch[end]\n",
    "tstart = tpatch[end]\n",
    "#fstart = minimum(f)\n",
    "#tstart = minimum(t)\n",
    "tinds = tstart .< t\n",
    "finds = fstart .< f\n",
    "tpatch = t[tinds][1:patchsize]\n",
    "fpatch = f[finds][1:patchsize]\n",
    "patch = data[finds,tinds][1:patchsize,1:patchsize]\n",
    "pcolormesh(tpatch, fpatch, patch,cmap=cmap)\n",
    "label = 0"
   ]
  },
  {
   "cell_type": "code",
   "execution_count": null,
   "metadata": {},
   "outputs": [],
   "source": [
    "labelarray = vcat(labelarray, [shotnotstart fstart label])"
   ]
  },
  {
   "cell_type": "code",
   "execution_count": null,
   "metadata": {},
   "outputs": [],
   "source": [
    "savearray = deepcopy(labelarray)"
   ]
  },
  {
   "cell_type": "code",
   "execution_count": null,
   "metadata": {},
   "outputs": [],
   "source": [
    "writedlm(outfile, savearray, \",\")"
   ]
  },
  {
   "cell_type": "code",
   "execution_count": null,
   "metadata": {},
   "outputs": [],
   "source": [
    "readdir(joinpath(dirname(pathof(AlfvenDetectors)), \"../experiments/conv/data\"))"
   ]
  }
 ],
 "metadata": {
  "kernelspec": {
   "display_name": "Julia 1.1.0",
   "language": "julia",
   "name": "julia-1.1"
  },
  "language_info": {
   "file_extension": ".jl",
   "mimetype": "application/julia",
   "name": "julia",
   "version": "1.1.0"
  }
 },
 "nbformat": 4,
 "nbformat_minor": 2
}
