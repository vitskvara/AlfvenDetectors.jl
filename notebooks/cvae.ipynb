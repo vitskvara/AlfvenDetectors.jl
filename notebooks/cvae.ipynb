{
 "cells": [
  {
   "cell_type": "code",
   "execution_count": null,
   "metadata": {},
   "outputs": [],
   "source": [
    "using AlfvenDetectors\n",
    "using PyPlot\n",
    "using Flux\n",
    "using BSON"
   ]
  },
  {
   "cell_type": "code",
   "execution_count": null,
   "metadata": {},
   "outputs": [],
   "source": [
    "datapath = \"/home/vit/vyzkum/alfven/cdb_data/data_sample/\""
   ]
  },
  {
   "cell_type": "code",
   "execution_count": null,
   "metadata": {},
   "outputs": [],
   "source": [
    "shots = readdir(datapath)"
   ]
  },
  {
   "cell_type": "code",
   "execution_count": null,
   "metadata": {},
   "outputs": [],
   "source": [
    "shotno = 10893\n",
    "filename = joinpath(datapath, \"Jldata$(shotno).h5\")"
   ]
  },
  {
   "cell_type": "code",
   "execution_count": null,
   "metadata": {},
   "outputs": [],
   "source": [
    "data = AlfvenDetectors.Float.(AlfvenDetectors.get_ft_signal(filename, AlfvenDetectors.readnormlogupsd));"
   ]
  },
  {
   "cell_type": "code",
   "execution_count": null,
   "metadata": {},
   "outputs": [],
   "source": [
    "pcolormesh(data)"
   ]
  },
  {
   "cell_type": "code",
   "execution_count": null,
   "metadata": {},
   "outputs": [],
   "source": [
    "# now split the data into patches\n",
    "function split_horizontal(data::AbstractArray,width)\n",
    "    splits = collect(1:width:size(data,2))\n",
    "    return map(x->data[:,x[1]:x[2]-1], zip(splits[1:end-1], splits[2:end]))\n",
    "end\n",
    "function split_horizontal(data::AbstractVector,width)\n",
    "    splits = collect(1:width:size(data,2))\n",
    "    return map(x->data[x[1]:x[2]-1], zip(splits[1:end-1], splits[2:end]))\n",
    "end\n",
    "\"\"\"\n",
    "    reshape4conv(data::AbstractVector)\n",
    "\n",
    "Reshape a vector of array into a M x N x 1 x L array.\n",
    "\"\"\"\n",
    "function reshape4conv(data::AbstractVector)\n",
    "    res = Array{typeof(data[1][1]),4}(undef,size(data[1])...,1,length(data))\n",
    "    for i in 1:length(data_split)\n",
    "        res[:,:,1,i] = data_split[i]\n",
    "    end\n",
    "    return res\n",
    "end\n"
   ]
  },
  {
   "cell_type": "code",
   "execution_count": null,
   "metadata": {},
   "outputs": [],
   "source": [
    "width = 32\n",
    "data_split = split_horizontal(data,width);\n",
    "# make it a MxNx1xK array\n",
    "data_array = reshape4conv(data_split);"
   ]
  },
  {
   "cell_type": "code",
   "execution_count": null,
   "metadata": {},
   "outputs": [],
   "source": [
    "for i in 1:30\n",
    "    figure()\n",
    "    pcolormesh(data_array[:,:,1,i])\n",
    "end"
   ]
  },
  {
   "cell_type": "code",
   "execution_count": null,
   "metadata": {},
   "outputs": [],
   "source": [
    "layer = Flux.Conv((3,3), 1=>16, pad=(1,1),relu)\n",
    "trainx = reshape(data_array[:,:,1,1], size(data_array[:,:,1,1])...,1,1)\n",
    "trainx512 = trainx[1:end-1,:,:,:]\n",
    "layer(trainx)"
   ]
  },
  {
   "cell_type": "code",
   "execution_count": null,
   "metadata": {},
   "outputs": [],
   "source": [
    "function update(model, optimiser)\n",
    "    for p in params(model)\n",
    "        Δ = Flux.Optimise.apply!(optimiser, p.data, p.grad)\n",
    "        p.data .-= Δ\n",
    "        Δ .= 0\n",
    "    end\n",
    "end"
   ]
  },
  {
   "cell_type": "markdown",
   "metadata": {},
   "source": [
    "### Since ConvTranspose does not work, lets try uspcaling"
   ]
  },
  {
   "cell_type": "code",
   "execution_count": null,
   "metadata": {},
   "outputs": [],
   "source": [
    "function honeszeros(T,segment,length,i)\n",
    "    res = zeros(T,1,segment*length)\n",
    "    res[((i-1)*segment+1):i*segment] = ones(T,1,segment)\n",
    "    return res\n",
    "end\n",
    "function voneszeros(T,segment,length,i)\n",
    "    res = zeros(T,segment*length)\n",
    "    res[((i-1)*segment+1):i*segment] = ones(T,segment)\n",
    "    return res\n",
    "end"
   ]
  },
  {
   "cell_type": "code",
   "execution_count": null,
   "metadata": {},
   "outputs": [],
   "source": [
    "@time honeszeros(Float32,2,3,3)\n",
    "@time voneszeros(Float32,2,3,3)"
   ]
  },
  {
   "cell_type": "code",
   "execution_count": null,
   "metadata": {},
   "outputs": [],
   "source": [
    "hscalemat(T,scale,n) = vcat([honeszeros(T,scale,n,i) for i in 1:n]...)\n",
    "vscalemat(T,scale,n) = hcat([voneszeros(T,scale,n,i) for i in 1:n]...)"
   ]
  },
  {
   "cell_type": "code",
   "execution_count": null,
   "metadata": {},
   "outputs": [],
   "source": [
    "@time hscalemat(Float32, 2, 3)\n",
    "@time vscalemat(Float32, 2, 2)"
   ]
  },
  {
   "cell_type": "code",
   "execution_count": null,
   "metadata": {},
   "outputs": [],
   "source": [
    "x = randn(Float32,2,3)\n",
    "vscalemat(Float32,4,2)*x*hscalemat(Float32,2,3)"
   ]
  },
  {
   "cell_type": "code",
   "execution_count": null,
   "metadata": {},
   "outputs": [],
   "source": [
    "\"\"\"\n",
    "    upscale(x::AbstractArray, scale)\n",
    "\n",
    "Upscale a 2D array by the integer number given in scale tuple. Works\n",
    "even for 3D and 4D array in the first two dimensions.\n",
    "\"\"\"\n",
    "function upscale(x::AbstractArray{T,2}, scale) where T\n",
    "    m,n = size(x)\n",
    "    V = vscalemat(T,scale[1],m)\n",
    "    H = hscalemat(T,scale[2],n)\n",
    "    return V*x*H\n",
    "end\n",
    "function upscale(x::AbstractArray{T,3}, scale) where T\n",
    "    M,N,C = size(x)\n",
    "    # this is important - the array must be of the same type as x, not T\n",
    "    res = Array{typeof(x[1]),3}(undef,M*scale[1],N*scale[2],C)\n",
    "    for c in 1:C\n",
    "        res[:,:,c] = upscale(x[:,:,c],scale)\n",
    "    end\n",
    "    return Tracker.collect(res)\n",
    "end\n",
    "function upscale(x::AbstractArray{T,4}, scale) where T\n",
    "    M,N,C,K = size(x)\n",
    "    # this is important - the array must be of the same type as x, not T\n",
    "    res = Array{typeof(x[1]),4}(undef,M*scale[1],N*scale[2],C,K)\n",
    "    for c in 1:C\n",
    "        for k in 1:K\n",
    "            res[:,:,c,k] = upscale(x[:,:,c,k],scale)\n",
    "        end\n",
    "    end\n",
    "    return Tracker.collect(res)\n",
    "end"
   ]
  },
  {
   "cell_type": "code",
   "execution_count": null,
   "metadata": {},
   "outputs": [],
   "source": [
    "layer = Flux.Conv((1,1),1=>1)\n",
    "a = randn(3,2,1,1)\n",
    "b = layer(a)"
   ]
  },
  {
   "cell_type": "code",
   "execution_count": null,
   "metadata": {},
   "outputs": [],
   "source": [
    "@time upscale(b[:,:,1,1],(2,3))"
   ]
  },
  {
   "cell_type": "code",
   "execution_count": null,
   "metadata": {},
   "outputs": [],
   "source": [
    "@time upscale(b[:,:,:,1],(2,3))"
   ]
  },
  {
   "cell_type": "code",
   "execution_count": null,
   "metadata": {},
   "outputs": [],
   "source": [
    "@time upscale(b,(2,3))"
   ]
  },
  {
   "cell_type": "markdown",
   "metadata": {},
   "source": [
    "### backprop through upscale"
   ]
  },
  {
   "cell_type": "code",
   "execution_count": null,
   "metadata": {},
   "outputs": [],
   "source": [
    "X = randn(Float32,24,24,1,1);"
   ]
  },
  {
   "cell_type": "code",
   "execution_count": null,
   "metadata": {},
   "outputs": [],
   "source": [
    "model = Flux.Chain(\n",
    "    # 24x24x2x1\n",
    "    Flux.Conv((3,3), 1=>4, pad=(1,1)),\n",
    "    # 24x24x4x1\n",
    "    x->maxpool(x,(3,2)),\n",
    "    # 8x12x4x1\n",
    "    Flux.Conv((3,3), 4=>8, pad=(1,1)),\n",
    "    # 8x12x8x1\n",
    "    x->maxpool(x,(2,2)),\n",
    "    # 4x6x8x1\n",
    "    x->reshape(x,:,size(x,4)),\n",
    "    # 192x1\n",
    "    Flux.Dense(192,64,relu),\n",
    "    # 64x1\n",
    "    Flux.Dense(64,192),\n",
    "    # 192x1\n",
    "    x->reshape(x,4,6,8,:),\n",
    "    # 4x6x8x1\n",
    "    x->upscale(x,(3,2)),\n",
    "    # 12x12x8x1\n",
    "    Flux.Conv((3,3), 8=>4, pad=(1,1)),\n",
    "    # 12x12x4x1\n",
    "    x->upscale(x,(2,2)),\n",
    "    # 24x24x4x1\n",
    "    Flux.Conv((3,3), 4=>1, pad=(1,1))\n",
    "    # 24x24x1x1\n",
    ")"
   ]
  },
  {
   "cell_type": "code",
   "execution_count": null,
   "metadata": {},
   "outputs": [],
   "source": [
    "Y=model(X)"
   ]
  },
  {
   "cell_type": "code",
   "execution_count": null,
   "metadata": {},
   "outputs": [],
   "source": [
    "X"
   ]
  },
  {
   "cell_type": "code",
   "execution_count": null,
   "metadata": {},
   "outputs": [],
   "source": [
    "loss(x) = Flux.mse(model(x),x)\n",
    "opt = ADAM()"
   ]
  },
  {
   "cell_type": "code",
   "execution_count": null,
   "metadata": {},
   "outputs": [],
   "source": [
    "@time L = loss(X)"
   ]
  },
  {
   "cell_type": "code",
   "execution_count": null,
   "metadata": {},
   "outputs": [],
   "source": [
    "@time Flux.back!(L)\n",
    "@time update(model, opt)"
   ]
  },
  {
   "cell_type": "code",
   "execution_count": null,
   "metadata": {},
   "outputs": [],
   "source": [
    "@time for i in 1:5000\n",
    "    L=loss(X)\n",
    "    Flux.back!(L)\n",
    "    update(model,opt)\n",
    "    if i%500==0\n",
    "        println(L)\n",
    "    end\n",
    "end"
   ]
  },
  {
   "cell_type": "code",
   "execution_count": null,
   "metadata": {},
   "outputs": [],
   "source": [
    "opt.eta=0.0001"
   ]
  },
  {
   "cell_type": "markdown",
   "metadata": {},
   "source": [
    "### does backpropagation through cat work? - yes"
   ]
  },
  {
   "cell_type": "code",
   "execution_count": null,
   "metadata": {},
   "outputs": [],
   "source": [
    "X = randn(3,4)\n",
    "layer = Flux.Dense(3,2)\n",
    "f(x) = cat(x,zeros(1,size(x,2)),dims=1)\n",
    "catloss(x) = Flux.mse(f(layer(x)),x)\n",
    "opt = ADAM()\n",
    "f(layer(X))"
   ]
  },
  {
   "cell_type": "code",
   "execution_count": null,
   "metadata": {},
   "outputs": [],
   "source": [
    "l=catloss(X)"
   ]
  },
  {
   "cell_type": "code",
   "execution_count": null,
   "metadata": {},
   "outputs": [],
   "source": [
    "Flux.back!(l)\n",
    "update(layer,opt)"
   ]
  },
  {
   "cell_type": "markdown",
   "metadata": {},
   "source": [
    "### try the double cat backprop"
   ]
  },
  {
   "cell_type": "code",
   "execution_count": null,
   "metadata": {},
   "outputs": [],
   "source": [
    "function hpad(x::AbstractArray,width)\n",
    "    M,N,C,K = size(x)\n",
    "    return cat(x, zeros(typeof(x[1]), M,width,C,K),dims=2)\n",
    "end\n",
    "function vpad(x::AbstractArray,width)\n",
    "    M,N,C,K = size(x)\n",
    "    return cat(x, zeros(typeof(x[1]), width,N,C,K),dims=1)\n",
    "end"
   ]
  },
  {
   "cell_type": "code",
   "execution_count": null,
   "metadata": {},
   "outputs": [],
   "source": [
    "function pad(x::AbstractArray{T,4},widths) where T\n",
    "    M,N,C,K = size(x)\n",
    "    return cat(cat(x, zeros(T, M,widths[2],C,K),dims=2), zeros(T, widths[1], N+widths[2],C,K),dims=1)\n",
    "end"
   ]
  },
  {
   "cell_type": "code",
   "execution_count": null,
   "metadata": {},
   "outputs": [],
   "source": [
    "function pad(x::AbstractArray{T,2},widths) where T\n",
    "    M,N = size(x)\n",
    "    return cat(cat(x, zeros(T,M,widths[2]),dims=2), zeros(T, widths[1], N+widths[2]),dims=1)\n",
    "end"
   ]
  },
  {
   "cell_type": "code",
   "execution_count": null,
   "metadata": {},
   "outputs": [],
   "source": [
    "X = randn(Float32,3,4,1,1)\n",
    "layer = Flux.Conv((2,2),1=>1)\n",
    "pad(layer(X),(1,1))\n",
    "doublecatloss(x) = Flux.mse(x,pad(layer(x),(1,1)))\n",
    "opt = ADAM()"
   ]
  },
  {
   "cell_type": "code",
   "execution_count": null,
   "metadata": {},
   "outputs": [],
   "source": [
    "l = doublecatloss(X)"
   ]
  },
  {
   "cell_type": "code",
   "execution_count": null,
   "metadata": {},
   "outputs": [],
   "source": [
    "Flux.back!(l)\n",
    "update(layer,opt)"
   ]
  },
  {
   "cell_type": "markdown",
   "metadata": {},
   "source": [
    "### backpro trough a single Conv layer works"
   ]
  },
  {
   "cell_type": "code",
   "execution_count": null,
   "metadata": {},
   "outputs": [],
   "source": [
    "layer = Flux.Conv((3,3), 1=>1, pad=(1,1))\n",
    "X = randn(Float32,4,4,1,1)"
   ]
  },
  {
   "cell_type": "code",
   "execution_count": null,
   "metadata": {},
   "outputs": [],
   "source": [
    "testloss(x) = Flux.mse(x,layer(x))\n",
    "opt = ADAM()"
   ]
  },
  {
   "cell_type": "code",
   "execution_count": null,
   "metadata": {},
   "outputs": [],
   "source": [
    "L= testloss(X)"
   ]
  },
  {
   "cell_type": "code",
   "execution_count": null,
   "metadata": {},
   "outputs": [],
   "source": [
    "Flux.back!(L)\n",
    "update(layer,opt)"
   ]
  },
  {
   "cell_type": "markdown",
   "metadata": {},
   "source": [
    "### backprop through conv + maxpool - OK"
   ]
  },
  {
   "cell_type": "code",
   "execution_count": null,
   "metadata": {},
   "outputs": [],
   "source": [
    "layer = Flux.Chain(\n",
    "    Flux.Conv((3,3), 1=>1, pad=(3,3)),\n",
    "    x->maxpool(x,(2,2))\n",
    "    )\n",
    "X = randn(Float32,4,4,1,1)"
   ]
  },
  {
   "cell_type": "code",
   "execution_count": null,
   "metadata": {},
   "outputs": [],
   "source": [
    "layer(X)"
   ]
  },
  {
   "cell_type": "code",
   "execution_count": null,
   "metadata": {},
   "outputs": [],
   "source": [
    "testloss(x) = Flux.mse(x,layer(x))\n",
    "opt = ADAM()"
   ]
  },
  {
   "cell_type": "code",
   "execution_count": null,
   "metadata": {},
   "outputs": [],
   "source": [
    "L= testloss(X)"
   ]
  },
  {
   "cell_type": "code",
   "execution_count": null,
   "metadata": {},
   "outputs": [],
   "source": [
    "Flux.back!(L)\n",
    "update(layer,opt)"
   ]
  },
  {
   "cell_type": "markdown",
   "metadata": {},
   "source": [
    "### backprop through conv + convtranspose - OK"
   ]
  },
  {
   "cell_type": "code",
   "execution_count": null,
   "metadata": {},
   "outputs": [],
   "source": [
    "layer = Flux.Chain(\n",
    "    Flux.Conv((3,3), 1=>1, pad=(0,0)),\n",
    "    Flux.ConvTranspose((3,3), 1=>1)\n",
    "    )\n",
    "X = randn(Float32,4,4,1,1)"
   ]
  },
  {
   "cell_type": "code",
   "execution_count": null,
   "metadata": {},
   "outputs": [],
   "source": [
    "layer(X)"
   ]
  },
  {
   "cell_type": "code",
   "execution_count": null,
   "metadata": {},
   "outputs": [],
   "source": [
    "testloss(x) = Flux.mse(x,layer(x))\n",
    "opt = ADAM()"
   ]
  },
  {
   "cell_type": "code",
   "execution_count": null,
   "metadata": {},
   "outputs": [],
   "source": [
    "L= testloss(X)"
   ]
  },
  {
   "cell_type": "code",
   "execution_count": null,
   "metadata": {},
   "outputs": [],
   "source": [
    "Flux.back!(L)\n",
    "update(layer,opt)"
   ]
  },
  {
   "cell_type": "markdown",
   "metadata": {},
   "source": [
    "### backprop through conv + maxpool + convtranspose - OK"
   ]
  },
  {
   "cell_type": "code",
   "execution_count": null,
   "metadata": {},
   "outputs": [],
   "source": [
    "layer = Flux.Chain(\n",
    "    Flux.Conv((3,3), 1=>1, pad=(0,0)),\n",
    "    x->maxpool(x,(1,1)),\n",
    "    Flux.ConvTranspose((3,3), 1=>1)\n",
    "    )\n",
    "X = randn(Float32,4,4,1,1)"
   ]
  },
  {
   "cell_type": "code",
   "execution_count": null,
   "metadata": {},
   "outputs": [],
   "source": [
    "layer(X)"
   ]
  },
  {
   "cell_type": "code",
   "execution_count": null,
   "metadata": {},
   "outputs": [],
   "source": [
    "testloss(x) = Flux.mse(x,layer(x))\n",
    "opt = ADAM()"
   ]
  },
  {
   "cell_type": "code",
   "execution_count": null,
   "metadata": {},
   "outputs": [],
   "source": [
    "L= testloss(X)"
   ]
  },
  {
   "cell_type": "code",
   "execution_count": null,
   "metadata": {},
   "outputs": [],
   "source": [
    "Flux.back!(L)\n",
    "update(layer,opt)"
   ]
  },
  {
   "cell_type": "markdown",
   "metadata": {},
   "source": [
    "### backprop through conv + maxpool something + convtranspose - OK"
   ]
  },
  {
   "cell_type": "code",
   "execution_count": null,
   "metadata": {},
   "outputs": [],
   "source": [
    "layer = Flux.Chain(\n",
    "    Flux.Conv((3,3), 1=>1, pad=(0,0)),\n",
    "    x->maxpool(x,(2,2)),\n",
    "    Flux.ConvTranspose((2,2), 1=>1, pad=(-1,-1))\n",
    "    )\n",
    "X = randn(Float32,4,4,1,1)"
   ]
  },
  {
   "cell_type": "code",
   "execution_count": null,
   "metadata": {},
   "outputs": [],
   "source": [
    "layer(X)"
   ]
  },
  {
   "cell_type": "code",
   "execution_count": null,
   "metadata": {},
   "outputs": [],
   "source": [
    "testloss(x) = Flux.mse(x,layer(x))\n",
    "opt = ADAM()"
   ]
  },
  {
   "cell_type": "code",
   "execution_count": null,
   "metadata": {},
   "outputs": [],
   "source": [
    "L= testloss(X)"
   ]
  },
  {
   "cell_type": "code",
   "execution_count": null,
   "metadata": {},
   "outputs": [],
   "source": [
    "Flux.back!(L)\n",
    "update(layer,opt)"
   ]
  },
  {
   "cell_type": "markdown",
   "metadata": {},
   "source": [
    "### now put it all together with some dense layersin between"
   ]
  },
  {
   "cell_type": "code",
   "execution_count": null,
   "metadata": {},
   "outputs": [],
   "source": [
    "# this model works well\n",
    "model = Flux.Chain(\n",
    "    Flux.Conv((3,3), 1=>1, pad=(0,0)),\n",
    "    x->maxpool(x,(2,2)),\n",
    "    Flux.ConvTranspose((2,2), 1=>1, stride=(2,2), pad=(-1,-1))\n",
    ")"
   ]
  },
  {
   "cell_type": "code",
   "execution_count": null,
   "metadata": {},
   "outputs": [],
   "source": [
    "# this one too\n",
    "model = Flux.Chain(\n",
    "    Flux.Conv((3,3), 1=>1, pad=(0,0)),\n",
    "    x->maxpool(x,(2,2)),\n",
    "    Flux.ConvTranspose((3,3), 1=>1, stride=(2,2), pad=(0,0)),\n",
    "    x->pad(x, (1,1))\n",
    ")"
   ]
  },
  {
   "cell_type": "code",
   "execution_count": null,
   "metadata": {},
   "outputs": [],
   "source": [
    "# this one too\n",
    "model = Flux.Chain(\n",
    "    Flux.Conv((3,3), 1=>2, pad=(0,0)),\n",
    "    x->maxpool(x,(2,2)),\n",
    "    Flux.ConvTranspose((3,3), 2=>1, stride=(2,2), pad=(0,0)),\n",
    "    x->pad(x, (1,1))\n",
    ")"
   ]
  },
  {
   "cell_type": "code",
   "execution_count": null,
   "metadata": {},
   "outputs": [],
   "source": [
    "# \n",
    "model = Flux.Chain(\n",
    "    Flux.Conv((3,3), 1=>2, pad=(0,0)),\n",
    "    x->maxpool(x,(2,2)),\n",
    "    x->reshape(x,:,size(x,4)),\n",
    "    x->reshape(x,)\n",
    "    Flux.ConvTranspose((3,3), 2=>1, stride=(2,2), pad=(0,0)),\n",
    "    x->pad(x, (1,1))\n",
    ")"
   ]
  },
  {
   "cell_type": "code",
   "execution_count": null,
   "metadata": {},
   "outputs": [],
   "source": [
    "# \n",
    "model = Flux.Chain(\n",
    "    Flux.Conv((3,3), 1=>2, pad=(0,0)),\n",
    "    x->maxpool(x,(2,2),pad=(1,1)),\n",
    "    Flux.ConvTranspose((3,3), 2=>1, stride=(2,2), pad=(1,1))\n",
    ")"
   ]
  },
  {
   "cell_type": "code",
   "execution_count": null,
   "metadata": {},
   "outputs": [],
   "source": [
    "model(trainx)"
   ]
  },
  {
   "cell_type": "code",
   "execution_count": null,
   "metadata": {},
   "outputs": [],
   "source": [
    "Flux.Chain(\n",
    "    Flux.Conv((3,3), 1=>2, pad=(0,0)),\n",
    "    x->maxpool(x,(2,2),pad=(1,1)))(trainx)\n"
   ]
  },
  {
   "cell_type": "code",
   "execution_count": null,
   "metadata": {},
   "outputs": [],
   "source": [
    "testloss(x) = Flux.mse(x,layer(x))\n",
    "opt = ADAM()"
   ]
  },
  {
   "cell_type": "code",
   "execution_count": null,
   "metadata": {},
   "outputs": [],
   "source": [
    "L= testloss(trainx512)"
   ]
  },
  {
   "cell_type": "code",
   "execution_count": null,
   "metadata": {},
   "outputs": [],
   "source": [
    "Flux.back!(L)\n",
    "update(layer,opt)"
   ]
  },
  {
   "cell_type": "code",
   "execution_count": null,
   "metadata": {},
   "outputs": [],
   "source": [
    "y=reshape(trainx,:,size(trainx,4))\n",
    "reshape(y,513,32,1,1)"
   ]
  },
  {
   "cell_type": "markdown",
   "metadata": {},
   "source": [
    "### Lets try autoencoders"
   ]
  },
  {
   "cell_type": "code",
   "execution_count": null,
   "metadata": {},
   "outputs": [],
   "source": [
    "encoder = Flux.Chain(\n",
    "    Flux.Conv((3,3), 1=>8, pad=(1,1),relu),\n",
    "    x->maxpool(x,(4,1)),\n",
    "    \n",
    "    Flux.Conv((3,3), 8=>16, pad=(1,1), relu),\n",
    "    x->maxpool(x,(4,2)),\n",
    "    \n",
    "    Flux.Conv((3,3), 16=>32, pad=(1,1), relu),\n",
    "    x->maxpool(x,(4,2)),\n",
    "    \n",
    "    x->reshape(x,:,size(x,4)),\n",
    "    \n",
    "    Flux.Dense(2048, 16)\n",
    ")"
   ]
  },
  {
   "cell_type": "code",
   "execution_count": null,
   "metadata": {},
   "outputs": [],
   "source": [
    "y = encoder(trainx);\n",
    "#_y = y[1:Int(size(y,1)/2),:];\n",
    "size(y)"
   ]
  },
  {
   "cell_type": "code",
   "execution_count": null,
   "metadata": {},
   "outputs": [],
   "source": [
    "decoder = Flux.Chain(\n",
    "    Flux.Dense(16,2048,relu),\n",
    "    x-> reshape(x,8,8,32,size(x,2)),\n",
    "    \n",
    "    Flux.ConvTranspose((3,3), 32=>16, stride=(4,2),pad=(0,1)),\n",
    "    x->pad(x,(1,1)),\n",
    "    Flux.ConvTranspose((3,3), 16=>8, stride=(4,2),pad=(0,1)),\n",
    "    x->pad(x,(1,1)),\n",
    "    Flux.ConvTranspose((3,3), 8=>1, stride=(4,1),pad=(0,1)),\n",
    "    x->pad(x,(1,0)),\n",
    "    Flux.ConvTranspose((3,3), 1=>1, stride=(1,1),pad=(1,1))\n",
    ")"
   ]
  },
  {
   "cell_type": "code",
   "execution_count": null,
   "metadata": {},
   "outputs": [],
   "source": [
    "loss(x) = Flux.mse(x,model(x))\n",
    "opt = ADAM()"
   ]
  },
  {
   "cell_type": "code",
   "execution_count": null,
   "metadata": {},
   "outputs": [],
   "source": [
    "L = loss(trainx2)"
   ]
  },
  {
   "cell_type": "code",
   "execution_count": null,
   "metadata": {},
   "outputs": [],
   "source": [
    "Flux.back!(L)"
   ]
  }
 ],
 "metadata": {
  "kernelspec": {
   "display_name": "Julia 1.1.0",
   "language": "julia",
   "name": "julia-1.1"
  },
  "language_info": {
   "file_extension": ".jl",
   "mimetype": "application/julia",
   "name": "julia",
   "version": "1.1.0"
  }
 },
 "nbformat": 4,
 "nbformat_minor": 2
}
