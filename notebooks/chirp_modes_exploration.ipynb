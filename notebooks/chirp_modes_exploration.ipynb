{
 "cells": [
  {
   "cell_type": "markdown",
   "metadata": {},
   "source": [
    "## This notebook contains visualisation of the several shots with chirping modes from logbook_learning. It should lead to labelling positive and negative samples"
   ]
  },
  {
   "cell_type": "code",
   "execution_count": null,
   "metadata": {},
   "outputs": [],
   "source": [
    "using PyPlot\n",
    "using AlfvenDetectors"
   ]
  },
  {
   "cell_type": "code",
   "execution_count": null,
   "metadata": {},
   "outputs": [],
   "source": [
    "chirp_path = \"/home/vit/vyzkum/alfven/cdb_data/chirp_modes_learning/\"\n",
    "original_path = \"/home/vit/vyzkum/alfven/cdb_data/original_data\""
   ]
  },
  {
   "cell_type": "code",
   "execution_count": null,
   "metadata": {},
   "outputs": [],
   "source": [
    "#f = joinpath(datapath, \"10870.h5\")\n",
    "#testdata = AlfvenDetectors.BaseAlfvenData(f);"
   ]
  },
  {
   "cell_type": "code",
   "execution_count": null,
   "metadata": {},
   "outputs": [],
   "source": [
    "function show_coherence(data::AlfvenDetectors.BaseAlfvenData, coil, tlim = [1.0, 1.25])\n",
    "    PyPlot.pcolormesh(data.t, data.f, data.msc[coil])\n",
    "    xlim(tlim)\n",
    "end\n",
    "\n",
    "function show_coherence(path::String, shot, coil)\n",
    "    _data = AlfvenDetectors.BaseAlfvenData(joinpath(path, \"$(shot).h5\"), [coil])\n",
    "    show_coherence(_data, coil)\n",
    "end"
   ]
  },
  {
   "cell_type": "markdown",
   "metadata": {},
   "source": [
    "### Original shots selected by Ales"
   ]
  },
  {
   "cell_type": "code",
   "execution_count": null,
   "metadata": {},
   "outputs": [],
   "source": [
    "println(readdir(original_path))"
   ]
  },
  {
   "cell_type": "code",
   "execution_count": null,
   "metadata": {},
   "outputs": [],
   "source": [
    "show_coherence(original_path, 11096, 10)"
   ]
  },
  {
   "cell_type": "markdown",
   "metadata": {},
   "source": [
    "Useful for autoencoder training:\n",
    "\n",
    "Visible steady mode at ~500kHz, coil 13: almost everything\n",
    "\n",
    "Something else at coil 13: 10376.\n",
    "\n",
    "Instead take a few shots and draw data from all the coil slices so that we have mutliple types of columns."
   ]
  },
  {
   "cell_type": "markdown",
   "metadata": {},
   "source": [
    "### Chirp modes selected by Jakub or from the general logbook\n",
    "\n",
    "Jakub said \"\n",
    "\n",
    "\"ranni\" mod: 10870, 10893, 10866, 10514\n",
    "\n",
    "\"ten druhy\" mod: 10800\n",
    "\n",
    "oba mody: 14490, 14500 (+ dalsi vysokofrekvencni bursty jsou videt jen na U-probe, na Mirnovovkach ne)\n",
    "\n",
    "na U-probe ano, na Mirnovovkach ne (a nelze tudis rozlisit co): 13082, 13130 nic: 13132 specialni pripad - 13069, 13070\n",
    "\n",
    "\"\n",
    "\n",
    "the rest was described by Tomas as having a discernible chirping mode."
   ]
  },
  {
   "cell_type": "code",
   "execution_count": null,
   "metadata": {},
   "outputs": [],
   "source": [
    "println(readdir(chirp_path))"
   ]
  },
  {
   "cell_type": "code",
   "execution_count": null,
   "metadata": {},
   "outputs": [],
   "source": [
    "show_coherence(chirp_path, 10870, 13)"
   ]
  }
 ],
 "metadata": {
  "kernelspec": {
   "display_name": "Julia 1.1.0",
   "language": "julia",
   "name": "julia-1.1"
  },
  "language_info": {
   "file_extension": ".jl",
   "mimetype": "application/julia",
   "name": "julia",
   "version": "1.1.0"
  }
 },
 "nbformat": 4,
 "nbformat_minor": 2
}
