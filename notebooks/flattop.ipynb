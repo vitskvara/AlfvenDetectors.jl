{
 "cells": [
  {
   "cell_type": "markdown",
   "metadata": {},
   "source": [
    "## In this notebook we will develop a lightweight algorithm for determining the flattop phase from the plasma current"
   ]
  },
  {
   "cell_type": "code",
   "execution_count": null,
   "metadata": {},
   "outputs": [],
   "source": [
    "using AlfvenDetectors\n",
    "using PyPlot\n",
    "using StatsBase"
   ]
  },
  {
   "cell_type": "code",
   "execution_count": null,
   "metadata": {},
   "outputs": [],
   "source": [
    "datapath = \"/home/vit/vyzkum/alfven/cdb_data/data_sample/\";"
   ]
  },
  {
   "cell_type": "code",
   "execution_count": null,
   "metadata": {},
   "outputs": [],
   "source": [
    "shots = readdir(datapath)"
   ]
  },
  {
   "cell_type": "code",
   "execution_count": null,
   "metadata": {},
   "outputs": [],
   "source": [
    "function getip()\n",
    "    Ip = []\n",
    "    for shot in shots\n",
    "        push!(Ip, AlfvenDetectors.readip(joinpath(datapath, shot)))\n",
    "    end\n",
    "    return Ip\n",
    "end"
   ]
  },
  {
   "cell_type": "code",
   "execution_count": null,
   "metadata": {},
   "outputs": [],
   "source": [
    "Ips = getip();\n",
    "filter!(x->length(x)>1,Ips)\n",
    "N = length(Ips)"
   ]
  },
  {
   "cell_type": "code",
   "execution_count": null,
   "metadata": {},
   "outputs": [],
   "source": [
    "for i in 1:N\n",
    "    subplot(ceil(Int, N/2),2,i)\n",
    "    plot(Ips[i])\n",
    "end"
   ]
  },
  {
   "cell_type": "code",
   "execution_count": null,
   "metadata": {},
   "outputs": [],
   "source": [
    "for i in 1:N\n",
    "    subplot(ceil(Int, N/2),2,i)\n",
    "    ip = AlfvenDetectors.makepositive(Ips[i])\n",
    "    ts = collect(1:length(ip))\n",
    "    plot(ts,ip)\n",
    "    ftinds = AlfvenDetectors.maxflattop(ip)\n",
    "    plot(ts[ftinds], ip[ftinds])\n",
    "end"
   ]
  },
  {
   "cell_type": "markdown",
   "metadata": {},
   "source": [
    "### what about the derivative"
   ]
  },
  {
   "cell_type": "code",
   "execution_count": null,
   "metadata": {},
   "outputs": [],
   "source": [
    "for i in 1:N\n",
    "    subplot(ceil(Int, N/2),2,i)\n",
    "    ip = AlfvenDetectors.makepositive(Ips[i])\n",
    "    dipdt = diff(ip)\n",
    "    plot(dipdt)\n",
    "end"
   ]
  },
  {
   "cell_type": "code",
   "execution_count": null,
   "metadata": {},
   "outputs": [],
   "source": [
    "for i in 1:N\n",
    "    subplot(ceil(Int, N/2),2,i)\n",
    "    ip = AlfvenDetectors.makepositive(Ips[i])\n",
    "    dipdt = diff(ip)\n",
    "    #dipdt = diff(movingmean(ip,10))\n",
    "    plot(AlfvenDetectors.movingmean(dipdt,10))\n",
    "end"
   ]
  },
  {
   "cell_type": "code",
   "execution_count": null,
   "metadata": {},
   "outputs": [],
   "source": [
    "for i in 1:N\n",
    "    subplot(ceil(Int, N/2),2,i)\n",
    "    ip = AlfvenDetectors.makepositive(Ips[i])\n",
    "    ts = collect(1:length(ip))\n",
    "    plot(ts, ip)\n",
    "    inds = AlfvenDetectors.diffflattop(ip)\n",
    "    scatter(ts[inds], ip[inds],c=\"r\")\n",
    "end"
   ]
  },
  {
   "cell_type": "code",
   "execution_count": null,
   "metadata": {},
   "outputs": [],
   "source": [
    "for i in 1:N\n",
    "    subplot(ceil(Int, N/2),2,i)\n",
    "    ip = AlfvenDetectors.makepositive(Ips[i])\n",
    "    ts = collect(1:length(ip))\n",
    "#    plot(ts, ip)\n",
    "    inds = AlfvenDetectors.diffflattop(ip,1e-4,wl=10)\n",
    "    scatter(ts[inds], ip[inds],c=\"r\",s=2)\n",
    "end"
   ]
  },
  {
   "cell_type": "markdown",
   "metadata": {},
   "source": [
    "### combine them together"
   ]
  },
  {
   "cell_type": "code",
   "execution_count": null,
   "metadata": {},
   "outputs": [],
   "source": [
    "for i in 1:N\n",
    "    subplot(ceil(Int, N/2),2,i)\n",
    "    ip = AlfvenDetectors.makepositive(Ips[i])\n",
    "    ts = collect(1:length(ip))\n",
    "    plot(ts, ip)\n",
    "    inds = AlfvenDetectors.diffmaxflattop(ip,0.6,1e-4;wl=10)\n",
    "    plot(ts[inds], ip[inds])\n",
    "end"
   ]
  },
  {
   "cell_type": "code",
   "execution_count": null,
   "metadata": {},
   "outputs": [],
   "source": [
    "for i in 1:N\n",
    "    subplot(ceil(Int, N/2),2,i)\n",
    "    ip = AlfvenDetectors.makepositive(Ips[i])\n",
    "    ts = collect(1:length(ip))\n",
    "    plot(ts, ip)\n",
    "    start,stop = AlfvenDetectors.flattopbe(ip,0.6,8e-4;wl=20)\n",
    "    if stop-start > 100\n",
    "        plot(ts[start:stop], ip[start:stop])\n",
    "    end\n",
    "end"
   ]
  }
 ],
 "metadata": {
  "kernelspec": {
   "display_name": "Julia 1.1.0",
   "language": "julia",
   "name": "julia-1.1"
  },
  "language_info": {
   "file_extension": ".jl",
   "mimetype": "application/julia",
   "name": "julia",
   "version": "1.1.0"
  }
 },
 "nbformat": 4,
 "nbformat_minor": 2
}
