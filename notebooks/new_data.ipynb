{
 "cells": [
  {
   "cell_type": "code",
   "execution_count": 1,
   "metadata": {},
   "outputs": [
    {
     "name": "stderr",
     "output_type": "stream",
     "text": [
      "┌ Info: Recompiling stale cache file /home/vit/.julia/compiled/v1.1/AlfvenDetectors/VqnlF.ji for AlfvenDetectors [5e555b46-3391-11e9-1beb-e9498a8cd634]\n",
      "└ @ Base loading.jl:1184\n"
     ]
    }
   ],
   "source": [
    "using PyPlot\n",
    "using HDF5\n",
    "using AlfvenDetectors"
   ]
  },
  {
   "cell_type": "code",
   "execution_count": 2,
   "metadata": {},
   "outputs": [
    {
     "data": {
      "text/plain": [
       "\"/home/vit/vyzkum/alfven/cdb_data/uprobe_data/\""
      ]
     },
     "execution_count": 2,
     "metadata": {},
     "output_type": "execute_result"
    }
   ],
   "source": [
    "datapath = \"/home/vit/vyzkum/alfven/cdb_data/uprobe_data/\""
   ]
  },
  {
   "cell_type": "code",
   "execution_count": 3,
   "metadata": {},
   "outputs": [
    {
     "data": {
      "text/plain": [
       "1028"
      ]
     },
     "execution_count": 3,
     "metadata": {},
     "output_type": "execute_result"
    }
   ],
   "source": [
    "files = readdir(datapath);\n",
    "length(files)"
   ]
  },
  {
   "cell_type": "code",
   "execution_count": null,
   "metadata": {},
   "outputs": [],
   "source": [
    "shotno = 10000 + 243\n",
    "file = joinpath(datapath, filter(x->occursin(\"$shotno\", x), files)[1])\n",
    "readfun = \n",
    "data = AlfvenDetectors.get_signal(file, AlfvenDetectors.readnormlogupsd);\n",
    "readt(x;warns=false) = AlfvenDetectors.readsignal(x, \"t_Uprobe\"; warns=warns)\n",
    "t = AlfvenDetectors.get_signal(file, readt);\n",
    "f = AlfvenDetectors.readsignal(file, \"f_Uprobe\");\n",
    "size(data)\n",
    "cmap = \"inferno\"\n",
    "figure(figsize=(10,5))\n",
    "title(shotno)\n",
    "pcolormesh(t,f,data,cmap=cmap)"
   ]
  },
  {
   "cell_type": "code",
   "execution_count": null,
   "metadata": {},
   "outputs": [],
   "source": [
    "figure(figsize=(10,5))\n",
    "title(shotno)\n",
    "ylim = [1300000,1500000]\n",
    "xlim = [1.06, 1.1]\n",
    "yinds = ylim[1] .< f .< ylim[2]\n",
    "xinds = xlim[1] .< t .< xlim[2]\n",
    "pcolormesh(t[xinds],f[yinds],data[yinds,xinds],cmap=cmap)\n",
    "xlabel(\"t [s]\")\n",
    "ylabel(\"f [Hz]\")"
   ]
  },
  {
   "cell_type": "code",
   "execution_count": null,
   "metadata": {},
   "outputs": [],
   "source": [
    "coil = 12\n",
    "mirnovdata = AlfvenDetectors.readmscamp(file,coil)\n",
    "mt = AlfvenDetectors.readsignal(file,\"t_cohere\")\n",
    "ft = AlfvenDetectors.readsignal(file,\"f_cohere\")\n",
    "pcolormesh(mt,ft,mirnovdata,cmap=cmap)"
   ]
  }
 ],
 "metadata": {
  "kernelspec": {
   "display_name": "Julia 1.1.0",
   "language": "julia",
   "name": "julia-1.1"
  },
  "language_info": {
   "file_extension": ".jl",
   "mimetype": "application/julia",
   "name": "julia",
   "version": "1.1.0"
  }
 },
 "nbformat": 4,
 "nbformat_minor": 2
}
