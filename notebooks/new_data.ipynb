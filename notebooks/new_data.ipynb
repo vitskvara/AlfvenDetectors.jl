{
 "cells": [
  {
   "cell_type": "code",
   "execution_count": null,
   "metadata": {},
   "outputs": [],
   "source": [
    "ausing PyPlot\n",
    "using HDF5"
   ]
  },
  {
   "cell_type": "code",
   "execution_count": null,
   "metadata": {},
   "outputs": [],
   "source": [
    "datapath = \"/home/vit/vyzkum/alfven/cdb_data/data_sample\""
   ]
  },
  {
   "cell_type": "code",
   "execution_count": null,
   "metadata": {},
   "outputs": [],
   "source": [
    "readdir(datapath)"
   ]
  },
  {
   "cell_type": "code",
   "execution_count": null,
   "metadata": {},
   "outputs": [],
   "source": [
    "data = h5read(joinpath(datapath, \"Jldata10893.h5\"), \"/\")"
   ]
  },
  {
   "cell_type": "code",
   "execution_count": null,
   "metadata": {},
   "outputs": [],
   "source": [
    "coil = 12\n",
    "\n",
    "X = data[\"Mirnov_coil_A&C_theta_$(coil)_coherems\"]\n",
    "f = data[\"f_cohere\"]\n",
    "t = data[\"t_cohere\"]\n",
    "figure()\n",
    "pcolormesh(t,f,X)\n",
    "title(\"coil $coil coherence magnitude\")\n",
    "\n",
    "X = data[\"Mirnov_coil_A&C_theta_$(coil)_cpsdphase\"]\n",
    "f = data[\"f_cohere\"]\n",
    "t = data[\"t_cohere\"]\n",
    "figure()\n",
    "pcolormesh(t,f,X)\n",
    "title(\"coil $coil coherence phase\")\n",
    "\n",
    "X = data[\"Uprobe_coil_A1pol_psd\"]\n",
    "f = data[\"f_Uprobe\"]\n",
    "t = data[\"t_Uprobe\"]\n",
    "figure()\n",
    "pcolormesh(t,f,20*log10.(X.+1e-6))\n",
    "title(\"U probe log(psd)\")"
   ]
  }
 ],
 "metadata": {
  "kernelspec": {
   "display_name": "Julia 1.1.0",
   "language": "julia",
   "name": "julia-1.1"
  },
  "language_info": {
   "file_extension": ".jl",
   "mimetype": "application/julia",
   "name": "julia",
   "version": "1.1.0"
  }
 },
 "nbformat": 4,
 "nbformat_minor": 2
}
