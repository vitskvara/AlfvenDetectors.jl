{
 "cells": [
  {
   "cell_type": "code",
   "execution_count": null,
   "metadata": {},
   "outputs": [],
   "source": [
    "using PyPlot\n",
    "using HDF5\n",
    "using AlfvenDetectors"
   ]
  },
  {
   "cell_type": "code",
   "execution_count": null,
   "metadata": {},
   "outputs": [],
   "source": [
    "datapath = \"/home/vit/vyzkum/alfven/cdb_data/data_sample\""
   ]
  },
  {
   "cell_type": "code",
   "execution_count": null,
   "metadata": {},
   "outputs": [],
   "source": [
    "files = readdir(datapath)"
   ]
  },
  {
   "cell_type": "code",
   "execution_count": null,
   "metadata": {},
   "outputs": [],
   "source": [
    "shotno = 10000 + 892\n",
    "file = joinpath(datapath, filter(x->occursin(\"$shotno\", x), files)[1])\n",
    "data = AlfvenDetectors.readnormlogupsd(file);\n",
    "f = AlfvenDetectors.readsignal(file, \"f_Uprobe\")\n",
    "t = AlfvenDetectors.readsignal(file, \"t_Uprobe\")\n",
    "size(data)"
   ]
  },
  {
   "cell_type": "code",
   "execution_count": null,
   "metadata": {},
   "outputs": [],
   "source": [
    "cmap = \"inferno\"\n",
    "figure(figsize=(10,5))\n",
    "title(shotno)\n",
    "pcolormesh(t,f,data,cmap=cmap)\n",
    "figure(figsize=(10,5))\n",
    "title(shotno)\n",
    "ylim = [800000,1600000]\n",
    "xlim = [1.01, 1.08]\n",
    "yinds = ylim[1] .< f .< ylim[2]\n",
    "xinds = xlim[1] .< t .< xlim[2]\n",
    "pcolormesh(t[xinds],f[yinds],data[yinds,xinds],cmap=cmap)\n",
    "xlabel(\"t [s]\")\n",
    "ylabel(\"f [Hz]\")"
   ]
  },
  {
   "cell_type": "code",
   "execution_count": null,
   "metadata": {},
   "outputs": [],
   "source": [
    "coil = 12\n",
    "mirnovdata = AlfvenDetectors.readmscamp(file,coil)\n",
    "mt = AlfvenDetectors.readsignal(file,\"t_cohere\")\n",
    "ft = AlfvenDetectors.readsignal(file,\"f_cohere\")\n",
    "pcolormesh(mt,ft,mirnovdata,cmap=cmap)"
   ]
  }
 ],
 "metadata": {
  "kernelspec": {
   "display_name": "Julia 1.1.0",
   "language": "julia",
   "name": "julia-1.1"
  },
  "language_info": {
   "file_extension": ".jl",
   "mimetype": "application/julia",
   "name": "julia",
   "version": "1.1.0"
  }
 },
 "nbformat": 4,
 "nbformat_minor": 2
}
